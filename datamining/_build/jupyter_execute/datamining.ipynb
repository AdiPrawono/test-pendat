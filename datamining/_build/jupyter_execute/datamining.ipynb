{
 "cells": [
  {
   "block_group": "56b4135896274b1fb0c5250b87fa5b78",
   "cell_type": "markdown",
   "metadata": {
    "cell_id": "a9df438b495f408dac6745081c1564af",
    "deepnote_cell_type": "text-cell-h1",
    "formattedRanges": []
   },
   "source": [
    "# Studi Kasus Kualitas Red Wine Vinho Verde samples"
   ]
  },
  {
   "block_group": "13c4bcf7cdbe44f99559634f9e21ea14",
   "cell_type": "markdown",
   "metadata": {
    "cell_id": "aa25fd71e1f642b9ae6ee9f986d318ae",
    "deepnote_cell_type": "text-cell-h1",
    "formattedRanges": []
   },
   "source": [
    "# Tujuan Analisis"
   ]
  },
  {
   "block_group": "af872452161c47aba060036797a4462d",
   "cell_type": "markdown",
   "metadata": {
    "cell_id": "25b572f8bc854446b2b197401e24cc53",
    "deepnote_cell_type": "text-cell-p",
    "formattedRanges": []
   },
   "source": [
    "Pekerjaan ini menunjukkan, bagaimana analisis statistik dapat digunakan untuk mengidentifikasi komponen-komponen yang utama mengontrol kualitas dari anggur merah vinho verde sebelum produksi. Ini akan membantu pabrikan untuk mengontrol kualitas sebelum produksi anggur. Selain itu dari hasil analisis  data ini diharapkan dapat memberikan panduan bagi kebun anggur mengenai kualitas dan harga yang diharapkan dari produk mereka tanpa terlalu bergantung pada volatilitas pencicip anggur. Dua kumpulan data disertakan, terkait dengan sampel anggur vinho verde merah, dari utara Portugal. Tujuannya adalah untuk memodelkan kualitas anggur berdasarkan uji fisikokimia. Data dikumpulkan mengenai 12 sifat anggur yang berbeda, salah satunya adalah Kualitas, berdasarkan Quality, based on sensory data, density, acidity, alcohol content, dan lain-lain. "
   ]
  },
  {
   "block_group": "02a01fed6366462ab1354edeb3ab98c6",
   "cell_type": "markdown",
   "metadata": {
    "cell_id": "ef39c255db334bdf85f50dc2063ffb33",
    "deepnote_cell_type": "text-cell-h1",
    "formattedRanges": []
   },
   "source": [
    "# Data Understanding"
   ]
  },
  {
   "block_group": "71bd22d270934c3cb63390f03b581d49",
   "cell_type": "markdown",
   "metadata": {
    "cell_id": "c9d428ad00314b9cbc272bd6ca8e22de",
    "deepnote_cell_type": "text-cell-h2",
    "formattedRanges": []
   },
   "source": [
    "## Deskripsi Data"
   ]
  },
  {
   "block_group": "32116006adf64938b97ca2270f126ede",
   "cell_type": "markdown",
   "metadata": {
    "cell_id": "324eded714f64d15b9a09b3aac74d631",
    "deepnote_app_block_visible": false,
    "deepnote_cell_type": "text-cell-h3",
    "formattedRanges": [],
    "is_collapsed": false
   },
   "source": [
    "### Mengetahui kualitas anggur (wine quality)"
   ]
  },
  {
   "block_group": "2ff79b4cc5f04943b19a7c7101cbac0e",
   "cell_type": "markdown",
   "metadata": {
    "cell_id": "2bfd7a62f4bb47c59092c705c4cae32d",
    "deepnote_cell_type": "text-cell-p",
    "formattedRanges": []
   },
   "source": [
    "Wine merupakan minuman beralkohol yang terbuat dari hasil fermentasi anaerob jus buah\r",
    " anggur tanpa kehadiran O2. Keseimbangan sifat alami yang terkandung pada buah anggur\r",
    " dapat menyebabkan buah tersebut difermentasi tanpa penambahan gula, asam, enzyme, maupun\r\n",
    "nutrisi lain. Pembuatan wine dengan cara fermentasi jus buah anggur ini menggunakan khamir\r",
    " tertentu yang kemudian kandungan gula yang ada pada buah anggur tersebut akan dikonsumsi oleh\r",
    " yeast (ragi) dan mengubahnya menjadi alcohol. Jenis anggur yang berbeda dan strain khamir yang\r",
    " digunakan, tergantung pada jenis wine yang akan di produksi. Dalam memproduksi wine,\r",
    " komposisi yang digunakan harus mempunyai kandungan nutrisi tinggi, mempunyai keasaman yang\r",
    " tinggi sehingga dapat menghambat pertumbuhan mikroba yang tidak diinginkan, kandungan gula\r",
    " cukup tinggi dan aroma yang sedap, oleh itu qualitas wine harus diutamakan."
   ]
  },
  {
   "block_group": "17aa93d1dc32419184ef65ccd43b6503",
   "cell_type": "markdown",
   "metadata": {
    "cell_id": "1f077ba6d287442c8db585631fd3e86f",
    "deepnote_cell_type": "image",
    "deepnote_img_src": "image-20240425-190617.png",
    "deepnote_img_width": "50%"
   },
   "source": [
    "<img src=\"image-20240425-190617.png\" width=\"50%\" align=\"\" />"
   ]
  },
  {
   "block_group": "05a20cdc36f94fdbb04bea80ced1f3a7",
   "cell_type": "markdown",
   "metadata": {
    "cell_id": "9f47f7c0c8974edb8377e664f2c8ae56",
    "deepnote_cell_type": "text-cell-p",
    "formattedRanges": [
     {
      "fromCodePoint": 0,
      "marks": {
       "bold": true
      },
      "toCodePoint": 5,
      "type": "marks"
     }
    ]
   },
   "source": [
    "Fitur yang digunakan dalam dataset ini yaitu:"
   ]
  },
  {
   "block_group": "6b23a7f3c1974375a5e8ea1e4477f188",
   "cell_type": "markdown",
   "metadata": {
    "cell_id": "d8c78a49cbe14ca780cb408f1e259f12",
    "deepnote_app_block_visible": false,
    "deepnote_cell_type": "text-cell-bullet",
    "formattedRanges": [],
    "is_collapsed": false
   },
   "source": [
    "- fixed_acidity"
   ]
  },
  {
   "block_group": "d2646f2ab35a4f799b80026b46c732b0",
   "cell_type": "markdown",
   "metadata": {
    "cell_id": "fa91198c9b124bfdbed489f777d635bd",
    "deepnote_app_block_visible": false,
    "deepnote_cell_type": "text-cell-bullet",
    "formattedRanges": [],
    "is_collapsed": false
   },
   "source": [
    "- volatile_acidity"
   ]
  },
  {
   "block_group": "5e8250d2763147c28dd1caf61fe9aa54",
   "cell_type": "markdown",
   "metadata": {
    "cell_id": "0b631c9e024e496b88bac965a62c2cd4",
    "deepnote_app_block_visible": false,
    "deepnote_cell_type": "text-cell-bullet",
    "formattedRanges": [],
    "is_collapsed": false
   },
   "source": [
    "- citric_acid"
   ]
  },
  {
   "block_group": "8fbea6229aa041a7aa9226d01cf8d21c",
   "cell_type": "markdown",
   "metadata": {
    "cell_id": "5a78e51953ed4e5aad0a6a17b50df81b",
    "deepnote_app_block_visible": false,
    "deepnote_cell_type": "text-cell-bullet",
    "formattedRanges": [],
    "is_collapsed": false
   },
   "source": [
    "- residual_sugar"
   ]
  },
  {
   "block_group": "be2384d387c64769a5bf2c0c9cb0089b",
   "cell_type": "markdown",
   "metadata": {
    "cell_id": "3cc4b964f7fd4966b59f1418d84aa140",
    "deepnote_app_block_visible": false,
    "deepnote_cell_type": "text-cell-bullet",
    "formattedRanges": [],
    "is_collapsed": false
   },
   "source": [
    "- chlorides"
   ]
  },
  {
   "block_group": "a2241936ea4f42d8be44e3fe96dedda1",
   "cell_type": "markdown",
   "metadata": {
    "cell_id": "1d509e81daf04e52bce8e89c52fbc208",
    "deepnote_app_block_visible": false,
    "deepnote_cell_type": "text-cell-bullet",
    "formattedRanges": [],
    "is_collapsed": false
   },
   "source": [
    "- free_sulfur_dioxide"
   ]
  },
  {
   "block_group": "ce3ad786a9ef447ebccca53af81f3653",
   "cell_type": "markdown",
   "metadata": {
    "cell_id": "c6b35cc947654c75b971c7486d0ff6f4",
    "deepnote_app_block_visible": false,
    "deepnote_cell_type": "text-cell-bullet",
    "formattedRanges": [],
    "is_collapsed": false
   },
   "source": [
    "- total_sulfur_dioxide\t"
   ]
  },
  {
   "block_group": "83c7808a6b23443ea9e5a994256b7486",
   "cell_type": "markdown",
   "metadata": {
    "cell_id": "5b121a99567f4cd19a6b2d4cfa04626b",
    "deepnote_app_block_visible": false,
    "deepnote_cell_type": "text-cell-bullet",
    "formattedRanges": [],
    "is_collapsed": false
   },
   "source": [
    "- density"
   ]
  },
  {
   "block_group": "09973c19c12a437e82a01017d1949851",
   "cell_type": "markdown",
   "metadata": {
    "cell_id": "b42a209f7587429293dbfac2191e7a62",
    "deepnote_app_block_visible": false,
    "deepnote_cell_type": "text-cell-bullet",
    "formattedRanges": [],
    "is_collapsed": false
   },
   "source": [
    "- pH"
   ]
  },
  {
   "block_group": "c30aa7ee763a49ccb3bea3d2e8de22b4",
   "cell_type": "markdown",
   "metadata": {
    "cell_id": "03f136fc4e774ef797d27981d4c99424",
    "deepnote_app_block_visible": false,
    "deepnote_cell_type": "text-cell-bullet",
    "formattedRanges": [],
    "is_collapsed": false
   },
   "source": [
    "- sulphates"
   ]
  },
  {
   "block_group": "0354872d44ad4980b4d2c96145dee601",
   "cell_type": "markdown",
   "metadata": {
    "cell_id": "bd491b22ed964404b714f8b73a343b80",
    "deepnote_app_block_visible": false,
    "deepnote_cell_type": "text-cell-p",
    "formattedRanges": [],
    "is_collapsed": false
   },
   "source": [
    "Dalam dataset ini menggunakan 1 class yaitu class quality."
   ]
  },
  {
   "block_group": "aec5ee9d34cb4c02a692b0091d48a3a0",
   "cell_type": "markdown",
   "metadata": {
    "cell_id": "ebe3cf2582954175910bcf6e0957d581",
    "deepnote_cell_type": "text-cell-h3",
    "formattedRanges": []
   },
   "source": [
    "### Menampilkan Data dari Database"
   ]
  },
  {
   "block_group": "f313f47b21694c2894cb44ef8e35c7b7",
   "cell_type": "code",
   "content_dependencies": null,
   "execution_count": 1,
   "metadata": {
    "cell_id": "9dfc90d6ada846eb8bedf931e6815272",
    "deepnote_cell_type": "sql",
    "deepnote_sql_source": "select * from wine",
    "deepnote_to_be_reexecuted": false,
    "deepnote_variable_name": "df_2",
    "execution_millis": 4173,
    "execution_start": 1718197897605,
    "source_hash": null,
    "sql_integration_id": "c489ccac-4e04-45a8-9afe-862b142176eb"
   },
   "outputs": [
    {
     "ename": "NameError",
     "evalue": "name '_deepnote_execute_sql' is not defined",
     "output_type": "error",
     "traceback": [
      "\u001b[1;31m---------------------------------------------------------------------------\u001b[0m",
      "\u001b[1;31mNameError\u001b[0m                                 Traceback (most recent call last)",
      "Cell \u001b[1;32mIn[1], line 1\u001b[0m\n\u001b[1;32m----> 1\u001b[0m df_2 \u001b[38;5;241m=\u001b[39m \u001b[43m_deepnote_execute_sql\u001b[49m(\u001b[38;5;124m'\u001b[39m\u001b[38;5;124mselect * from wine\u001b[39m\u001b[38;5;124m'\u001b[39m, \u001b[38;5;124m'\u001b[39m\u001b[38;5;124mSQL_C489CCAC_4E04_45A8_9AFE_862B142176EB\u001b[39m\u001b[38;5;124m'\u001b[39m, audit_sql_comment\u001b[38;5;241m=\u001b[39m\u001b[38;5;124m'\u001b[39m\u001b[38;5;124m'\u001b[39m, sql_cache_mode\u001b[38;5;241m=\u001b[39m\u001b[38;5;124m'\u001b[39m\u001b[38;5;124mcache_disabled\u001b[39m\u001b[38;5;124m'\u001b[39m)\n\u001b[0;32m      2\u001b[0m df_2\n",
      "\u001b[1;31mNameError\u001b[0m: name '_deepnote_execute_sql' is not defined"
     ]
    }
   ],
   "outputs_reference": "s3:deepnote-cell-outputs-production/0c3756c7-f272-48bb-9cdd-877f1b93c51c",
   "source": [
    "df_2 = _deepnote_execute_sql('select * from wine', 'SQL_C489CCAC_4E04_45A8_9AFE_862B142176EB', audit_sql_comment='', sql_cache_mode='cache_disabled')\n",
    "df_2"
   ]
  },
  {
   "block_group": "d9d4aeb3a6a446d9a9559c738a01f4d9",
   "cell_type": "markdown",
   "metadata": {
    "cell_id": "17c25dc693424ea1a4f348e538ac1776",
    "deepnote_app_block_visible": false,
    "deepnote_cell_type": "text-cell-h3",
    "formattedRanges": [],
    "is_collapsed": false
   },
   "source": [
    "### Feature"
   ]
  },
  {
   "block_group": "b0013567738d47d0868685127b8f418d",
   "cell_type": "code",
   "content_dependencies": null,
   "execution_count": null,
   "metadata": {
    "cell_id": "daf1360ba87347659e1c63699adff84c",
    "deepnote_cell_type": "code",
    "deepnote_to_be_reexecuted": false,
    "execution_millis": 143,
    "execution_start": 1718197901792,
    "source_hash": null
   },
   "outputs": [
    {
     "name": "stdout",
     "output_type": "stream",
     "text": [
      "<class 'pandas.core.frame.DataFrame'>\n",
      "RangeIndex: 1359 entries, 0 to 1358\n",
      "Data columns (total 13 columns):\n",
      " #   Column                Non-Null Count  Dtype  \n",
      "---  ------                --------------  -----  \n",
      " 0   id                    1359 non-null   int64  \n",
      " 1   fixed_acidity         1359 non-null   float64\n",
      " 2   volatile_acidity      1359 non-null   float64\n",
      " 3   citric_acid           1359 non-null   float64\n",
      " 4   residual_sugar        1359 non-null   float64\n",
      " 5   chlorides             1359 non-null   float64\n",
      " 6   free_sulfur_dioxide   1359 non-null   int64  \n",
      " 7   total_sulfur_dioxide  1359 non-null   int64  \n",
      " 8   density               1359 non-null   float64\n",
      " 9   pH                    1359 non-null   float64\n",
      " 10  sulphates             1359 non-null   float64\n",
      " 11  alcohol               1359 non-null   float64\n",
      " 12  quality               1359 non-null   int64  \n",
      "dtypes: float64(9), int64(4)\n",
      "memory usage: 138.2 KB\n"
     ]
    }
   ],
   "outputs_reference": "dbtable:cell_outputs/9638e604-f77e-45bf-a2d5-e5ef32b6fa21",
   "source": [
    "df_2.info()"
   ]
  },
  {
   "block_group": "413db56d665b45c188647f2a081db217",
   "cell_type": "markdown",
   "metadata": {
    "cell_id": "c025c87c5f624941a2feb211fbd24626",
    "deepnote_cell_type": "text-cell-p",
    "formattedRanges": [
     {
      "fromCodePoint": 180,
      "marks": {
       "bold": true
      },
      "toCodePoint": 189,
      "type": "marks"
     }
    ]
   },
   "source": [
    "Diatas ini merupakan info dari dataset yang kita gunakan dari nomer 1 hingga 11 merupakan fitur dan quality termasuk kedalam class dari dataset.  Dari info diatas juga menjelaskan tipe data yang digunakan yaitu numerik. Berikut penjelasan tentang setiap fitur:"
   ]
  },
  {
   "block_group": "e277fa7a8a65482bb239647b304c5a96",
   "cell_type": "markdown",
   "metadata": {
    "cell_id": "8a32446f6c3c4043a9270a44a734f8b5",
    "deepnote_app_block_visible": false,
    "deepnote_cell_type": "text-cell-bullet",
    "formattedRanges": [
     {
      "fromCodePoint": 0,
      "marks": {
       "bold": true
      },
      "toCodePoint": 14,
      "type": "marks"
     },
     {
      "fromCodePoint": 575,
      "marks": {
       "bold": true,
       "italic": true
      },
      "toCodePoint": 582,
      "type": "marks"
     }
    ],
    "is_collapsed": false
   },
   "source": [
    "- Fixed acidity :Ini menunjukkan jumlah asam tartarat dalam anggur yang diukur dalam satuan g/dm3. Asam tetap yang dominan ditemukan dalam anggur adalah tartarat, malat, sitrat, dan suksinat. Tingkat masing-masing yang ditemukan dalam anggur dapat sangat bervariasi tetapi secara umum kita akan melihat 1.000 hingga 4.000 mg/L asam tartarat, 0 hingga 8.000 mg/L asam malat, 0 hingga 500 mg/L asam sitrat, dan 500 hingga 2.000 mg/L asam suksinat. \r\n",
    "Kita dapat mengukur fixed acidity dalam suatu larutan dengan berbagai metode kimia. Salah satu metode yang umum digunakan adalah titrasi, di mana Anda menambahkan larutan basa dengan konsentrasi yang diketahui secara bertahap ke dalam larutan yang akan diukur keasamannya. Ketika titrasi telah mencapai titik ekuivalen, di mana jumlah basa yang ditambahkan sama dengan jumlah asam dalam larutan, Anda dapat menghitung konsentrasi asam dalam larutan tersebut. Untuk mengukur fixed acidity dalam anggur, misalnya, sampel anggur akan diencerkan dengan air kemudian dititrasi dengan larutan basa seperti larutan natrium hidroksida (NaOH) dengan indikator pH untuk menentukan titik ekuivalen."
   ]
  },
  {
   "block_group": "87ca697a2e2543628c39c65dd70e2a13",
   "cell_type": "markdown",
   "metadata": {
    "cell_id": "263e9c10cbcd40e68d8f64bd8c4d3c03",
    "deepnote_app_block_visible": false,
    "deepnote_cell_type": "text-cell-bullet",
    "formattedRanges": [
     {
      "fromCodePoint": 0,
      "marks": {
       "bold": true
      },
      "toCodePoint": 17,
      "type": "marks"
     },
     {
      "fromCodePoint": 729,
      "marks": {
       "bold": true,
       "italic": true
      },
      "toCodePoint": 738,
      "type": "marks"
     }
    ],
    "is_collapsed": false
   },
   "source": [
    "- Volatile acidity : Ini menunjukkan jumlah asam asetat dalam anggur yang diukur dalam g/dm3. Volatle acidity ini mengacu pada asam yang dapat disuling dengan uap yang ada dalam anggur, terutama asam asetat tetapi juga asam laktat, format, butirat, dan propionat. Umumnya, asam-asam ini diukur dengan Cash Still, meskipun sekarang asam-asam ini dapat diukur dengan kromatografi gas, HPLC, atau metode enzimatik. Tingkat rata-rata asam asetat dalam anggur meja kering baru kurang dari 400 mg/L, meskipun kadarnya berkisar dari tidak terdeteksi hingga 3g/L. Cara untuk mengukur volatile acidity serupa dengan mengukur fixed acidity, tetapi dengan fokus pada asam-asam yang mudah menguap. Salah satu metode yang umum digunakan adalah distilasi. Dalam metode ini, sampel anggur dipanaskan dalam sistem distilasi yang memungkinkan asam-asam yang mudah menguap untuk terpisah dari komponen lain dalam larutan. Uap yang dihasilkan kemudian dikondensasi kembali menjadi cairan, dan konsentrasi asam-asam yang mudah menguap ini kemudian diukur dalam fraksi yang diperoleh. Metode lainnya termasuk penggunaan instrumen seperti spektrofotometer gas untuk menganalisis komposisi gas dalam sampel, yang memungkinkan pengukuran konsentrasi asam-asam yang mudah menguap seperti asam asetat."
   ]
  },
  {
   "block_group": "81b32194dec74ebab7046f1ab7c10b17",
   "cell_type": "markdown",
   "metadata": {
    "cell_id": "62e3b718a5e8429b8f96cb17d179c3dd",
    "deepnote_app_block_visible": false,
    "deepnote_cell_type": "text-cell-bullet",
    "formattedRanges": [
     {
      "fromCodePoint": 0,
      "marks": {
       "bold": true
      },
      "toCodePoint": 12,
      "type": "marks"
     },
     {
      "fromCodePoint": 843,
      "marks": {
       "bold": true,
       "italic": true
      },
      "toCodePoint": 903,
      "type": "marks"
     }
    ],
    "is_collapsed": false
   },
   "source": [
    "- Citric acid : Citric acid atau asam sitrat adalah garam asam. Senyawa\r",
    " ini berbentuk kristal putih seperti gula pasir.Asam sitrat secara alami terdapat pada buah jeruk terutama lemon dan jeruk nipis Fungsi utama asam\r",
    " sitrat adalah sebagai bahan pengasam, selain itu juga berfungsi sebagai komponen penting dalam metabolisme energi dalam tanaman dan juga berperan dalam siklus asam sitrat (siklus Krebs) dalam metabolisme aerobik pada hewan dan manusia.  Produsen anggur dapat menambahkan citric acid ke dalam anggur selama proses pembuatan, terutama jika anggur memiliki tingkat keasaman yang rendah atau jika mereka ingin memberikan rasa segar dan cerah. Penambahan ini harus dilakukan dengan hati-hati dan berdasarkan analisis kimia yang cermat untuk memastikan keseimbangan rasa yang diinginkan. Ada juga penelitian yang menunjukkan bahwa anggur yang disimpan atau diolah di dalam tong kayu tertentu, terutama tong yang terbuat dari kayu yang mengandung lebih banyak asam sitrat, dapat meningkatkan kandungan asam sitrat dalam anggur. Namun, efek ini mungkin lebih berkaitan dengan interaksi antara anggur dan kayu, bukan penambahan langsung asam sitrat."
   ]
  },
  {
   "block_group": "604264a04a2a4ff8aba22ccd7665ed96",
   "cell_type": "markdown",
   "metadata": {
    "cell_id": "38138ca60dc144d29a0ffb5e6523d629",
    "deepnote_app_block_visible": false,
    "deepnote_cell_type": "text-cell-bullet",
    "formattedRanges": [
     {
      "fromCodePoint": 0,
      "marks": {
       "bold": true
      },
      "toCodePoint": 14,
      "type": "marks"
     },
     {
      "fromCodePoint": 1071,
      "marks": {
       "bold": true,
       "italic": true
      },
      "toCodePoint": 1094,
      "type": "marks"
     }
    ],
    "is_collapsed": false
   },
   "source": [
    "- Residual sugar : Residual sugar adalah istilah yang umum digunakan dalam industri anggur untuk menggambarkan jumlah gula yang tersisa dalam anggur setelah fermentasi. Ini merupakan faktor penting dalam menentukan tingkat kemanisan suatu wine. Dalam panduan ini, kita akan mengeksplorasi konsep sisa gula dalam anggur dan bagaimana pengaruhnya terhadap rasa dan gaya anggur secara keseluruhan. Residual sugar diukur dalam g/dm3. Tingkat sisa gula dalam anggur dapat sangat memengaruhi rasa dan gayanya. Anggur tanpa sisa gula diklasifikasikan sebagai anggur kering. Anggur ini cenderung memiliki rasa yang renyah dan menyegarkan tanpa rasa manis yang terlihat. Anggur kering sering kali disukai dengan hidangan gurih atau dinikmati sendiri. Anggur semi-kering memiliki sedikit sisa gula, biasanya berkisar antara 0,6% hingga 2%. Anggur ini memiliki rasa manis halus yang menyeimbangkan keasaman dan menambah kedalaman rasa. Anggur semi-kering serbaguna dan cocok dipadukan dengan berbagai makanan. Salah satu cara untuk mempertahankan gula sisa dalam anggur adalah dengan menghentikan fermentasi sebelum semua gula diubah menjadi alkohol oleh ragi. Ini bisa dilakukan dengan menghentikan fermentasi secara kimia (dengan menambahkan sulfat atau memperendah suhu) atau secara fisik (dengan menghilangkan ragi atau mendinginkan anggur)."
   ]
  },
  {
   "block_group": "3f16ccae89924437965895eadc559845",
   "cell_type": "markdown",
   "metadata": {
    "cell_id": "24af5d847e63430ea186125f5b37cbaf",
    "deepnote_app_block_visible": false,
    "deepnote_cell_type": "text-cell-bullet",
    "formattedRanges": [
     {
      "fromCodePoint": 0,
      "marks": {
       "bold": true
      },
      "toCodePoint": 19,
      "type": "marks"
     }
    ],
    "is_collapsed": false
   },
   "source": [
    "- Free sulfur dioxide : Free sulfur dioxide diukur dalam larutan model dengan zat pengikat SO2 yang berbeda (α-ketoglutarat, piruvat, asetaldehida, glukosa, fruktosa, dan malvidin-3-glukosida) serta berbagai anggur putih dan merah serta sari buah apel. Metode CE dibandingkan dengan tiga metode konvensional untuk mengukur SO2 bebas, yaitu metode Ripper, Aerasi-Oksidasi (AO), dan pararosanilin dengan discrete analisar (DA). Meskipun beberapa perbedaan yang signifikan secara statistik (p<0,05) ditemukan antara keempat metode dalam larutan model tidak berpigmen dan sampel, nilai-nilai tersebut secara umum disepakati. Dengan adanya antosianin dalam larutan model dan anggur merah, nilai SO2 bebas yang ditemukan dengan CE secara signifikan lebih rendah dibandingkan tiga metode lainnya (p<0,05). Perbedaan nilai yang ditemukan oleh Ripper dan CE berkorelasi kuat dengan kandungan antosianin (R2 = 0,8854) dan bahkan lebih kuat lagi ketika memperhitungkan pigmen polimer (R2 = 0,9251). Free sulfur dioxide diukur dalam g/dm3."
   ]
  },
  {
   "block_group": "b1a9216a04084597bec84698129e696a",
   "cell_type": "markdown",
   "metadata": {
    "cell_id": "880c1bfa4db24ce0a2de2ce9e03fde73",
    "deepnote_app_block_visible": false,
    "deepnote_cell_type": "text-cell-bullet",
    "formattedRanges": [
     {
      "fromCodePoint": 0,
      "marks": {
       "bold": true
      },
      "toCodePoint": 20,
      "type": "marks"
     }
    ],
    "is_collapsed": false
   },
   "source": [
    "- Total sulfur dioxide : Metode yang paling umum digunakan untuk penentuan total SO adalah metode aerasi/oksidasi (AO), yang kadang-kadang dikenal sebagai metode Monier/Williams atau Rankine/Pocock, dan merupakan dasar dari salah satu metode OIV (OIV) yang disetujui. -MA-AS323-04A). Pada dasarnya, analisis ini melibatkan pemanasan sampel anggur yang diasamkan untuk melepaskan SO, dalam bentuk molekul. Aliran udara (2) kemudian digunakan untuk membawa SO yang dibebaskan, ke reservoir hidrogen peroksida di mana ia dioksidasi untuk membentuk asam sulfat. Asam sulfat yang dihasilkan kemudian dititrasi dengan natrium hidroksida encer untuk menentukan jumlah asam yang terbentuk dan, karenanya, jumlah awal SO dalam anggur. Bahan kimia ini berfungsi sebagai antioksidan dan agen antimikroba."
   ]
  },
  {
   "block_group": "5ef6de13cc9e439fba48b7555427466b",
   "cell_type": "markdown",
   "metadata": {
    "cell_id": "d613da90faae401c9983f82d6d8e39eb",
    "deepnote_app_block_visible": false,
    "deepnote_cell_type": "text-cell-bullet",
    "formattedRanges": [
     {
      "fromCodePoint": 0,
      "marks": {
       "bold": true
      },
      "toCodePoint": 8,
      "type": "marks"
     }
    ],
    "is_collapsed": false
   },
   "source": [
    "- Density : Ini menunjukkan kepadatan anggur yang diukur dalam g/dm3. Kepadatan anggur ditentukan oleh jumlah gula, alkohol, dan zat terlarut lainnya yang ada dalam anggur. Umumnya, semakin tinggi kandungan gula dan alkohol, semakin tinggi pula kepadatan wine tersebut. Massa jenis biasanya diukur menggunakan hidrometer atau refraktometer, yang memberikan nilai numerik yang dikenal sebagai berat jenis. Nilai ini menunjukkan massa jenis anggur dalam kaitannya dengan massa jenis air. Misalnya, berat jenis 1.000 berarti anggur memiliki kepadatan yang sama dengan air, sedangkan berat jenis yang lebih tinggi menunjukkan anggur yang lebih padat. Kepadatan anggur dapat berdampak signifikan terhadap kualitas dan strukturnya. Anggur dengan kepadatan lebih tinggi cenderung memiliki rasa yang lebih kaya di mulut dan karakter yang lebih penuh. Mereka sering kali menunjukkan rasa dan aroma yang lebih nyata karena konsentrasi zat terlarut yang lebih tinggi. Sebaliknya, wine dengan kepadatan lebih rendah mungkin terasa lebih ringan dan lembut di langit-langit mulut, dengan rasa dan aroma yang halus. Penting untuk diperhatikan bahwa kepadatan saja tidak menentukan kualitas anggur, karena faktor lain seperti keasaman, tanin, dan keseimbangan juga berperan."
   ]
  },
  {
   "block_group": "6273b24349434a5d8447483ab4c5f7b2",
   "cell_type": "markdown",
   "metadata": {
    "cell_id": "4129f8c2232443beafbf6b6f3a6410b4",
    "deepnote_app_block_visible": false,
    "deepnote_cell_type": "text-cell-bullet",
    "formattedRanges": [
     {
      "fromCodePoint": 0,
      "marks": {
       "bold": true
      },
      "toCodePoint": 3,
      "type": "marks"
     },
     {
      "fromCodePoint": 579,
      "marks": {
       "bold": true,
       "italic": true
      },
      "toCodePoint": 612,
      "type": "marks"
     }
    ],
    "is_collapsed": false
   },
   "source": [
    "- pH : Ini menunjukkan nilai pH anggur. Skala pH berkisar dari 0 hingga 14, di mana nilai 7 menunjukkan larutan netral, nilai di bawah 7 menunjukkan larutan asam, dan nilai di atas 7 menunjukkan larutan basa. Untuk anggur, pH umumnya berkisar antara sekitar 2,8 hingga 4,0, dengan rata-rata sekitar 3,2 hingga 3,6. Tingkat pH anggur memiliki dampak signifikan pada karakteristik dan kualitas keseluruhan dari anggur, karena pH memengaruhi banyak aspek organoleptik (rasa, aroma, dan tekstur) serta stabilitas dan kemampuan penuaan anggur. Untuk mengukur pH anggur, kita memerlukan pH meter atau kertas indikator pH. Langkah-langkah umum untuk mengukur pH anggur meliputi  mengambil sampel anggur yang akan diukur pH-nya yang mewakili anggur secara keseluruhan dengan mencampurkan anggur yang ada di beberapa bagian tong atau botol. kemudian, Jika kita menggunakan pH meter, pastikan untuk mengkalibrasi perangkat tersebut terlebih dahulu sesuai petunjuk yang tertera pada manual pengguna. Kalibrasi penting untuk memastikan akurasi pengukuran, Jika kita menggunakan pH meter, siapkan alat tersebut dengan menyalakan dan menyiapkan elektroda pH. Jika Anda menggunakan kertas indikator pH, siapkan strip kertas dan tempatkan di atas sampel anggur. setelah itu, Tuangkan atau celupkan pH meter atau strip kertas ke dalam sampel anggur. Pastikan sensor pH meter atau strip kertas tercelup dengan baik ke dalam larutan. Jika menggunakan pH meter, tunggu beberapa saat hingga nilai pH stabil dan terbaca pada layar. Jika menggunakan strip kertas, tunggu beberapa saat dan bandingkan warna strip dengan skala warna yang disertakan dengan strip tersebut untuk menentukan nilai pH."
   ]
  },
  {
   "block_group": "959371f17d0b49a38ae02d14107e8360",
   "cell_type": "markdown",
   "metadata": {
    "cell_id": "99488c52c03645d39cc0c0576730cd18",
    "deepnote_app_block_visible": false,
    "deepnote_cell_type": "text-cell-bullet",
    "formattedRanges": [
     {
      "fromCodePoint": 0,
      "marks": {
       "bold": true
      },
      "toCodePoint": 10,
      "type": "marks"
     },
     {
      "fromCodePoint": 890,
      "marks": {
       "bold": true,
       "italic": true
      },
      "toCodePoint": 909,
      "type": "marks"
     },
     {
      "fromCodePoint": 1038,
      "marks": {
       "bold": true,
       "italic": true
      },
      "toCodePoint": 1045,
      "type": "marks"
     }
    ],
    "is_collapsed": false
   },
   "source": [
    "- Sulphates : Ini menunjukkan jumlah kalium sulfat dalam anggur. Itu juga diukur dalam g/dm3. Dalam konteks anggur, sulfat (sering kali dieja sebagai \"sulphates\" dalam bahasa Inggris) mengacu pada senyawa sulfat, terutama kalium sulfat (K2SO4), yang sering digunakan dalam industri anggur sebagai aditif. Kalium sulfat adalah salah satu bahan kimia yang diizinkan dalam pembuatan anggur sesuai dengan regulasi pangan yang berlaku. Ini digunakan terutama untuk memperkuat rasa dan kestabilan anggur. Penggunaan kalium sulfat dapat mempengaruhi pH, keseimbangan mineral, dan karakteristik organoleptik anggur, termasuk rasa dan tekstur. Jumlah sulfat dalam anggur dapat bervariasi tergantung pada praktik enologi yang digunakan oleh produsen anggur. Untuk mengukur kandungan sulfat dalam sebuah larutan, kita dapat menggunakan berbagai metode kimia. Salah satu metode yang umum digunakan adalah metode gravimetri, di mana sulfat dalam larutan diendapkan sebagai garam sulfat yang mudah terlarut. Selain metode gravimetri, metode lain seperti titrasi juga dapat digunakan untuk mengukur kandungan sulfat dalam larutan. Dalam titrasi, larutan yang mengandung sulfat dititrasi dengan larutan standar yang berisi ion klorida (seperti larutan perak nitrat) untuk membentuk endapan yang terukur. Jumlah ion klorida yang bereaksi dengan sulfat kemudian dapat digunakan untuk menghitung kandungan sulfat dalam larutan yang diuji."
   ]
  },
  {
   "block_group": "858de73deb20497bbc034e32dd258c2a",
   "cell_type": "markdown",
   "metadata": {
    "cell_id": "52f94aa171c640039344ed10efeda4ce",
    "deepnote_app_block_visible": false,
    "deepnote_cell_type": "text-cell-bullet",
    "formattedRanges": [
     {
      "fromCodePoint": 0,
      "marks": {
       "bold": true
      },
      "toCodePoint": 8,
      "type": "marks"
     },
     {
      "fromCodePoint": 1065,
      "marks": {
       "bold": true,
       "italic": true
      },
      "toCodePoint": 1087,
      "type": "marks"
     }
    ],
    "is_collapsed": false
   },
   "source": [
    "- Alcohol : Ini menunjukkan kandungan alkohol dalam anggur. Dalam konteks anggur hal ini mengacu pada kandungan alkohol etanol dalam anggur. Kandungan alkohol adalah salah satu faktor penting yang memengaruhi karakteristik organoleptik (rasa, aroma, dan tekstur) serta kualitas keseluruhan dari suatu anggur. Kisaran konsentrasi total dalam anggur adalah antara 100-500 mg/L. Guymon dan Heitz, 1952 (dikutip dalam Boulton et al 1996) melaporkan kisaran konsentrasi berikut untuk anggur putih (162 – 266 mg/L) dan untuk anggur merah (140 – 417 mg/L) yang diproduksi di California. Kandungan alkohol dalam anggur biasanya diukur sebagai persentase volume alkohol (% vol) dan berkisar antara sekitar 5% hingga 20%, meskipun sebagian besar anggur mengandung sekitar 9% hingga 16% alkohol. Pentingnya kandungan alkohol dalam kualitas anggu  terletak pada seimbangnya dengan karakteristik lainnya, seperti tingkat keasaman, rasa buah, tannin, dan aroma. Untuk mengukur kandungan alkohol dalam anggur, terdapat beberapa metode yang umum digunakan di industri anggur seperti Metode Refraktometri.  Metode ini memanfaatkan sifat optik gula dan alkohol dalam anggur. Refraktometer digunakan untuk mengukur indeks refraksi dari larutan anggur. Dengan memonitor perubahan indeks refraksi dari awal hingga akhir fermentasi, Anda dapat mengestimasi jumlah gula yang telah difermentasi menjadi alkohol. Namun, perhitungan ini memerlukan asumsi tentang kontribusi gula lainnya dalam anggur yang tidak diubah menjadi alkohol."
   ]
  },
  {
   "block_group": "292ed5209c8143479134f747896f0f52",
   "cell_type": "markdown",
   "metadata": {
    "cell_id": "79a8451044964227af81a3e5e7bc76da",
    "deepnote_app_block_visible": false,
    "deepnote_cell_type": "text-cell-bullet",
    "formattedRanges": [
     {
      "fromCodePoint": 0,
      "marks": {
       "bold": true
      },
      "toCodePoint": 8,
      "type": "marks"
     }
    ],
    "is_collapsed": false
   },
   "source": [
    "- Quality : Menunjukkan kualitas anggur, yang berkisar antara 1 hingga 10. Di sini, semakin tinggi nilainya, semakin baik anggur tersebut."
   ]
  },
  {
   "block_group": "b5d6206888bf4e3e8f39c1359b63e134",
   "cell_type": "markdown",
   "metadata": {
    "cell_id": "211fb895f4314fb6a024c4bd04399bcc",
    "deepnote_app_block_visible": false,
    "deepnote_cell_type": "text-cell-h3",
    "formattedRanges": [],
    "is_collapsed": false
   },
   "source": [
    "### Penjelasan Class"
   ]
  },
  {
   "block_group": "57f2947efc244be9bfb7e3d356a72c74",
   "cell_type": "code",
   "content_dependencies": null,
   "execution_count": null,
   "metadata": {
    "cell_id": "5df10680516a4715a9d8377c3999fa88",
    "deepnote_cell_type": "code",
    "deepnote_to_be_reexecuted": false,
    "execution_millis": 138,
    "execution_start": 1718197901798,
    "source_hash": null
   },
   "outputs": [
    {
     "data": {
      "text/plain": [
       "quality\n",
       "5    575\n",
       "6    540\n",
       "7    179\n",
       "4     44\n",
       "8     15\n",
       "3      6\n",
       "Name: count, dtype: int64"
      ]
     },
     "execution_count": 3,
     "metadata": {},
     "output_type": "execute_result"
    }
   ],
   "outputs_reference": "dbtable:cell_outputs/ebc24ea2-2903-4c47-9c5b-730a3c6cfba1",
   "source": [
    "df_2.value_counts('quality')"
   ]
  },
  {
   "block_group": "ba73d4b618ed4bcb967a73f8ef7986c5",
   "cell_type": "markdown",
   "metadata": {
    "cell_id": "41432859b59f4d4884976a0efba8e7cd",
    "deepnote_cell_type": "text-cell-p",
    "formattedRanges": []
   },
   "source": [
    "Dari hasil diatas menunjukkan bahwa class dalam dataset yang digunakan ada di dalam kolom quality dengan jumlah 6 class, yaitu :"
   ]
  },
  {
   "block_group": "58af385b1d0c403886fda31ff4d8c87d",
   "cell_type": "markdown",
   "metadata": {
    "cell_id": "4869067661f14f11a5319994e8d1373c",
    "deepnote_app_block_visible": false,
    "deepnote_cell_type": "text-cell-bullet",
    "formattedRanges": [],
    "is_collapsed": false
   },
   "source": [
    "- 3"
   ]
  },
  {
   "block_group": "ff3741643ab147b88814857f66542827",
   "cell_type": "markdown",
   "metadata": {
    "cell_id": "a32ca566078545c98b151c91cdecc342",
    "deepnote_app_block_visible": false,
    "deepnote_cell_type": "text-cell-bullet",
    "formattedRanges": [],
    "is_collapsed": false
   },
   "source": [
    "- 4"
   ]
  },
  {
   "block_group": "e9d278cab6674746b7fa23e04b4237f9",
   "cell_type": "markdown",
   "metadata": {
    "cell_id": "b3d5a9402f3d4d3dbc26e4e8fb2a99d8",
    "deepnote_app_block_visible": false,
    "deepnote_cell_type": "text-cell-bullet",
    "formattedRanges": [],
    "is_collapsed": false
   },
   "source": [
    "- 5"
   ]
  },
  {
   "block_group": "9e896a7b65134a578350a7f946d18a36",
   "cell_type": "markdown",
   "metadata": {
    "cell_id": "67659a1ef1ef443d9e460dfa396ea6d6",
    "deepnote_app_block_visible": false,
    "deepnote_cell_type": "text-cell-bullet",
    "formattedRanges": [],
    "is_collapsed": false
   },
   "source": [
    "- 6"
   ]
  },
  {
   "block_group": "f74242b1d2c64bccabc2e06f88f0d3d0",
   "cell_type": "markdown",
   "metadata": {
    "cell_id": "e5f01bacf531429282c0e5f216d67908",
    "deepnote_app_block_visible": false,
    "deepnote_cell_type": "text-cell-bullet",
    "formattedRanges": [],
    "is_collapsed": false
   },
   "source": [
    "- 7"
   ]
  },
  {
   "block_group": "3595fc5ae99340dd9ec25b83bf484930",
   "cell_type": "markdown",
   "metadata": {
    "cell_id": "386f09b23d56471db0fb83d6f5715a7b",
    "deepnote_app_block_visible": false,
    "deepnote_cell_type": "text-cell-bullet",
    "formattedRanges": [],
    "is_collapsed": false
   },
   "source": [
    "- 8"
   ]
  },
  {
   "block_group": "e636d304717543569fdb49c95d31086a",
   "cell_type": "markdown",
   "metadata": {
    "cell_id": "fb0e15c5c7b046f2bf1b1c54d9842c8d",
    "deepnote_cell_type": "text-cell-h2",
    "formattedRanges": []
   },
   "source": [
    "## Identifikasi kualitas data"
   ]
  },
  {
   "block_group": "e905330c6aa74aa498ffb01c7c1bfa27",
   "cell_type": "markdown",
   "metadata": {
    "cell_id": "f12731f5de0a48b1b551b8e2b461e939",
    "deepnote_cell_type": "text-cell-h3",
    "formattedRanges": []
   },
   "source": [
    "### Identifikasi Outlier"
   ]
  },
  {
   "block_group": "7c532d97c6804b88bfa82ba8e8af3bb0",
   "cell_type": "markdown",
   "metadata": {
    "cell_id": "0432cff8024747b7ae70f8c751516cdd",
    "deepnote_cell_type": "text-cell-p",
    "formattedRanges": []
   },
   "source": [
    "LOF membandingkan kepadatan titik data tertentu dengan kepadatan tetangganya. Karena pencilan berasal dari area dengan kepadatan rendah, rasionya akan lebih tinggi untuk titik data yang anomali. Sebagai aturan praktis, titik data normal memiliki LOF antara 1 dan 1,5 sedangkan pengamatan anomali akan memiliki LOF yang jauh lebih tinggi. Semakin tinggi LOF, semakin besar kemungkinan terjadinya outlier. Jika LOF titik X adalah 5, berarti kepadatan rata-rata tetangga X adalah 5 kali lebih tinggi dari kepadatan lokalnya."
   ]
  },
  {
   "block_group": "09d6d0df079840cba97b2d690e8cf150",
   "cell_type": "code",
   "content_dependencies": null,
   "execution_count": null,
   "metadata": {
    "cell_id": "8a25609905d046c09b612030decac876",
    "deepnote_cell_type": "code",
    "deepnote_table_loading": false,
    "deepnote_table_state": {
     "filters": [],
     "pageIndex": 0,
     "pageSize": 25,
     "sortBy": []
    },
    "deepnote_to_be_reexecuted": false,
    "execution_millis": 648,
    "execution_start": 1718197901818,
    "source_hash": null
   },
   "outputs": [
    {
     "data": {
      "application/vnd.deepnote.dataframe.v3+json": {
       "column_count": 14,
       "columns": [
        {
         "dtype": "int64",
         "name": "id",
         "stats": {
          "histogram": [
           {
            "bin_end": 136.8,
            "bin_start": 1,
            "count": 136
           },
           {
            "bin_end": 272.6,
            "bin_start": 136.8,
            "count": 136
           },
           {
            "bin_end": 408.40000000000003,
            "bin_start": 272.6,
            "count": 136
           },
           {
            "bin_end": 544.2,
            "bin_start": 408.40000000000003,
            "count": 136
           },
           {
            "bin_end": 680,
            "bin_start": 544.2,
            "count": 135
           },
           {
            "bin_end": 815.8000000000001,
            "bin_start": 680,
            "count": 136
           },
           {
            "bin_end": 951.6000000000001,
            "bin_start": 815.8000000000001,
            "count": 136
           },
           {
            "bin_end": 1087.4,
            "bin_start": 951.6000000000001,
            "count": 136
           },
           {
            "bin_end": 1223.2,
            "bin_start": 1087.4,
            "count": 136
           },
           {
            "bin_end": 1359,
            "bin_start": 1223.2,
            "count": 136
           }
          ],
          "max": "1359",
          "min": "1",
          "nan_count": 0,
          "unique_count": 1359
         }
        },
        {
         "dtype": "float64",
         "name": "fixed_acidity",
         "stats": {
          "histogram": [
           {
            "bin_end": 5.7299999999999995,
            "bin_start": 4.6,
            "count": 36
           },
           {
            "bin_end": 6.859999999999999,
            "bin_start": 5.7299999999999995,
            "count": 143
           },
           {
            "bin_end": 7.99,
            "bin_start": 6.859999999999999,
            "count": 438
           },
           {
            "bin_end": 9.120000000000001,
            "bin_start": 7.99,
            "count": 345
           },
           {
            "bin_end": 10.25,
            "bin_start": 9.120000000000001,
            "count": 178
           },
           {
            "bin_end": 11.38,
            "bin_start": 10.25,
            "count": 108
           },
           {
            "bin_end": 12.510000000000002,
            "bin_start": 11.38,
            "count": 73
           },
           {
            "bin_end": 13.64,
            "bin_start": 12.510000000000002,
            "count": 26
           },
           {
            "bin_end": 14.770000000000001,
            "bin_start": 13.64,
            "count": 5
           },
           {
            "bin_end": 15.9,
            "bin_start": 14.770000000000001,
            "count": 7
           }
          ],
          "max": "15.9",
          "min": "4.6",
          "nan_count": 0,
          "unique_count": 96
         }
        },
        {
         "dtype": "float64",
         "name": "volatile_acidity",
         "stats": {
          "histogram": [
           {
            "bin_end": 0.266,
            "bin_start": 0.12,
            "count": 62
           },
           {
            "bin_end": 0.412,
            "bin_start": 0.266,
            "count": 362
           },
           {
            "bin_end": 0.5579999999999999,
            "bin_start": 0.412,
            "count": 362
           },
           {
            "bin_end": 0.704,
            "bin_start": 0.5579999999999999,
            "count": 391
           },
           {
            "bin_end": 0.85,
            "bin_start": 0.704,
            "count": 121
           },
           {
            "bin_end": 0.9959999999999999,
            "bin_start": 0.85,
            "count": 38
           },
           {
            "bin_end": 1.142,
            "bin_start": 0.9959999999999999,
            "count": 17
           },
           {
            "bin_end": 1.2879999999999998,
            "bin_start": 1.142,
            "count": 3
           },
           {
            "bin_end": 1.4339999999999997,
            "bin_start": 1.2879999999999998,
            "count": 2
           },
           {
            "bin_end": 1.58,
            "bin_start": 1.4339999999999997,
            "count": 1
           }
          ],
          "max": "1.58",
          "min": "0.12",
          "nan_count": 0,
          "unique_count": 139
         }
        },
        {
         "dtype": "float64",
         "name": "citric_acid",
         "stats": {
          "histogram": [
           {
            "bin_end": 0.1,
            "bin_start": 0,
            "count": 317
           },
           {
            "bin_end": 0.2,
            "bin_start": 0.1,
            "count": 160
           },
           {
            "bin_end": 0.30000000000000004,
            "bin_start": 0.2,
            "count": 276
           },
           {
            "bin_end": 0.4,
            "bin_start": 0.30000000000000004,
            "count": 173
           },
           {
            "bin_end": 0.5,
            "bin_start": 0.4,
            "count": 243
           },
           {
            "bin_end": 0.6000000000000001,
            "bin_start": 0.5,
            "count": 116
           },
           {
            "bin_end": 0.7000000000000001,
            "bin_start": 0.6000000000000001,
            "count": 59
           },
           {
            "bin_end": 0.8,
            "bin_start": 0.7000000000000001,
            "count": 14
           },
           {
            "bin_end": 0.9,
            "bin_start": 0.8,
            "count": 0
           },
           {
            "bin_end": 1,
            "bin_start": 0.9,
            "count": 1
           }
          ],
          "max": "1.0",
          "min": "0.0",
          "nan_count": 0,
          "unique_count": 79
         }
        },
        {
         "dtype": "float64",
         "name": "residual_sugar",
         "stats": {
          "histogram": [
           {
            "bin_end": 2.36,
            "bin_start": 0.9,
            "count": 809
           },
           {
            "bin_end": 3.82,
            "bin_start": 2.36,
            "count": 429
           },
           {
            "bin_end": 5.28,
            "bin_start": 3.82,
            "count": 55
           },
           {
            "bin_end": 6.74,
            "bin_start": 5.28,
            "count": 42
           },
           {
            "bin_end": 8.2,
            "bin_start": 6.74,
            "count": 10
           },
           {
            "bin_end": 9.66,
            "bin_start": 8.2,
            "count": 8
           },
           {
            "bin_end": 11.12,
            "bin_start": 9.66,
            "count": 3
           },
           {
            "bin_end": 12.58,
            "bin_start": 11.12,
            "count": 0
           },
           {
            "bin_end": 14.040000000000001,
            "bin_start": 12.58,
            "count": 2
           },
           {
            "bin_end": 15.5,
            "bin_start": 14.040000000000001,
            "count": 1
           }
          ],
          "max": "15.5",
          "min": "0.9",
          "nan_count": 0,
          "unique_count": 86
         }
        },
        {
         "dtype": "float64",
         "name": "chlorides",
         "stats": {
          "histogram": [
           {
            "bin_end": 0.07189999999999999,
            "bin_start": 0.012,
            "count": 352
           },
           {
            "bin_end": 0.1318,
            "bin_start": 0.07189999999999999,
            "count": 940
           },
           {
            "bin_end": 0.19169999999999998,
            "bin_start": 0.1318,
            "count": 33
           },
           {
            "bin_end": 0.2516,
            "bin_start": 0.19169999999999998,
            "count": 12
           },
           {
            "bin_end": 0.3115,
            "bin_start": 0.2516,
            "count": 2
           },
           {
            "bin_end": 0.37139999999999995,
            "bin_start": 0.3115,
            "count": 8
           },
           {
            "bin_end": 0.43129999999999996,
            "bin_start": 0.37139999999999995,
            "count": 8
           },
           {
            "bin_end": 0.49119999999999997,
            "bin_start": 0.43129999999999996,
            "count": 2
           },
           {
            "bin_end": 0.5510999999999999,
            "bin_start": 0.49119999999999997,
            "count": 0
           },
           {
            "bin_end": 0.611,
            "bin_start": 0.5510999999999999,
            "count": 2
           }
          ],
          "max": "0.611",
          "min": "0.012",
          "nan_count": 0,
          "unique_count": 147
         }
        },
        {
         "dtype": "int64",
         "name": "free_sulfur_dioxide",
         "stats": {
          "histogram": [
           {
            "bin_end": 8.1,
            "bin_start": 1,
            "count": 405
           },
           {
            "bin_end": 15.2,
            "bin_start": 8.1,
            "count": 395
           },
           {
            "bin_end": 22.299999999999997,
            "bin_start": 15.2,
            "count": 256
           },
           {
            "bin_end": 29.4,
            "bin_start": 22.299999999999997,
            "count": 164
           },
           {
            "bin_end": 36.5,
            "bin_start": 29.4,
            "count": 87
           },
           {
            "bin_end": 43.599999999999994,
            "bin_start": 36.5,
            "count": 30
           },
           {
            "bin_end": 50.699999999999996,
            "bin_start": 43.599999999999994,
            "count": 9
           },
           {
            "bin_end": 57.8,
            "bin_start": 50.699999999999996,
            "count": 10
           },
           {
            "bin_end": 64.9,
            "bin_start": 57.8,
            "count": 0
           },
           {
            "bin_end": 72,
            "bin_start": 64.9,
            "count": 3
           }
          ],
          "max": "72",
          "min": "1",
          "nan_count": 0,
          "unique_count": 55
         }
        },
        {
         "dtype": "int64",
         "name": "total_sulfur_dioxide",
         "stats": {
          "histogram": [
           {
            "bin_end": 34.3,
            "bin_start": 6,
            "count": 605
           },
           {
            "bin_end": 62.6,
            "bin_start": 34.3,
            "count": 408
           },
           {
            "bin_end": 90.9,
            "bin_start": 62.6,
            "count": 194
           },
           {
            "bin_end": 119.2,
            "bin_start": 90.9,
            "count": 96
           },
           {
            "bin_end": 147.5,
            "bin_start": 119.2,
            "count": 44
           },
           {
            "bin_end": 175.8,
            "bin_start": 147.5,
            "count": 10
           },
           {
            "bin_end": 204.1,
            "bin_start": 175.8,
            "count": 0
           },
           {
            "bin_end": 232.4,
            "bin_start": 204.1,
            "count": 0
           },
           {
            "bin_end": 260.70000000000005,
            "bin_start": 232.4,
            "count": 0
           },
           {
            "bin_end": 289,
            "bin_start": 260.70000000000005,
            "count": 2
           }
          ],
          "max": "289",
          "min": "6",
          "nan_count": 0,
          "unique_count": 142
         }
        },
        {
         "dtype": "float64",
         "name": "density",
         "stats": {
          "histogram": [
           {
            "bin_end": 10.922562999999998,
            "bin_start": 0.99007,
            "count": 1348
           },
           {
            "bin_end": 20.855055999999998,
            "bin_start": 10.922562999999998,
            "count": 0
           },
           {
            "bin_end": 30.787548999999995,
            "bin_start": 20.855055999999998,
            "count": 0
           },
           {
            "bin_end": 40.720042,
            "bin_start": 30.787548999999995,
            "count": 0
           },
           {
            "bin_end": 50.652535,
            "bin_start": 40.720042,
            "count": 0
           },
           {
            "bin_end": 60.585027999999994,
            "bin_start": 50.652535,
            "count": 0
           },
           {
            "bin_end": 70.517521,
            "bin_start": 60.585027999999994,
            "count": 0
           },
           {
            "bin_end": 80.450014,
            "bin_start": 70.517521,
            "count": 0
           },
           {
            "bin_end": 90.38250699999999,
            "bin_start": 80.450014,
            "count": 0
           },
           {
            "bin_end": 100.315,
            "bin_start": 90.38250699999999,
            "count": 11
           }
          ],
          "max": "100.315",
          "min": "0.99007",
          "nan_count": 0,
          "unique_count": 385
         }
        },
        {
         "dtype": "float64",
         "name": "pH",
         "stats": {
          "histogram": [
           {
            "bin_end": 2.867,
            "bin_start": 2.74,
            "count": 2
           },
           {
            "bin_end": 2.994,
            "bin_start": 2.867,
            "count": 26
           },
           {
            "bin_end": 3.121,
            "bin_start": 2.994,
            "count": 126
           },
           {
            "bin_end": 3.248,
            "bin_start": 3.121,
            "count": 327
           },
           {
            "bin_end": 3.375,
            "bin_start": 3.248,
            "count": 468
           },
           {
            "bin_end": 3.502,
            "bin_start": 3.375,
            "count": 285
           },
           {
            "bin_end": 3.6289999999999996,
            "bin_start": 3.502,
            "count": 94
           },
           {
            "bin_end": 3.756,
            "bin_start": 3.6289999999999996,
            "count": 24
           },
           {
            "bin_end": 3.883,
            "bin_start": 3.756,
            "count": 3
           },
           {
            "bin_end": 4.01,
            "bin_start": 3.883,
            "count": 4
           }
          ],
          "max": "4.01",
          "min": "2.74",
          "nan_count": 0,
          "unique_count": 89
         }
        },
        {
         "dtype": "float64",
         "name": "sulphates",
         "stats": {
          "histogram": [
           {
            "bin_end": 0.497,
            "bin_start": 0.33,
            "count": 131
           },
           {
            "bin_end": 0.6639999999999999,
            "bin_start": 0.497,
            "count": 729
           },
           {
            "bin_end": 0.831,
            "bin_start": 0.6639999999999999,
            "count": 345
           },
           {
            "bin_end": 0.998,
            "bin_start": 0.831,
            "count": 101
           },
           {
            "bin_end": 1.165,
            "bin_start": 0.998,
            "count": 29
           },
           {
            "bin_end": 1.3319999999999999,
            "bin_start": 1.165,
            "count": 12
           },
           {
            "bin_end": 1.4989999999999999,
            "bin_start": 1.3319999999999999,
            "count": 4
           },
           {
            "bin_end": 1.666,
            "bin_start": 1.4989999999999999,
            "count": 4
           },
           {
            "bin_end": 1.833,
            "bin_start": 1.666,
            "count": 0
           },
           {
            "bin_end": 2,
            "bin_start": 1.833,
            "count": 4
           }
          ],
          "max": "2.0",
          "min": "0.33",
          "nan_count": 0,
          "unique_count": 95
         }
        },
        {
         "dtype": "float64",
         "name": "alcohol",
         "stats": {
          "histogram": [
           {
            "bin_end": 9.05,
            "bin_start": 8.4,
            "count": 29
           },
           {
            "bin_end": 9.700000000000001,
            "bin_start": 9.05,
            "count": 468
           },
           {
            "bin_end": 10.350000000000001,
            "bin_start": 9.700000000000001,
            "count": 260
           },
           {
            "bin_end": 11,
            "bin_start": 10.350000000000001,
            "count": 211
           },
           {
            "bin_end": 11.65,
            "bin_start": 11,
            "count": 182
           },
           {
            "bin_end": 12.3,
            "bin_start": 11.65,
            "count": 102
           },
           {
            "bin_end": 12.95,
            "bin_start": 12.3,
            "count": 80
           },
           {
            "bin_end": 13.600000000000001,
            "bin_start": 12.95,
            "count": 19
           },
           {
            "bin_end": 14.25,
            "bin_start": 13.600000000000001,
            "count": 7
           },
           {
            "bin_end": 14.9,
            "bin_start": 14.25,
            "count": 1
           }
          ],
          "max": "14.9",
          "min": "8.4",
          "nan_count": 0,
          "unique_count": 51
         }
        },
        {
         "dtype": "int64",
         "name": "Outlier",
         "stats": {
          "histogram": [
           {
            "bin_end": -0.8,
            "bin_start": -1,
            "count": 136
           },
           {
            "bin_end": -0.6,
            "bin_start": -0.8,
            "count": 0
           },
           {
            "bin_end": -0.3999999999999999,
            "bin_start": -0.6,
            "count": 0
           },
           {
            "bin_end": -0.19999999999999996,
            "bin_start": -0.3999999999999999,
            "count": 0
           },
           {
            "bin_end": 0,
            "bin_start": -0.19999999999999996,
            "count": 0
           },
           {
            "bin_end": 0.20000000000000018,
            "bin_start": 0,
            "count": 0
           },
           {
            "bin_end": 0.40000000000000013,
            "bin_start": 0.20000000000000018,
            "count": 0
           },
           {
            "bin_end": 0.6000000000000001,
            "bin_start": 0.40000000000000013,
            "count": 0
           },
           {
            "bin_end": 0.8,
            "bin_start": 0.6000000000000001,
            "count": 0
           },
           {
            "bin_end": 1,
            "bin_start": 0.8,
            "count": 1223
           }
          ],
          "max": "1",
          "min": "-1",
          "nan_count": 0,
          "unique_count": 2
         }
        },
        {
         "dtype": "int64",
         "name": "quality",
         "stats": {
          "histogram": [
           {
            "bin_end": 3.5,
            "bin_start": 3,
            "count": 6
           },
           {
            "bin_end": 4,
            "bin_start": 3.5,
            "count": 0
           },
           {
            "bin_end": 4.5,
            "bin_start": 4,
            "count": 44
           },
           {
            "bin_end": 5,
            "bin_start": 4.5,
            "count": 0
           },
           {
            "bin_end": 5.5,
            "bin_start": 5,
            "count": 575
           },
           {
            "bin_end": 6,
            "bin_start": 5.5,
            "count": 0
           },
           {
            "bin_end": 6.5,
            "bin_start": 6,
            "count": 540
           },
           {
            "bin_end": 7,
            "bin_start": 6.5,
            "count": 0
           },
           {
            "bin_end": 7.5,
            "bin_start": 7,
            "count": 179
           },
           {
            "bin_end": 8,
            "bin_start": 7.5,
            "count": 15
           }
          ],
          "max": "8",
          "min": "3",
          "nan_count": 0,
          "unique_count": 6
         }
        },
        {
         "dtype": "int64",
         "name": "_deepnote_index_column"
        }
       ],
       "row_count": 1359,
       "rows": [
        {
         "Outlier": 1,
         "_deepnote_index_column": 0,
         "alcohol": 9.4,
         "chlorides": 0.076,
         "citric_acid": 0,
         "density": 0.9978,
         "fixed_acidity": 7.4,
         "free_sulfur_dioxide": 11,
         "id": 1,
         "pH": 3.51,
         "quality": 5,
         "residual_sugar": 1.9,
         "sulphates": 0.56,
         "total_sulfur_dioxide": 34,
         "volatile_acidity": 0.7
        },
        {
         "Outlier": -1,
         "_deepnote_index_column": 1,
         "alcohol": 9.8,
         "chlorides": 0.098,
         "citric_acid": 0,
         "density": 0.9968,
         "fixed_acidity": 7.8,
         "free_sulfur_dioxide": 25,
         "id": 2,
         "pH": 3.2,
         "quality": 5,
         "residual_sugar": 2.6,
         "sulphates": 0.68,
         "total_sulfur_dioxide": 67,
         "volatile_acidity": 0.88
        },
        {
         "Outlier": 1,
         "_deepnote_index_column": 2,
         "alcohol": 9.8,
         "chlorides": 0.092,
         "citric_acid": 0.04,
         "density": 0.997,
         "fixed_acidity": 7.8,
         "free_sulfur_dioxide": 15,
         "id": 3,
         "pH": 3.26,
         "quality": 5,
         "residual_sugar": 2.3,
         "sulphates": 0.65,
         "total_sulfur_dioxide": 54,
         "volatile_acidity": 0.76
        },
        {
         "Outlier": 1,
         "_deepnote_index_column": 3,
         "alcohol": 9.8,
         "chlorides": 0.075,
         "citric_acid": 0.56,
         "density": 0.998,
         "fixed_acidity": 11.2,
         "free_sulfur_dioxide": 17,
         "id": 4,
         "pH": 3.16,
         "quality": 6,
         "residual_sugar": 1.9,
         "sulphates": 0.58,
         "total_sulfur_dioxide": 60,
         "volatile_acidity": 0.28
        },
        {
         "Outlier": 1,
         "_deepnote_index_column": 4,
         "alcohol": 9.4,
         "chlorides": 0.076,
         "citric_acid": 0,
         "density": 0.9978,
         "fixed_acidity": 7.4,
         "free_sulfur_dioxide": 11,
         "id": 5,
         "pH": 3.51,
         "quality": 5,
         "residual_sugar": 1.9,
         "sulphates": 0.56,
         "total_sulfur_dioxide": 34,
         "volatile_acidity": 0.7
        },
        {
         "Outlier": 1,
         "_deepnote_index_column": 5,
         "alcohol": 9.4,
         "chlorides": 0.075,
         "citric_acid": 0,
         "density": 0.9978,
         "fixed_acidity": 7.4,
         "free_sulfur_dioxide": 13,
         "id": 6,
         "pH": 3.51,
         "quality": 5,
         "residual_sugar": 1.8,
         "sulphates": 0.56,
         "total_sulfur_dioxide": 40,
         "volatile_acidity": 0.66
        },
        {
         "Outlier": 1,
         "_deepnote_index_column": 6,
         "alcohol": 9.4,
         "chlorides": 0.069,
         "citric_acid": 0.06,
         "density": 0.9964,
         "fixed_acidity": 7.9,
         "free_sulfur_dioxide": 15,
         "id": 7,
         "pH": 3.3,
         "quality": 5,
         "residual_sugar": 1.6,
         "sulphates": 0.46,
         "total_sulfur_dioxide": 59,
         "volatile_acidity": 0.6
        },
        {
         "Outlier": 1,
         "_deepnote_index_column": 7,
         "alcohol": 10,
         "chlorides": 0.065,
         "citric_acid": 0,
         "density": 0.9946,
         "fixed_acidity": 7.3,
         "free_sulfur_dioxide": 15,
         "id": 8,
         "pH": 3.39,
         "quality": 7,
         "residual_sugar": 1.2,
         "sulphates": 0.47,
         "total_sulfur_dioxide": 21,
         "volatile_acidity": 0.65
        },
        {
         "Outlier": 1,
         "_deepnote_index_column": 8,
         "alcohol": 9.5,
         "chlorides": 0.073,
         "citric_acid": 0.02,
         "density": 0.9968,
         "fixed_acidity": 7.8,
         "free_sulfur_dioxide": 9,
         "id": 9,
         "pH": 3.36,
         "quality": 7,
         "residual_sugar": 2,
         "sulphates": 0.57,
         "total_sulfur_dioxide": 18,
         "volatile_acidity": 0.58
        },
        {
         "Outlier": 1,
         "_deepnote_index_column": 9,
         "alcohol": 10.5,
         "chlorides": 0.071,
         "citric_acid": 0.36,
         "density": 0.9978,
         "fixed_acidity": 7.5,
         "free_sulfur_dioxide": 17,
         "id": 10,
         "pH": 3.35,
         "quality": 5,
         "residual_sugar": 6.1,
         "sulphates": 0.8,
         "total_sulfur_dioxide": 102,
         "volatile_acidity": 0.5
        },
        {
         "Outlier": 1,
         "_deepnote_index_column": 10,
         "alcohol": 9.2,
         "chlorides": 0.097,
         "citric_acid": 0.08,
         "density": 0.9959,
         "fixed_acidity": 6.7,
         "free_sulfur_dioxide": 15,
         "id": 11,
         "pH": 3.28,
         "quality": 5,
         "residual_sugar": 1.8,
         "sulphates": 0.54,
         "total_sulfur_dioxide": 65,
         "volatile_acidity": 0.58
        },
        {
         "Outlier": 1,
         "_deepnote_index_column": 11,
         "alcohol": 10.5,
         "chlorides": 0.071,
         "citric_acid": 0.36,
         "density": 0.9978,
         "fixed_acidity": 7.5,
         "free_sulfur_dioxide": 17,
         "id": 12,
         "pH": 3.35,
         "quality": 5,
         "residual_sugar": 6.1,
         "sulphates": 0.8,
         "total_sulfur_dioxide": 102,
         "volatile_acidity": 0.5
        },
        {
         "Outlier": 1,
         "_deepnote_index_column": 12,
         "alcohol": 9.9,
         "chlorides": 0.089,
         "citric_acid": 0,
         "density": 0.9943,
         "fixed_acidity": 5.6,
         "free_sulfur_dioxide": 16,
         "id": 13,
         "pH": 3.58,
         "quality": 5,
         "residual_sugar": 1.6,
         "sulphates": 0.52,
         "total_sulfur_dioxide": 59,
         "volatile_acidity": 0.615
        },
        {
         "Outlier": 1,
         "_deepnote_index_column": 13,
         "alcohol": 9.1,
         "chlorides": 0.114,
         "citric_acid": 0.29,
         "density": 0.9974,
         "fixed_acidity": 7.8,
         "free_sulfur_dioxide": 9,
         "id": 14,
         "pH": 3.26,
         "quality": 5,
         "residual_sugar": 1.6,
         "sulphates": 1.56,
         "total_sulfur_dioxide": 29,
         "volatile_acidity": 0.61
        },
        {
         "Outlier": -1,
         "_deepnote_index_column": 14,
         "alcohol": 9.2,
         "chlorides": 0.176,
         "citric_acid": 0.18,
         "density": 0.9986,
         "fixed_acidity": 8.9,
         "free_sulfur_dioxide": 52,
         "id": 15,
         "pH": 3.16,
         "quality": 5,
         "residual_sugar": 3.8,
         "sulphates": 0.88,
         "total_sulfur_dioxide": 145,
         "volatile_acidity": 0.62
        },
        {
         "Outlier": -1,
         "_deepnote_index_column": 15,
         "alcohol": 9.2,
         "chlorides": 0.17,
         "citric_acid": 0.19,
         "density": 0.9986,
         "fixed_acidity": 8.9,
         "free_sulfur_dioxide": 51,
         "id": 16,
         "pH": 3.17,
         "quality": 5,
         "residual_sugar": 3.9,
         "sulphates": 0.93,
         "total_sulfur_dioxide": 148,
         "volatile_acidity": 0.62
        },
        {
         "Outlier": 1,
         "_deepnote_index_column": 16,
         "alcohol": 10.5,
         "chlorides": 0.092,
         "citric_acid": 0.56,
         "density": 0.9969,
         "fixed_acidity": 8.5,
         "free_sulfur_dioxide": 35,
         "id": 17,
         "pH": 3.3,
         "quality": 7,
         "residual_sugar": 1.8,
         "sulphates": 0.75,
         "total_sulfur_dioxide": 103,
         "volatile_acidity": 0.28
        },
        {
         "Outlier": 1,
         "_deepnote_index_column": 17,
         "alcohol": 9.3,
         "chlorides": 0.368,
         "citric_acid": 0.28,
         "density": 0.9968,
         "fixed_acidity": 8.1,
         "free_sulfur_dioxide": 16,
         "id": 18,
         "pH": 3.11,
         "quality": 5,
         "residual_sugar": 1.7,
         "sulphates": 1.28,
         "total_sulfur_dioxide": 56,
         "volatile_acidity": 0.56
        },
        {
         "Outlier": 1,
         "_deepnote_index_column": 18,
         "alcohol": 9,
         "chlorides": 0.086,
         "citric_acid": 0.08,
         "density": 0.9974,
         "fixed_acidity": 7.4,
         "free_sulfur_dioxide": 6,
         "id": 19,
         "pH": 3.38,
         "quality": 4,
         "residual_sugar": 4.4,
         "sulphates": 0.5,
         "total_sulfur_dioxide": 29,
         "volatile_acidity": 0.59
        },
        {
         "Outlier": 1,
         "_deepnote_index_column": 19,
         "alcohol": 9.2,
         "chlorides": 0.341,
         "citric_acid": 0.51,
         "density": 0.9969,
         "fixed_acidity": 7.9,
         "free_sulfur_dioxide": 17,
         "id": 20,
         "pH": 3.04,
         "quality": 6,
         "residual_sugar": 1.8,
         "sulphates": 1.08,
         "total_sulfur_dioxide": 56,
         "volatile_acidity": 0.32
        },
        {
         "Outlier": 1,
         "_deepnote_index_column": 20,
         "alcohol": 9.4,
         "chlorides": 0.077,
         "citric_acid": 0.48,
         "density": 0.9968,
         "fixed_acidity": 8.9,
         "free_sulfur_dioxide": 29,
         "id": 21,
         "pH": 3.39,
         "quality": 6,
         "residual_sugar": 1.8,
         "sulphates": 0.53,
         "total_sulfur_dioxide": 60,
         "volatile_acidity": 0.22
        },
        {
         "Outlier": 1,
         "_deepnote_index_column": 21,
         "alcohol": 9.7,
         "chlorides": 0.082,
         "citric_acid": 0.31,
         "density": 0.9982,
         "fixed_acidity": 7.6,
         "free_sulfur_dioxide": 23,
         "id": 22,
         "pH": 3.52,
         "quality": 5,
         "residual_sugar": 2.3,
         "sulphates": 0.65,
         "total_sulfur_dioxide": 71,
         "volatile_acidity": 0.39
        },
        {
         "Outlier": 1,
         "_deepnote_index_column": 22,
         "alcohol": 9.5,
         "chlorides": 0.106,
         "citric_acid": 0.21,
         "density": 0.9966,
         "fixed_acidity": 7.9,
         "free_sulfur_dioxide": 10,
         "id": 23,
         "pH": 3.17,
         "quality": 5,
         "residual_sugar": 1.6,
         "sulphates": 0.91,
         "total_sulfur_dioxide": 37,
         "volatile_acidity": 0.43
        },
        {
         "Outlier": 1,
         "_deepnote_index_column": 23,
         "alcohol": 9.4,
         "chlorides": 0.084,
         "citric_acid": 0.11,
         "density": 0.9968,
         "fixed_acidity": 8.5,
         "free_sulfur_dioxide": 9,
         "id": 24,
         "pH": 3.17,
         "quality": 5,
         "residual_sugar": 2.3,
         "sulphates": 0.53,
         "total_sulfur_dioxide": 67,
         "volatile_acidity": 0.49
        },
        {
         "Outlier": 1,
         "_deepnote_index_column": 24,
         "alcohol": 9.7,
         "chlorides": 0.085,
         "citric_acid": 0.14,
         "density": 0.9968,
         "fixed_acidity": 6.9,
         "free_sulfur_dioxide": 21,
         "id": 25,
         "pH": 3.43,
         "quality": 6,
         "residual_sugar": 2.4,
         "sulphates": 0.63,
         "total_sulfur_dioxide": 40,
         "volatile_acidity": 0.4
        }
       ]
      },
      "text/html": [
       "<div>\n",
       "<style scoped>\n",
       "    .dataframe tbody tr th:only-of-type {\n",
       "        vertical-align: middle;\n",
       "    }\n",
       "\n",
       "    .dataframe tbody tr th {\n",
       "        vertical-align: top;\n",
       "    }\n",
       "\n",
       "    .dataframe thead th {\n",
       "        text-align: right;\n",
       "    }\n",
       "</style>\n",
       "<table border=\"1\" class=\"dataframe\">\n",
       "  <thead>\n",
       "    <tr style=\"text-align: right;\">\n",
       "      <th></th>\n",
       "      <th>id</th>\n",
       "      <th>fixed_acidity</th>\n",
       "      <th>volatile_acidity</th>\n",
       "      <th>citric_acid</th>\n",
       "      <th>residual_sugar</th>\n",
       "      <th>chlorides</th>\n",
       "      <th>free_sulfur_dioxide</th>\n",
       "      <th>total_sulfur_dioxide</th>\n",
       "      <th>density</th>\n",
       "      <th>pH</th>\n",
       "      <th>sulphates</th>\n",
       "      <th>alcohol</th>\n",
       "      <th>Outlier</th>\n",
       "      <th>quality</th>\n",
       "    </tr>\n",
       "  </thead>\n",
       "  <tbody>\n",
       "    <tr>\n",
       "      <th>0</th>\n",
       "      <td>1</td>\n",
       "      <td>7.4</td>\n",
       "      <td>0.70</td>\n",
       "      <td>0.00</td>\n",
       "      <td>1.9</td>\n",
       "      <td>0.076</td>\n",
       "      <td>11</td>\n",
       "      <td>34</td>\n",
       "      <td>0.99780</td>\n",
       "      <td>3.51</td>\n",
       "      <td>0.56</td>\n",
       "      <td>9.4</td>\n",
       "      <td>1</td>\n",
       "      <td>5</td>\n",
       "    </tr>\n",
       "    <tr>\n",
       "      <th>1</th>\n",
       "      <td>2</td>\n",
       "      <td>7.8</td>\n",
       "      <td>0.88</td>\n",
       "      <td>0.00</td>\n",
       "      <td>2.6</td>\n",
       "      <td>0.098</td>\n",
       "      <td>25</td>\n",
       "      <td>67</td>\n",
       "      <td>0.99680</td>\n",
       "      <td>3.20</td>\n",
       "      <td>0.68</td>\n",
       "      <td>9.8</td>\n",
       "      <td>-1</td>\n",
       "      <td>5</td>\n",
       "    </tr>\n",
       "    <tr>\n",
       "      <th>2</th>\n",
       "      <td>3</td>\n",
       "      <td>7.8</td>\n",
       "      <td>0.76</td>\n",
       "      <td>0.04</td>\n",
       "      <td>2.3</td>\n",
       "      <td>0.092</td>\n",
       "      <td>15</td>\n",
       "      <td>54</td>\n",
       "      <td>0.99700</td>\n",
       "      <td>3.26</td>\n",
       "      <td>0.65</td>\n",
       "      <td>9.8</td>\n",
       "      <td>1</td>\n",
       "      <td>5</td>\n",
       "    </tr>\n",
       "    <tr>\n",
       "      <th>3</th>\n",
       "      <td>4</td>\n",
       "      <td>11.2</td>\n",
       "      <td>0.28</td>\n",
       "      <td>0.56</td>\n",
       "      <td>1.9</td>\n",
       "      <td>0.075</td>\n",
       "      <td>17</td>\n",
       "      <td>60</td>\n",
       "      <td>0.99800</td>\n",
       "      <td>3.16</td>\n",
       "      <td>0.58</td>\n",
       "      <td>9.8</td>\n",
       "      <td>1</td>\n",
       "      <td>6</td>\n",
       "    </tr>\n",
       "    <tr>\n",
       "      <th>4</th>\n",
       "      <td>5</td>\n",
       "      <td>7.4</td>\n",
       "      <td>0.70</td>\n",
       "      <td>0.00</td>\n",
       "      <td>1.9</td>\n",
       "      <td>0.076</td>\n",
       "      <td>11</td>\n",
       "      <td>34</td>\n",
       "      <td>0.99780</td>\n",
       "      <td>3.51</td>\n",
       "      <td>0.56</td>\n",
       "      <td>9.4</td>\n",
       "      <td>1</td>\n",
       "      <td>5</td>\n",
       "    </tr>\n",
       "    <tr>\n",
       "      <th>...</th>\n",
       "      <td>...</td>\n",
       "      <td>...</td>\n",
       "      <td>...</td>\n",
       "      <td>...</td>\n",
       "      <td>...</td>\n",
       "      <td>...</td>\n",
       "      <td>...</td>\n",
       "      <td>...</td>\n",
       "      <td>...</td>\n",
       "      <td>...</td>\n",
       "      <td>...</td>\n",
       "      <td>...</td>\n",
       "      <td>...</td>\n",
       "      <td>...</td>\n",
       "    </tr>\n",
       "    <tr>\n",
       "      <th>1354</th>\n",
       "      <td>1355</td>\n",
       "      <td>7.2</td>\n",
       "      <td>0.58</td>\n",
       "      <td>0.03</td>\n",
       "      <td>2.3</td>\n",
       "      <td>0.077</td>\n",
       "      <td>7</td>\n",
       "      <td>28</td>\n",
       "      <td>0.99568</td>\n",
       "      <td>3.35</td>\n",
       "      <td>0.52</td>\n",
       "      <td>10.0</td>\n",
       "      <td>-1</td>\n",
       "      <td>5</td>\n",
       "    </tr>\n",
       "    <tr>\n",
       "      <th>1355</th>\n",
       "      <td>1356</td>\n",
       "      <td>6.1</td>\n",
       "      <td>0.32</td>\n",
       "      <td>0.25</td>\n",
       "      <td>1.8</td>\n",
       "      <td>0.086</td>\n",
       "      <td>5</td>\n",
       "      <td>32</td>\n",
       "      <td>0.99464</td>\n",
       "      <td>3.36</td>\n",
       "      <td>0.44</td>\n",
       "      <td>10.1</td>\n",
       "      <td>-1</td>\n",
       "      <td>5</td>\n",
       "    </tr>\n",
       "    <tr>\n",
       "      <th>1356</th>\n",
       "      <td>1357</td>\n",
       "      <td>6.1</td>\n",
       "      <td>0.34</td>\n",
       "      <td>0.25</td>\n",
       "      <td>1.8</td>\n",
       "      <td>0.084</td>\n",
       "      <td>4</td>\n",
       "      <td>28</td>\n",
       "      <td>0.99464</td>\n",
       "      <td>3.36</td>\n",
       "      <td>0.44</td>\n",
       "      <td>10.1</td>\n",
       "      <td>-1</td>\n",
       "      <td>5</td>\n",
       "    </tr>\n",
       "    <tr>\n",
       "      <th>1357</th>\n",
       "      <td>1358</td>\n",
       "      <td>7.3</td>\n",
       "      <td>0.43</td>\n",
       "      <td>0.24</td>\n",
       "      <td>2.5</td>\n",
       "      <td>0.078</td>\n",
       "      <td>27</td>\n",
       "      <td>67</td>\n",
       "      <td>0.99648</td>\n",
       "      <td>3.60</td>\n",
       "      <td>0.59</td>\n",
       "      <td>11.1</td>\n",
       "      <td>1</td>\n",
       "      <td>6</td>\n",
       "    </tr>\n",
       "    <tr>\n",
       "      <th>1358</th>\n",
       "      <td>1359</td>\n",
       "      <td>7.4</td>\n",
       "      <td>0.64</td>\n",
       "      <td>0.17</td>\n",
       "      <td>5.4</td>\n",
       "      <td>0.168</td>\n",
       "      <td>52</td>\n",
       "      <td>98</td>\n",
       "      <td>0.99736</td>\n",
       "      <td>3.28</td>\n",
       "      <td>0.50</td>\n",
       "      <td>9.5</td>\n",
       "      <td>-1</td>\n",
       "      <td>5</td>\n",
       "    </tr>\n",
       "  </tbody>\n",
       "</table>\n",
       "<p>1359 rows × 14 columns</p>\n",
       "</div>"
      ],
      "text/plain": [
       "        id  fixed_acidity  volatile_acidity  citric_acid  residual_sugar  \\\n",
       "0        1            7.4              0.70         0.00             1.9   \n",
       "1        2            7.8              0.88         0.00             2.6   \n",
       "2        3            7.8              0.76         0.04             2.3   \n",
       "3        4           11.2              0.28         0.56             1.9   \n",
       "4        5            7.4              0.70         0.00             1.9   \n",
       "...    ...            ...               ...          ...             ...   \n",
       "1354  1355            7.2              0.58         0.03             2.3   \n",
       "1355  1356            6.1              0.32         0.25             1.8   \n",
       "1356  1357            6.1              0.34         0.25             1.8   \n",
       "1357  1358            7.3              0.43         0.24             2.5   \n",
       "1358  1359            7.4              0.64         0.17             5.4   \n",
       "\n",
       "      chlorides  free_sulfur_dioxide  total_sulfur_dioxide  density    pH  \\\n",
       "0         0.076                   11                    34  0.99780  3.51   \n",
       "1         0.098                   25                    67  0.99680  3.20   \n",
       "2         0.092                   15                    54  0.99700  3.26   \n",
       "3         0.075                   17                    60  0.99800  3.16   \n",
       "4         0.076                   11                    34  0.99780  3.51   \n",
       "...         ...                  ...                   ...      ...   ...   \n",
       "1354      0.077                    7                    28  0.99568  3.35   \n",
       "1355      0.086                    5                    32  0.99464  3.36   \n",
       "1356      0.084                    4                    28  0.99464  3.36   \n",
       "1357      0.078                   27                    67  0.99648  3.60   \n",
       "1358      0.168                   52                    98  0.99736  3.28   \n",
       "\n",
       "      sulphates  alcohol  Outlier  quality  \n",
       "0          0.56      9.4        1        5  \n",
       "1          0.68      9.8       -1        5  \n",
       "2          0.65      9.8        1        5  \n",
       "3          0.58      9.8        1        6  \n",
       "4          0.56      9.4        1        5  \n",
       "...         ...      ...      ...      ...  \n",
       "1354       0.52     10.0       -1        5  \n",
       "1355       0.44     10.1       -1        5  \n",
       "1356       0.44     10.1       -1        5  \n",
       "1357       0.59     11.1        1        6  \n",
       "1358       0.50      9.5       -1        5  \n",
       "\n",
       "[1359 rows x 14 columns]"
      ]
     },
     "execution_count": 4,
     "metadata": {},
     "output_type": "execute_result"
    }
   ],
   "outputs_reference": "s3:deepnote-cell-outputs-production/edffa6b8-dd04-4c30-af3c-6f0af7bd3f18",
   "source": [
    "from sklearn.neighbors import LocalOutlierFactor\n",
    "\n",
    "df_wine = df_2\n",
    "# df_wine\n",
    "\n",
    "# simpan quality\n",
    "wine_quality = df_wine[['quality']]\n",
    "\n",
    "# #hapus kolom yang tidak diperlukan\n",
    "df_wine = df_wine.drop(['quality'], axis=1)\n",
    "# df_wine\n",
    "# df_wine.coloumns\n",
    "\n",
    "# # Inisialisasi dan fit model LOF\n",
    "lof = LocalOutlierFactor(n_neighbors=4, contamination=0.1)  # Set parameter LOF\n",
    "outlier_labels = lof.fit_predict(df_wine)\n",
    "\n",
    "# # Tambahkan label outlier dan quality k cve dataframe\n",
    "df_wine['Outlier'] = outlier_labels\n",
    "df_wine['quality'] = wine_quality\n",
    "# df_cleaned = df_wine[df_wine['Outlier'] != -1]\n",
    "\n",
    "# df_cleaned\n",
    "df_wine\n",
    "# print(df_cleaned[['quality','LOF_Score']])"
   ]
  },
  {
   "block_group": "3bf67076151744fd9217fff41f17b9f8",
   "cell_type": "markdown",
   "metadata": {
    "cell_id": "d04607efd8ac445e8d817c4191c71090",
    "deepnote_cell_type": "text-cell-p",
    "formattedRanges": []
   },
   "source": [
    "Penjelasan Code:"
   ]
  },
  {
   "block_group": "5e2aeff2d91c4265a8bb033b14aeabed",
   "cell_type": "markdown",
   "metadata": {
    "cell_id": "518121d805ae4390b73efa1153d7b43b",
    "deepnote_cell_type": "text-cell-p",
    "formattedRanges": []
   },
   "source": [
    "dalam code diatas untuk menghitung apakah data di setiap dataset tersebut memiliki data anomali kita hitung setiap fitur yang ada oleh karena itu sebelum menghitung kita simpan terlebih dahulu class atau quality yang ada ke dalam variabel baru. setelah itu kita hapus quality yang ada di dalam dataframe. lakukan perhitungan local outlier factor nya dengan menggunakan library sklearn local outlier factor. setelah mendapatkan nilai outlier dari setiap fitur tampilkan dan gabung kedalam dataframe."
   ]
  },
  {
   "block_group": "f8b30b51a2074ad2a553337554536c47",
   "cell_type": "markdown",
   "metadata": {
    "cell_id": "a7fd4664dff84382be247b33eb58a81c",
    "deepnote_cell_type": "text-cell-p",
    "formattedRanges": []
   },
   "source": [
    "dari hasil perhitungan tersebut dapat kita lihat bahwa dataframe memiliki outlier dengan nilai -1"
   ]
  },
  {
   "block_group": "2b80fd8ef8404772a7389e677e54ab48",
   "cell_type": "markdown",
   "metadata": {
    "cell_id": "b84fbc369b144a4ea5086f639cc02f17",
    "deepnote_cell_type": "text-cell-h3",
    "formattedRanges": []
   },
   "source": [
    "### Cek Missing Values"
   ]
  },
  {
   "block_group": "eccc520420164681b20b80e18533750a",
   "cell_type": "markdown",
   "metadata": {
    "cell_id": "2763d7ab58824d48a65d54ec9a4f4230",
    "deepnote_cell_type": "text-cell-p",
    "formattedRanges": []
   },
   "source": [
    "disini kita dapat mengetahui apakah data set yang kita gunakan memiliki missing value atau tidak, untuk mengetahui missing valuenya kita dapat menggunakan code dibawah ini:"
   ]
  },
  {
   "block_group": "701f3039eafe4895aba8007b1ac86da7",
   "cell_type": "code",
   "content_dependencies": null,
   "execution_count": null,
   "metadata": {
    "cell_id": "745572be9b764219922c14200ce11cba",
    "deepnote_cell_type": "code",
    "deepnote_to_be_reexecuted": false,
    "execution_millis": 413,
    "execution_start": 1718197902471,
    "source_hash": null
   },
   "outputs": [
    {
     "data": {
      "text/plain": [
       "id                      0\n",
       "fixed_acidity           0\n",
       "volatile_acidity        0\n",
       "citric_acid             0\n",
       "residual_sugar          0\n",
       "chlorides               0\n",
       "free_sulfur_dioxide     0\n",
       "total_sulfur_dioxide    0\n",
       "density                 0\n",
       "pH                      0\n",
       "sulphates               0\n",
       "alcohol                 0\n",
       "quality                 0\n",
       "dtype: int64"
      ]
     },
     "execution_count": 5,
     "metadata": {},
     "output_type": "execute_result"
    }
   ],
   "outputs_reference": "dbtable:cell_outputs/4aecc16d-1c0f-4a74-b284-66dc5dca351e",
   "source": [
    "df = df_2.isnull().sum()\n",
    "\n",
    "df"
   ]
  },
  {
   "block_group": "a4467bbab8b8442491e9b0856addbe2d",
   "cell_type": "markdown",
   "metadata": {
    "cell_id": "3a9fb28aa3b54364889f484703861c6e",
    "deepnote_cell_type": "text-cell-p",
    "formattedRanges": []
   },
   "source": [
    "dari code diatas kita dapat mengetahui bahwa dataset yang kita gunakan tidak memiliki missing value. setelah kita mengetahui bahwa data yang digunakan tidak memiliki missing value berikutnya kita cari apakah dataset ini memiliki data anomali. berikut merupakan cara untuk mengetahui apakah dataset ini memiliki data anomali atau tidak."
   ]
  },
  {
   "block_group": "e1daa79c22f847bdbda7cb2bd1e1ef59",
   "cell_type": "markdown",
   "metadata": {
    "cell_id": "6af6caa0e9a544539b7381f3ada5c9c5",
    "deepnote_cell_type": "text-cell-h1",
    "formattedRanges": []
   },
   "source": [
    "# PRE PROCESSING DATA"
   ]
  },
  {
   "block_group": "ae2d388f49804133929bc137b94a94ba",
   "cell_type": "markdown",
   "metadata": {
    "cell_id": "d8a6d690bcbf4d7c9f2d29e2409bac80",
    "deepnote_cell_type": "text-cell-p",
    "formattedRanges": []
   },
   "source": [
    "Data preprocessing merupakan komponen dalam persiapan data, yang mendeskripsikan semua jenis pemrosesan yang dilakukan pada data mentah agar siap dilakukan pemrosesan data lanjutan, seperti visualisasi data dan pembentukan model."
   ]
  },
  {
   "block_group": "35df386d6d6b40f1a372c6bc9e3398eb",
   "cell_type": "markdown",
   "metadata": {
    "cell_id": "8554dec672474c8792ed5f9af5ed5a3d",
    "deepnote_cell_type": "text-cell-p",
    "formattedRanges": []
   },
   "source": [
    "Preprocessing data berfungsi untuk mengubah data menjadi format yang lebih mudah dan efektif. Proses ini menjadi langkah awal yang penting dalam upaya data mining. Selain itu, teknik data preprocessing juga telah diadaptasi untuk melatih model machine learning. Berikut adalah tahapan pra-pemrosesan data yang kemi lakukan pada dataset yang kami miliki:"
   ]
  },
  {
   "block_group": "c96f0e2827b049c7b42a1c9bd77af564",
   "cell_type": "markdown",
   "metadata": {
    "cell_id": "3bbf990a36f641139e5a24b12c58c3bc",
    "deepnote_cell_type": "text-cell-p",
    "formattedRanges": []
   },
   "source": [
    "1. Pembersihan Data (Data Cleaning):\r\n",
    "    Data cleaning atau pembersihan data terutama dilakukan sebagai bagian dari data preprocessing untuk membersihkan data dengan mengisi nilai yang hilang, menghaluskan data yang noise, menyelesaikan data yang tidak konsisten, dan menghapus outlier."
   ]
  },
  {
   "block_group": "056c450e7e36434eb013193748346ec4",
   "cell_type": "markdown",
   "metadata": {
    "cell_id": "c1e103c957714f1da1da9009f9691133",
    "deepnote_cell_type": "text-cell-p",
    "formattedRanges": []
   },
   "source": [
    "2. Penggabungan Data (Data Integration):\r\n",
    "    Integrasi data adalah salah satu langkah data preprocessing yang digunakan untuk menggabungkan data yang ada di berbagai sumber menjadi satu penyimpanan data yang lebih besar seperti gudang data atau data warehouse."
   ]
  },
  {
   "block_group": "db389d82b6934352b6b84218b6de5167",
   "cell_type": "markdown",
   "metadata": {
    "cell_id": "18d5baca417f44bc9dbb3f964eebee6e",
    "deepnote_cell_type": "text-cell-h2",
    "formattedRanges": []
   },
   "source": [
    "## Penanganan Outlier dengan menghapus outlier"
   ]
  },
  {
   "block_group": "1edd451a88e64b5fb835adf8a9211503",
   "cell_type": "markdown",
   "metadata": {
    "cell_id": "32035b0576e9424986549671f90809ea",
    "deepnote_cell_type": "text-cell-p",
    "formattedRanges": []
   },
   "source": [
    "untuk penanganan data anomali kita bisa melakukan penghapusan data yang memiliki nilai outlier atau nilai anomali. dalam dataframe duatas kita mengetahui bahwa data anomali memiliki niali -1 maka kita akan menghapus baris data outlier tersebut. berikut merupakan hasil dari pengahpusan data anomali:"
   ]
  },
  {
   "block_group": "d25acf579cfe4d1f93c02d579dd2429b",
   "cell_type": "code",
   "content_dependencies": null,
   "execution_count": null,
   "metadata": {
    "cell_id": "6057a39d8be540f2872b29bc899c350e",
    "deepnote_cell_type": "code",
    "deepnote_to_be_reexecuted": false,
    "execution_millis": 405,
    "execution_start": 1718197902480,
    "source_hash": null
   },
   "outputs": [
    {
     "data": {
      "application/vnd.deepnote.dataframe.v3+json": {
       "column_count": 14,
       "columns": [
        {
         "dtype": "int64",
         "name": "id",
         "stats": {
          "histogram": [
           {
            "bin_end": 137.7,
            "bin_start": 2,
            "count": 11
           },
           {
            "bin_end": 273.4,
            "bin_start": 137.7,
            "count": 8
           },
           {
            "bin_end": 409.09999999999997,
            "bin_start": 273.4,
            "count": 8
           },
           {
            "bin_end": 544.8,
            "bin_start": 409.09999999999997,
            "count": 13
           },
           {
            "bin_end": 680.5,
            "bin_start": 544.8,
            "count": 11
           },
           {
            "bin_end": 816.1999999999999,
            "bin_start": 680.5,
            "count": 15
           },
           {
            "bin_end": 951.8999999999999,
            "bin_start": 816.1999999999999,
            "count": 22
           },
           {
            "bin_end": 1087.6,
            "bin_start": 951.8999999999999,
            "count": 16
           },
           {
            "bin_end": 1223.3,
            "bin_start": 1087.6,
            "count": 9
           },
           {
            "bin_end": 1359,
            "bin_start": 1223.3,
            "count": 23
           }
          ],
          "max": "1359",
          "min": "2",
          "nan_count": 0,
          "unique_count": 136
         }
        },
        {
         "dtype": "float64",
         "name": "fixed_acidity",
         "stats": {
          "histogram": [
           {
            "bin_end": 5.699999999999999,
            "bin_start": 4.6,
            "count": 5
           },
           {
            "bin_end": 6.8,
            "bin_start": 5.699999999999999,
            "count": 21
           },
           {
            "bin_end": 7.9,
            "bin_start": 6.8,
            "count": 33
           },
           {
            "bin_end": 9,
            "bin_start": 7.9,
            "count": 36
           },
           {
            "bin_end": 10.1,
            "bin_start": 9,
            "count": 17
           },
           {
            "bin_end": 11.2,
            "bin_start": 10.1,
            "count": 9
           },
           {
            "bin_end": 12.3,
            "bin_start": 11.2,
            "count": 9
           },
           {
            "bin_end": 13.4,
            "bin_start": 12.3,
            "count": 1
           },
           {
            "bin_end": 14.5,
            "bin_start": 13.4,
            "count": 1
           },
           {
            "bin_end": 15.6,
            "bin_start": 14.5,
            "count": 4
           }
          ],
          "max": "15.6",
          "min": "4.6",
          "nan_count": 0,
          "unique_count": 52
         }
        },
        {
         "dtype": "float64",
         "name": "volatile_acidity",
         "stats": {
          "histogram": [
           {
            "bin_end": 0.26549999999999996,
            "bin_start": 0.18,
            "count": 8
           },
           {
            "bin_end": 0.351,
            "bin_start": 0.26549999999999996,
            "count": 29
           },
           {
            "bin_end": 0.43649999999999994,
            "bin_start": 0.351,
            "count": 19
           },
           {
            "bin_end": 0.522,
            "bin_start": 0.43649999999999994,
            "count": 15
           },
           {
            "bin_end": 0.6074999999999999,
            "bin_start": 0.522,
            "count": 20
           },
           {
            "bin_end": 0.6929999999999998,
            "bin_start": 0.6074999999999999,
            "count": 26
           },
           {
            "bin_end": 0.7785,
            "bin_start": 0.6929999999999998,
            "count": 6
           },
           {
            "bin_end": 0.8639999999999999,
            "bin_start": 0.7785,
            "count": 5
           },
           {
            "bin_end": 0.9495,
            "bin_start": 0.8639999999999999,
            "count": 5
           },
           {
            "bin_end": 1.035,
            "bin_start": 0.9495,
            "count": 3
           }
          ],
          "max": "1.035",
          "min": "0.18",
          "nan_count": 0,
          "unique_count": 65
         }
        },
        {
         "dtype": "float64",
         "name": "citric_acid",
         "stats": {
          "histogram": [
           {
            "bin_end": 0.076,
            "bin_start": 0,
            "count": 28
           },
           {
            "bin_end": 0.152,
            "bin_start": 0.076,
            "count": 13
           },
           {
            "bin_end": 0.22799999999999998,
            "bin_start": 0.152,
            "count": 15
           },
           {
            "bin_end": 0.304,
            "bin_start": 0.22799999999999998,
            "count": 20
           },
           {
            "bin_end": 0.38,
            "bin_start": 0.304,
            "count": 15
           },
           {
            "bin_end": 0.45599999999999996,
            "bin_start": 0.38,
            "count": 12
           },
           {
            "bin_end": 0.532,
            "bin_start": 0.45599999999999996,
            "count": 18
           },
           {
            "bin_end": 0.608,
            "bin_start": 0.532,
            "count": 7
           },
           {
            "bin_end": 0.6839999999999999,
            "bin_start": 0.608,
            "count": 3
           },
           {
            "bin_end": 0.76,
            "bin_start": 0.6839999999999999,
            "count": 5
           }
          ],
          "max": "0.76",
          "min": "0.0",
          "nan_count": 0,
          "unique_count": 55
         }
        },
        {
         "dtype": "float64",
         "name": "residual_sugar",
         "stats": {
          "histogram": [
           {
            "bin_end": 2.36,
            "bin_start": 0.9,
            "count": 67
           },
           {
            "bin_end": 3.82,
            "bin_start": 2.36,
            "count": 43
           },
           {
            "bin_end": 5.28,
            "bin_start": 3.82,
            "count": 15
           },
           {
            "bin_end": 6.74,
            "bin_start": 5.28,
            "count": 5
           },
           {
            "bin_end": 8.2,
            "bin_start": 6.74,
            "count": 1
           },
           {
            "bin_end": 9.66,
            "bin_start": 8.2,
            "count": 2
           },
           {
            "bin_end": 11.12,
            "bin_start": 9.66,
            "count": 0
           },
           {
            "bin_end": 12.58,
            "bin_start": 11.12,
            "count": 0
           },
           {
            "bin_end": 14.040000000000001,
            "bin_start": 12.58,
            "count": 2
           },
           {
            "bin_end": 15.5,
            "bin_start": 14.040000000000001,
            "count": 1
           }
          ],
          "max": "15.5",
          "min": "0.9",
          "nan_count": 0,
          "unique_count": 41
         }
        },
        {
         "dtype": "float64",
         "name": "chlorides",
         "stats": {
          "histogram": [
           {
            "bin_end": 0.028399999999999998,
            "bin_start": 0.012,
            "count": 2
           },
           {
            "bin_end": 0.04479999999999999,
            "bin_start": 0.028399999999999998,
            "count": 3
           },
           {
            "bin_end": 0.06119999999999999,
            "bin_start": 0.04479999999999999,
            "count": 18
           },
           {
            "bin_end": 0.07759999999999999,
            "bin_start": 0.06119999999999999,
            "count": 37
           },
           {
            "bin_end": 0.09399999999999999,
            "bin_start": 0.07759999999999999,
            "count": 39
           },
           {
            "bin_end": 0.11039999999999998,
            "bin_start": 0.09399999999999999,
            "count": 22
           },
           {
            "bin_end": 0.1268,
            "bin_start": 0.11039999999999998,
            "count": 11
           },
           {
            "bin_end": 0.1432,
            "bin_start": 0.1268,
            "count": 1
           },
           {
            "bin_end": 0.1596,
            "bin_start": 0.1432,
            "count": 0
           },
           {
            "bin_end": 0.176,
            "bin_start": 0.1596,
            "count": 3
           }
          ],
          "max": "0.176",
          "min": "0.012",
          "nan_count": 0,
          "unique_count": 66
         }
        },
        {
         "dtype": "int64",
         "name": "free_sulfur_dioxide",
         "stats": {
          "histogram": [
           {
            "bin_end": 9.9,
            "bin_start": 3,
            "count": 41
           },
           {
            "bin_end": 16.8,
            "bin_start": 9.9,
            "count": 29
           },
           {
            "bin_end": 23.700000000000003,
            "bin_start": 16.8,
            "count": 19
           },
           {
            "bin_end": 30.6,
            "bin_start": 23.700000000000003,
            "count": 16
           },
           {
            "bin_end": 37.5,
            "bin_start": 30.6,
            "count": 11
           },
           {
            "bin_end": 44.400000000000006,
            "bin_start": 37.5,
            "count": 8
           },
           {
            "bin_end": 51.300000000000004,
            "bin_start": 44.400000000000006,
            "count": 7
           },
           {
            "bin_end": 58.2,
            "bin_start": 51.300000000000004,
            "count": 4
           },
           {
            "bin_end": 65.1,
            "bin_start": 58.2,
            "count": 0
           },
           {
            "bin_end": 72,
            "bin_start": 65.1,
            "count": 1
           }
          ],
          "max": "72",
          "min": "3",
          "nan_count": 0,
          "unique_count": 43
         }
        },
        {
         "dtype": "int64",
         "name": "total_sulfur_dioxide",
         "stats": {
          "histogram": [
           {
            "bin_end": 34.3,
            "bin_start": 6,
            "count": 48
           },
           {
            "bin_end": 62.6,
            "bin_start": 34.3,
            "count": 29
           },
           {
            "bin_end": 90.9,
            "bin_start": 62.6,
            "count": 23
           },
           {
            "bin_end": 119.2,
            "bin_start": 90.9,
            "count": 21
           },
           {
            "bin_end": 147.5,
            "bin_start": 119.2,
            "count": 8
           },
           {
            "bin_end": 175.8,
            "bin_start": 147.5,
            "count": 5
           },
           {
            "bin_end": 204.1,
            "bin_start": 175.8,
            "count": 0
           },
           {
            "bin_end": 232.4,
            "bin_start": 204.1,
            "count": 0
           },
           {
            "bin_end": 260.70000000000005,
            "bin_start": 232.4,
            "count": 0
           },
           {
            "bin_end": 289,
            "bin_start": 260.70000000000005,
            "count": 2
           }
          ],
          "max": "289",
          "min": "6",
          "nan_count": 0,
          "unique_count": 83
         }
        },
        {
         "dtype": "float64",
         "name": "density",
         "stats": {
          "histogram": [
           {
            "bin_end": 10.922562999999998,
            "bin_start": 0.99007,
            "count": 130
           },
           {
            "bin_end": 20.855055999999998,
            "bin_start": 10.922562999999998,
            "count": 0
           },
           {
            "bin_end": 30.787548999999995,
            "bin_start": 20.855055999999998,
            "count": 0
           },
           {
            "bin_end": 40.720042,
            "bin_start": 30.787548999999995,
            "count": 0
           },
           {
            "bin_end": 50.652535,
            "bin_start": 40.720042,
            "count": 0
           },
           {
            "bin_end": 60.585027999999994,
            "bin_start": 50.652535,
            "count": 0
           },
           {
            "bin_end": 70.517521,
            "bin_start": 60.585027999999994,
            "count": 0
           },
           {
            "bin_end": 80.450014,
            "bin_start": 70.517521,
            "count": 0
           },
           {
            "bin_end": 90.38250699999999,
            "bin_start": 80.450014,
            "count": 0
           },
           {
            "bin_end": 100.315,
            "bin_start": 90.38250699999999,
            "count": 6
           }
          ],
          "max": "100.315",
          "min": "0.99007",
          "nan_count": 0,
          "unique_count": 104
         }
        },
        {
         "dtype": "float64",
         "name": "pH",
         "stats": {
          "histogram": [
           {
            "bin_end": 2.964,
            "bin_start": 2.86,
            "count": 7
           },
           {
            "bin_end": 3.068,
            "bin_start": 2.964,
            "count": 3
           },
           {
            "bin_end": 3.1719999999999997,
            "bin_start": 3.068,
            "count": 28
           },
           {
            "bin_end": 3.276,
            "bin_start": 3.1719999999999997,
            "count": 31
           },
           {
            "bin_end": 3.38,
            "bin_start": 3.276,
            "count": 28
           },
           {
            "bin_end": 3.484,
            "bin_start": 3.38,
            "count": 31
           },
           {
            "bin_end": 3.588,
            "bin_start": 3.484,
            "count": 4
           },
           {
            "bin_end": 3.692,
            "bin_start": 3.588,
            "count": 2
           },
           {
            "bin_end": 3.796,
            "bin_start": 3.692,
            "count": 1
           },
           {
            "bin_end": 3.9,
            "bin_start": 3.796,
            "count": 1
           }
          ],
          "max": "3.9",
          "min": "2.86",
          "nan_count": 0,
          "unique_count": 54
         }
        },
        {
         "dtype": "float64",
         "name": "sulphates",
         "stats": {
          "histogram": [
           {
            "bin_end": 0.46799999999999997,
            "bin_start": 0.39,
            "count": 15
           },
           {
            "bin_end": 0.546,
            "bin_start": 0.46799999999999997,
            "count": 33
           },
           {
            "bin_end": 0.624,
            "bin_start": 0.546,
            "count": 35
           },
           {
            "bin_end": 0.702,
            "bin_start": 0.624,
            "count": 20
           },
           {
            "bin_end": 0.7799999999999999,
            "bin_start": 0.702,
            "count": 15
           },
           {
            "bin_end": 0.8579999999999999,
            "bin_start": 0.7799999999999999,
            "count": 8
           },
           {
            "bin_end": 0.9359999999999999,
            "bin_start": 0.8579999999999999,
            "count": 6
           },
           {
            "bin_end": 1.0139999999999998,
            "bin_start": 0.9359999999999999,
            "count": 1
           },
           {
            "bin_end": 1.0919999999999999,
            "bin_start": 1.0139999999999998,
            "count": 1
           },
           {
            "bin_end": 1.17,
            "bin_start": 1.0919999999999999,
            "count": 2
           }
          ],
          "max": "1.17",
          "min": "0.39",
          "nan_count": 0,
          "unique_count": 47
         }
        },
        {
         "dtype": "float64",
         "name": "alcohol",
         "stats": {
          "histogram": [
           {
            "bin_end": 8.96,
            "bin_start": 8.4,
            "count": 1
           },
           {
            "bin_end": 9.52,
            "bin_start": 8.96,
            "count": 39
           },
           {
            "bin_end": 10.08,
            "bin_start": 9.52,
            "count": 23
           },
           {
            "bin_end": 10.64,
            "bin_start": 10.08,
            "count": 18
           },
           {
            "bin_end": 11.2,
            "bin_start": 10.64,
            "count": 21
           },
           {
            "bin_end": 11.76,
            "bin_start": 11.2,
            "count": 13
           },
           {
            "bin_end": 12.32,
            "bin_start": 11.76,
            "count": 4
           },
           {
            "bin_end": 12.879999999999999,
            "bin_start": 12.32,
            "count": 11
           },
           {
            "bin_end": 13.44,
            "bin_start": 12.879999999999999,
            "count": 4
           },
           {
            "bin_end": 14,
            "bin_start": 13.44,
            "count": 2
           }
          ],
          "max": "14.0",
          "min": "8.4",
          "nan_count": 0,
          "unique_count": 42
         }
        },
        {
         "dtype": "int64",
         "name": "Outlier",
         "stats": {
          "histogram": [
           {
            "bin_end": -1.4,
            "bin_start": -1.5,
            "count": 0
           },
           {
            "bin_end": -1.3,
            "bin_start": -1.4,
            "count": 0
           },
           {
            "bin_end": -1.2,
            "bin_start": -1.3,
            "count": 0
           },
           {
            "bin_end": -1.1,
            "bin_start": -1.2,
            "count": 0
           },
           {
            "bin_end": -1,
            "bin_start": -1.1,
            "count": 0
           },
           {
            "bin_end": -0.8999999999999999,
            "bin_start": -1,
            "count": 136
           },
           {
            "bin_end": -0.7999999999999999,
            "bin_start": -0.8999999999999999,
            "count": 0
           },
           {
            "bin_end": -0.7,
            "bin_start": -0.7999999999999999,
            "count": 0
           },
           {
            "bin_end": -0.6,
            "bin_start": -0.7,
            "count": 0
           },
           {
            "bin_end": -0.5,
            "bin_start": -0.6,
            "count": 0
           }
          ],
          "max": "-1",
          "min": "-1",
          "nan_count": 0,
          "unique_count": 1
         }
        },
        {
         "dtype": "int64",
         "name": "quality",
         "stats": {
          "histogram": [
           {
            "bin_end": 4.4,
            "bin_start": 4,
            "count": 6
           },
           {
            "bin_end": 4.8,
            "bin_start": 4.4,
            "count": 0
           },
           {
            "bin_end": 5.2,
            "bin_start": 4.8,
            "count": 69
           },
           {
            "bin_end": 5.6,
            "bin_start": 5.2,
            "count": 0
           },
           {
            "bin_end": 6,
            "bin_start": 5.6,
            "count": 0
           },
           {
            "bin_end": 6.4,
            "bin_start": 6,
            "count": 39
           },
           {
            "bin_end": 6.800000000000001,
            "bin_start": 6.4,
            "count": 0
           },
           {
            "bin_end": 7.2,
            "bin_start": 6.800000000000001,
            "count": 20
           },
           {
            "bin_end": 7.6,
            "bin_start": 7.2,
            "count": 0
           },
           {
            "bin_end": 8,
            "bin_start": 7.6,
            "count": 2
           }
          ],
          "max": "8",
          "min": "4",
          "nan_count": 0,
          "unique_count": 5
         }
        },
        {
         "dtype": "int64",
         "name": "_deepnote_index_column"
        }
       ],
       "row_count": 136,
       "rows": [
        {
         "Outlier": -1,
         "_deepnote_index_column": 1,
         "alcohol": 9.8,
         "chlorides": 0.098,
         "citric_acid": 0,
         "density": 0.9968,
         "fixed_acidity": 7.8,
         "free_sulfur_dioxide": 25,
         "id": 2,
         "pH": 3.2,
         "quality": 5,
         "residual_sugar": 2.6,
         "sulphates": 0.68,
         "total_sulfur_dioxide": 67,
         "volatile_acidity": 0.88
        },
        {
         "Outlier": -1,
         "_deepnote_index_column": 14,
         "alcohol": 9.2,
         "chlorides": 0.176,
         "citric_acid": 0.18,
         "density": 0.9986,
         "fixed_acidity": 8.9,
         "free_sulfur_dioxide": 52,
         "id": 15,
         "pH": 3.16,
         "quality": 5,
         "residual_sugar": 3.8,
         "sulphates": 0.88,
         "total_sulfur_dioxide": 145,
         "volatile_acidity": 0.62
        },
        {
         "Outlier": -1,
         "_deepnote_index_column": 15,
         "alcohol": 9.2,
         "chlorides": 0.17,
         "citric_acid": 0.19,
         "density": 0.9986,
         "fixed_acidity": 8.9,
         "free_sulfur_dioxide": 51,
         "id": 16,
         "pH": 3.17,
         "quality": 5,
         "residual_sugar": 3.9,
         "sulphates": 0.93,
         "total_sulfur_dioxide": 148,
         "volatile_acidity": 0.62
        },
        {
         "Outlier": -1,
         "_deepnote_index_column": 34,
         "alcohol": 9.2,
         "chlorides": 0.103,
         "citric_acid": 0.25,
         "density": 0.9957,
         "fixed_acidity": 5.2,
         "free_sulfur_dioxide": 13,
         "id": 35,
         "pH": 3.38,
         "quality": 5,
         "residual_sugar": 1.8,
         "sulphates": 0.55,
         "total_sulfur_dioxide": 50,
         "volatile_acidity": 0.32
        },
        {
         "Outlier": -1,
         "_deepnote_index_column": 45,
         "alcohol": 13.1,
         "chlorides": 0.054,
         "citric_acid": 0.15,
         "density": 0.9934,
         "fixed_acidity": 4.6,
         "free_sulfur_dioxide": 8,
         "id": 46,
         "pH": 3.9,
         "quality": 4,
         "residual_sugar": 2.1,
         "sulphates": 0.56,
         "total_sulfur_dioxide": 65,
         "volatile_acidity": 0.52
        },
        {
         "Outlier": -1,
         "_deepnote_index_column": 54,
         "alcohol": 10.2,
         "chlorides": 0.11,
         "citric_acid": 0.15,
         "density": 0.9955,
         "fixed_acidity": 7.6,
         "free_sulfur_dioxide": 33,
         "id": 55,
         "pH": 3.17,
         "quality": 6,
         "residual_sugar": 2.8,
         "sulphates": 0.63,
         "total_sulfur_dioxide": 73,
         "volatile_acidity": 0.51
        },
        {
         "Outlier": -1,
         "_deepnote_index_column": 57,
         "alcohol": 9.4,
         "chlorides": 0.111,
         "citric_acid": 0.12,
         "density": 0.9983,
         "fixed_acidity": 7.5,
         "free_sulfur_dioxide": 50,
         "id": 58,
         "pH": 3.26,
         "quality": 5,
         "residual_sugar": 5.1,
         "sulphates": 0.77,
         "total_sulfur_dioxide": 110,
         "volatile_acidity": 0.63
        },
        {
         "Outlier": -1,
         "_deepnote_index_column": 94,
         "alcohol": 10.5,
         "chlorides": 0.045,
         "citric_acid": 0.04,
         "density": 0.9938,
         "fixed_acidity": 5,
         "free_sulfur_dioxide": 41,
         "id": 95,
         "pH": 3.75,
         "quality": 4,
         "residual_sugar": 1.4,
         "sulphates": 0.48,
         "total_sulfur_dioxide": 85,
         "volatile_acidity": 1.02
        },
        {
         "Outlier": -1,
         "_deepnote_index_column": 98,
         "alcohol": 9.8,
         "chlorides": 0.079,
         "citric_acid": 0.06,
         "density": 0.9967,
         "fixed_acidity": 7.6,
         "free_sulfur_dioxide": 5,
         "id": 99,
         "pH": 3.39,
         "quality": 5,
         "residual_sugar": 2.5,
         "sulphates": 0.56,
         "total_sulfur_dioxide": 10,
         "volatile_acidity": 0.9
        },
        {
         "Outlier": -1,
         "_deepnote_index_column": 109,
         "alcohol": 9.3,
         "chlorides": 0.122,
         "citric_acid": 0.52,
         "density": 0.9969,
         "fixed_acidity": 8.1,
         "free_sulfur_dioxide": 37,
         "id": 110,
         "pH": 3.21,
         "quality": 5,
         "residual_sugar": 2,
         "sulphates": 0.69,
         "total_sulfur_dioxide": 153,
         "volatile_acidity": 0.785
        }
       ]
      },
      "text/html": [
       "<div>\n",
       "<style scoped>\n",
       "    .dataframe tbody tr th:only-of-type {\n",
       "        vertical-align: middle;\n",
       "    }\n",
       "\n",
       "    .dataframe tbody tr th {\n",
       "        vertical-align: top;\n",
       "    }\n",
       "\n",
       "    .dataframe thead th {\n",
       "        text-align: right;\n",
       "    }\n",
       "</style>\n",
       "<table border=\"1\" class=\"dataframe\">\n",
       "  <thead>\n",
       "    <tr style=\"text-align: right;\">\n",
       "      <th></th>\n",
       "      <th>id</th>\n",
       "      <th>fixed_acidity</th>\n",
       "      <th>volatile_acidity</th>\n",
       "      <th>citric_acid</th>\n",
       "      <th>residual_sugar</th>\n",
       "      <th>chlorides</th>\n",
       "      <th>free_sulfur_dioxide</th>\n",
       "      <th>total_sulfur_dioxide</th>\n",
       "      <th>density</th>\n",
       "      <th>pH</th>\n",
       "      <th>sulphates</th>\n",
       "      <th>alcohol</th>\n",
       "      <th>Outlier</th>\n",
       "      <th>quality</th>\n",
       "    </tr>\n",
       "  </thead>\n",
       "  <tbody>\n",
       "    <tr>\n",
       "      <th>1</th>\n",
       "      <td>2</td>\n",
       "      <td>7.8</td>\n",
       "      <td>0.88</td>\n",
       "      <td>0.00</td>\n",
       "      <td>2.6</td>\n",
       "      <td>0.098</td>\n",
       "      <td>25</td>\n",
       "      <td>67</td>\n",
       "      <td>0.99680</td>\n",
       "      <td>3.20</td>\n",
       "      <td>0.68</td>\n",
       "      <td>9.8</td>\n",
       "      <td>-1</td>\n",
       "      <td>5</td>\n",
       "    </tr>\n",
       "    <tr>\n",
       "      <th>14</th>\n",
       "      <td>15</td>\n",
       "      <td>8.9</td>\n",
       "      <td>0.62</td>\n",
       "      <td>0.18</td>\n",
       "      <td>3.8</td>\n",
       "      <td>0.176</td>\n",
       "      <td>52</td>\n",
       "      <td>145</td>\n",
       "      <td>0.99860</td>\n",
       "      <td>3.16</td>\n",
       "      <td>0.88</td>\n",
       "      <td>9.2</td>\n",
       "      <td>-1</td>\n",
       "      <td>5</td>\n",
       "    </tr>\n",
       "    <tr>\n",
       "      <th>15</th>\n",
       "      <td>16</td>\n",
       "      <td>8.9</td>\n",
       "      <td>0.62</td>\n",
       "      <td>0.19</td>\n",
       "      <td>3.9</td>\n",
       "      <td>0.170</td>\n",
       "      <td>51</td>\n",
       "      <td>148</td>\n",
       "      <td>0.99860</td>\n",
       "      <td>3.17</td>\n",
       "      <td>0.93</td>\n",
       "      <td>9.2</td>\n",
       "      <td>-1</td>\n",
       "      <td>5</td>\n",
       "    </tr>\n",
       "    <tr>\n",
       "      <th>34</th>\n",
       "      <td>35</td>\n",
       "      <td>5.2</td>\n",
       "      <td>0.32</td>\n",
       "      <td>0.25</td>\n",
       "      <td>1.8</td>\n",
       "      <td>0.103</td>\n",
       "      <td>13</td>\n",
       "      <td>50</td>\n",
       "      <td>0.99570</td>\n",
       "      <td>3.38</td>\n",
       "      <td>0.55</td>\n",
       "      <td>9.2</td>\n",
       "      <td>-1</td>\n",
       "      <td>5</td>\n",
       "    </tr>\n",
       "    <tr>\n",
       "      <th>45</th>\n",
       "      <td>46</td>\n",
       "      <td>4.6</td>\n",
       "      <td>0.52</td>\n",
       "      <td>0.15</td>\n",
       "      <td>2.1</td>\n",
       "      <td>0.054</td>\n",
       "      <td>8</td>\n",
       "      <td>65</td>\n",
       "      <td>0.99340</td>\n",
       "      <td>3.90</td>\n",
       "      <td>0.56</td>\n",
       "      <td>13.1</td>\n",
       "      <td>-1</td>\n",
       "      <td>4</td>\n",
       "    </tr>\n",
       "    <tr>\n",
       "      <th>...</th>\n",
       "      <td>...</td>\n",
       "      <td>...</td>\n",
       "      <td>...</td>\n",
       "      <td>...</td>\n",
       "      <td>...</td>\n",
       "      <td>...</td>\n",
       "      <td>...</td>\n",
       "      <td>...</td>\n",
       "      <td>...</td>\n",
       "      <td>...</td>\n",
       "      <td>...</td>\n",
       "      <td>...</td>\n",
       "      <td>...</td>\n",
       "      <td>...</td>\n",
       "    </tr>\n",
       "    <tr>\n",
       "      <th>1349</th>\n",
       "      <td>1350</td>\n",
       "      <td>6.9</td>\n",
       "      <td>0.57</td>\n",
       "      <td>0.00</td>\n",
       "      <td>2.8</td>\n",
       "      <td>0.081</td>\n",
       "      <td>21</td>\n",
       "      <td>41</td>\n",
       "      <td>0.99518</td>\n",
       "      <td>3.41</td>\n",
       "      <td>0.52</td>\n",
       "      <td>10.8</td>\n",
       "      <td>-1</td>\n",
       "      <td>5</td>\n",
       "    </tr>\n",
       "    <tr>\n",
       "      <th>1354</th>\n",
       "      <td>1355</td>\n",
       "      <td>7.2</td>\n",
       "      <td>0.58</td>\n",
       "      <td>0.03</td>\n",
       "      <td>2.3</td>\n",
       "      <td>0.077</td>\n",
       "      <td>7</td>\n",
       "      <td>28</td>\n",
       "      <td>0.99568</td>\n",
       "      <td>3.35</td>\n",
       "      <td>0.52</td>\n",
       "      <td>10.0</td>\n",
       "      <td>-1</td>\n",
       "      <td>5</td>\n",
       "    </tr>\n",
       "    <tr>\n",
       "      <th>1355</th>\n",
       "      <td>1356</td>\n",
       "      <td>6.1</td>\n",
       "      <td>0.32</td>\n",
       "      <td>0.25</td>\n",
       "      <td>1.8</td>\n",
       "      <td>0.086</td>\n",
       "      <td>5</td>\n",
       "      <td>32</td>\n",
       "      <td>0.99464</td>\n",
       "      <td>3.36</td>\n",
       "      <td>0.44</td>\n",
       "      <td>10.1</td>\n",
       "      <td>-1</td>\n",
       "      <td>5</td>\n",
       "    </tr>\n",
       "    <tr>\n",
       "      <th>1356</th>\n",
       "      <td>1357</td>\n",
       "      <td>6.1</td>\n",
       "      <td>0.34</td>\n",
       "      <td>0.25</td>\n",
       "      <td>1.8</td>\n",
       "      <td>0.084</td>\n",
       "      <td>4</td>\n",
       "      <td>28</td>\n",
       "      <td>0.99464</td>\n",
       "      <td>3.36</td>\n",
       "      <td>0.44</td>\n",
       "      <td>10.1</td>\n",
       "      <td>-1</td>\n",
       "      <td>5</td>\n",
       "    </tr>\n",
       "    <tr>\n",
       "      <th>1358</th>\n",
       "      <td>1359</td>\n",
       "      <td>7.4</td>\n",
       "      <td>0.64</td>\n",
       "      <td>0.17</td>\n",
       "      <td>5.4</td>\n",
       "      <td>0.168</td>\n",
       "      <td>52</td>\n",
       "      <td>98</td>\n",
       "      <td>0.99736</td>\n",
       "      <td>3.28</td>\n",
       "      <td>0.50</td>\n",
       "      <td>9.5</td>\n",
       "      <td>-1</td>\n",
       "      <td>5</td>\n",
       "    </tr>\n",
       "  </tbody>\n",
       "</table>\n",
       "<p>136 rows × 14 columns</p>\n",
       "</div>"
      ],
      "text/plain": [
       "        id  fixed_acidity  volatile_acidity  citric_acid  residual_sugar  \\\n",
       "1        2            7.8              0.88         0.00             2.6   \n",
       "14      15            8.9              0.62         0.18             3.8   \n",
       "15      16            8.9              0.62         0.19             3.9   \n",
       "34      35            5.2              0.32         0.25             1.8   \n",
       "45      46            4.6              0.52         0.15             2.1   \n",
       "...    ...            ...               ...          ...             ...   \n",
       "1349  1350            6.9              0.57         0.00             2.8   \n",
       "1354  1355            7.2              0.58         0.03             2.3   \n",
       "1355  1356            6.1              0.32         0.25             1.8   \n",
       "1356  1357            6.1              0.34         0.25             1.8   \n",
       "1358  1359            7.4              0.64         0.17             5.4   \n",
       "\n",
       "      chlorides  free_sulfur_dioxide  total_sulfur_dioxide  density    pH  \\\n",
       "1         0.098                   25                    67  0.99680  3.20   \n",
       "14        0.176                   52                   145  0.99860  3.16   \n",
       "15        0.170                   51                   148  0.99860  3.17   \n",
       "34        0.103                   13                    50  0.99570  3.38   \n",
       "45        0.054                    8                    65  0.99340  3.90   \n",
       "...         ...                  ...                   ...      ...   ...   \n",
       "1349      0.081                   21                    41  0.99518  3.41   \n",
       "1354      0.077                    7                    28  0.99568  3.35   \n",
       "1355      0.086                    5                    32  0.99464  3.36   \n",
       "1356      0.084                    4                    28  0.99464  3.36   \n",
       "1358      0.168                   52                    98  0.99736  3.28   \n",
       "\n",
       "      sulphates  alcohol  Outlier  quality  \n",
       "1          0.68      9.8       -1        5  \n",
       "14         0.88      9.2       -1        5  \n",
       "15         0.93      9.2       -1        5  \n",
       "34         0.55      9.2       -1        5  \n",
       "45         0.56     13.1       -1        4  \n",
       "...         ...      ...      ...      ...  \n",
       "1349       0.52     10.8       -1        5  \n",
       "1354       0.52     10.0       -1        5  \n",
       "1355       0.44     10.1       -1        5  \n",
       "1356       0.44     10.1       -1        5  \n",
       "1358       0.50      9.5       -1        5  \n",
       "\n",
       "[136 rows x 14 columns]"
      ]
     },
     "execution_count": 6,
     "metadata": {},
     "output_type": "execute_result"
    }
   ],
   "outputs_reference": "s3:deepnote-cell-outputs-production/49258a29-e75a-4a4d-ab7d-e2c4bf42db99",
   "source": [
    "df_wine[df_wine['Outlier'] == -1]"
   ]
  },
  {
   "block_group": "9e6dd8db3a224bd9990100258e0881e3",
   "cell_type": "markdown",
   "metadata": {
    "cell_id": "781623144a6f45c78f9a85444235ec83",
    "deepnote_cell_type": "text-cell-p",
    "formattedRanges": []
   },
   "source": [
    "Diatas kita dapat mengetahui baris yang memiilki nilai outlier. setelah kita mengetahui data outlier tersebut kita dapat melakukan penghapusan data outlier untuk melakukan penanganan nilai anomali."
   ]
  },
  {
   "block_group": "a759b497b260440eb2954062093bd325",
   "cell_type": "code",
   "content_dependencies": null,
   "execution_count": null,
   "metadata": {
    "cell_id": "ca1c2276c8d141fa80d652c8cd1fb7c9",
    "deepnote_cell_type": "code",
    "deepnote_to_be_reexecuted": false,
    "execution_millis": 384,
    "execution_start": 1718197902502,
    "source_hash": null
   },
   "outputs": [
    {
     "data": {
      "application/vnd.deepnote.dataframe.v3+json": {
       "column_count": 14,
       "columns": [
        {
         "dtype": "int64",
         "name": "id",
         "stats": {
          "histogram": [
           {
            "bin_end": 136.7,
            "bin_start": 1,
            "count": 125
           },
           {
            "bin_end": 272.4,
            "bin_start": 136.7,
            "count": 128
           },
           {
            "bin_end": 408.09999999999997,
            "bin_start": 272.4,
            "count": 128
           },
           {
            "bin_end": 543.8,
            "bin_start": 408.09999999999997,
            "count": 122
           },
           {
            "bin_end": 679.5,
            "bin_start": 543.8,
            "count": 125
           },
           {
            "bin_end": 815.1999999999999,
            "bin_start": 679.5,
            "count": 121
           },
           {
            "bin_end": 950.8999999999999,
            "bin_start": 815.1999999999999,
            "count": 113
           },
           {
            "bin_end": 1086.6,
            "bin_start": 950.8999999999999,
            "count": 120
           },
           {
            "bin_end": 1222.3,
            "bin_start": 1086.6,
            "count": 127
           },
           {
            "bin_end": 1358,
            "bin_start": 1222.3,
            "count": 114
           }
          ],
          "max": "1358",
          "min": "1",
          "nan_count": 0,
          "unique_count": 1223
         }
        },
        {
         "dtype": "float64",
         "name": "fixed_acidity",
         "stats": {
          "histogram": [
           {
            "bin_end": 5.82,
            "bin_start": 4.7,
            "count": 34
           },
           {
            "bin_end": 6.9399999999999995,
            "bin_start": 5.82,
            "count": 139
           },
           {
            "bin_end": 8.059999999999999,
            "bin_start": 6.9399999999999995,
            "count": 406
           },
           {
            "bin_end": 9.18,
            "bin_start": 8.059999999999999,
            "count": 284
           },
           {
            "bin_end": 10.3,
            "bin_start": 9.18,
            "count": 163
           },
           {
            "bin_end": 11.419999999999998,
            "bin_start": 10.3,
            "count": 106
           },
           {
            "bin_end": 12.54,
            "bin_start": 11.419999999999998,
            "count": 59
           },
           {
            "bin_end": 13.66,
            "bin_start": 12.54,
            "count": 25
           },
           {
            "bin_end": 14.779999999999998,
            "bin_start": 13.66,
            "count": 4
           },
           {
            "bin_end": 15.9,
            "bin_start": 14.779999999999998,
            "count": 3
           }
          ],
          "max": "15.9",
          "min": "4.7",
          "nan_count": 0,
          "unique_count": 91
         }
        },
        {
         "dtype": "float64",
         "name": "volatile_acidity",
         "stats": {
          "histogram": [
           {
            "bin_end": 0.266,
            "bin_start": 0.12,
            "count": 54
           },
           {
            "bin_end": 0.412,
            "bin_start": 0.266,
            "count": 318
           },
           {
            "bin_end": 0.5579999999999999,
            "bin_start": 0.412,
            "count": 341
           },
           {
            "bin_end": 0.704,
            "bin_start": 0.5579999999999999,
            "count": 346
           },
           {
            "bin_end": 0.85,
            "bin_start": 0.704,
            "count": 111
           },
           {
            "bin_end": 0.9959999999999999,
            "bin_start": 0.85,
            "count": 33
           },
           {
            "bin_end": 1.142,
            "bin_start": 0.9959999999999999,
            "count": 14
           },
           {
            "bin_end": 1.2879999999999998,
            "bin_start": 1.142,
            "count": 3
           },
           {
            "bin_end": 1.4339999999999997,
            "bin_start": 1.2879999999999998,
            "count": 2
           },
           {
            "bin_end": 1.58,
            "bin_start": 1.4339999999999997,
            "count": 1
           }
          ],
          "max": "1.58",
          "min": "0.12",
          "nan_count": 0,
          "unique_count": 136
         }
        },
        {
         "dtype": "float64",
         "name": "citric_acid",
         "stats": {
          "histogram": [
           {
            "bin_end": 0.1,
            "bin_start": 0,
            "count": 285
           },
           {
            "bin_end": 0.2,
            "bin_start": 0.1,
            "count": 143
           },
           {
            "bin_end": 0.30000000000000004,
            "bin_start": 0.2,
            "count": 249
           },
           {
            "bin_end": 0.4,
            "bin_start": 0.30000000000000004,
            "count": 154
           },
           {
            "bin_end": 0.5,
            "bin_start": 0.4,
            "count": 222
           },
           {
            "bin_end": 0.6000000000000001,
            "bin_start": 0.5,
            "count": 104
           },
           {
            "bin_end": 0.7000000000000001,
            "bin_start": 0.6000000000000001,
            "count": 53
           },
           {
            "bin_end": 0.8,
            "bin_start": 0.7000000000000001,
            "count": 12
           },
           {
            "bin_end": 0.9,
            "bin_start": 0.8,
            "count": 0
           },
           {
            "bin_end": 1,
            "bin_start": 0.9,
            "count": 1
           }
          ],
          "max": "1.0",
          "min": "0.0",
          "nan_count": 0,
          "unique_count": 79
         }
        },
        {
         "dtype": "float64",
         "name": "residual_sugar",
         "stats": {
          "histogram": [
           {
            "bin_end": 2.18,
            "bin_start": 1.2,
            "count": 558
           },
           {
            "bin_end": 3.16,
            "bin_start": 2.18,
            "count": 516
           },
           {
            "bin_end": 4.140000000000001,
            "bin_start": 3.16,
            "count": 70
           },
           {
            "bin_end": 5.12,
            "bin_start": 4.140000000000001,
            "count": 22
           },
           {
            "bin_end": 6.1000000000000005,
            "bin_start": 5.12,
            "count": 27
           },
           {
            "bin_end": 7.080000000000001,
            "bin_start": 6.1000000000000005,
            "count": 12
           },
           {
            "bin_end": 8.06,
            "bin_start": 7.080000000000001,
            "count": 7
           },
           {
            "bin_end": 9.040000000000001,
            "bin_start": 8.06,
            "count": 8
           },
           {
            "bin_end": 10.02,
            "bin_start": 9.040000000000001,
            "count": 0
           },
           {
            "bin_end": 11,
            "bin_start": 10.02,
            "count": 3
           }
          ],
          "max": "11.0",
          "min": "1.2",
          "nan_count": 0,
          "unique_count": 79
         }
        },
        {
         "dtype": "float64",
         "name": "chlorides",
         "stats": {
          "histogram": [
           {
            "bin_end": 0.0917,
            "bin_start": 0.034,
            "count": 928
           },
           {
            "bin_end": 0.14939999999999998,
            "bin_start": 0.0917,
            "count": 242
           },
           {
            "bin_end": 0.20709999999999998,
            "bin_start": 0.14939999999999998,
            "count": 21
           },
           {
            "bin_end": 0.2648,
            "bin_start": 0.20709999999999998,
            "count": 11
           },
           {
            "bin_end": 0.3225,
            "bin_start": 0.2648,
            "count": 1
           },
           {
            "bin_end": 0.3802,
            "bin_start": 0.3225,
            "count": 8
           },
           {
            "bin_end": 0.43789999999999996,
            "bin_start": 0.3802,
            "count": 8
           },
           {
            "bin_end": 0.49559999999999993,
            "bin_start": 0.43789999999999996,
            "count": 2
           },
           {
            "bin_end": 0.5533,
            "bin_start": 0.49559999999999993,
            "count": 0
           },
           {
            "bin_end": 0.611,
            "bin_start": 0.5533,
            "count": 2
           }
          ],
          "max": "0.611",
          "min": "0.034",
          "nan_count": 0,
          "unique_count": 140
         }
        },
        {
         "dtype": "int64",
         "name": "free_sulfur_dioxide",
         "stats": {
          "histogram": [
           {
            "bin_end": 7.7,
            "bin_start": 1,
            "count": 333
           },
           {
            "bin_end": 14.4,
            "bin_start": 7.7,
            "count": 341
           },
           {
            "bin_end": 21.1,
            "bin_start": 14.4,
            "count": 278
           },
           {
            "bin_end": 27.8,
            "bin_start": 21.1,
            "count": 129
           },
           {
            "bin_end": 34.5,
            "bin_start": 27.8,
            "count": 93
           },
           {
            "bin_end": 41.2,
            "bin_start": 34.5,
            "count": 34
           },
           {
            "bin_end": 47.9,
            "bin_start": 41.2,
            "count": 8
           },
           {
            "bin_end": 54.6,
            "bin_start": 47.9,
            "count": 5
           },
           {
            "bin_end": 61.300000000000004,
            "bin_start": 54.6,
            "count": 0
           },
           {
            "bin_end": 68,
            "bin_start": 61.300000000000004,
            "count": 2
           }
          ],
          "max": "68",
          "min": "1",
          "nan_count": 0,
          "unique_count": 51
         }
        },
        {
         "dtype": "int64",
         "name": "total_sulfur_dioxide",
         "stats": {
          "histogram": [
           {
            "bin_end": 20.9,
            "bin_start": 6,
            "count": 284
           },
           {
            "bin_end": 35.8,
            "bin_start": 20.9,
            "count": 289
           },
           {
            "bin_end": 50.7,
            "bin_start": 35.8,
            "count": 251
           },
           {
            "bin_end": 65.6,
            "bin_start": 50.7,
            "count": 143
           },
           {
            "bin_end": 80.5,
            "bin_start": 65.6,
            "count": 90
           },
           {
            "bin_end": 95.4,
            "bin_start": 80.5,
            "count": 72
           },
           {
            "bin_end": 110.3,
            "bin_start": 95.4,
            "count": 38
           },
           {
            "bin_end": 125.2,
            "bin_start": 110.3,
            "count": 27
           },
           {
            "bin_end": 140.1,
            "bin_start": 125.2,
            "count": 15
           },
           {
            "bin_end": 155,
            "bin_start": 140.1,
            "count": 14
           }
          ],
          "max": "155",
          "min": "6",
          "nan_count": 0,
          "unique_count": 132
         }
        },
        {
         "dtype": "float64",
         "name": "density",
         "stats": {
          "histogram": [
           {
            "bin_end": 10.89368,
            "bin_start": 0.9902,
            "count": 1218
           },
           {
            "bin_end": 20.79716,
            "bin_start": 10.89368,
            "count": 0
           },
           {
            "bin_end": 30.70064,
            "bin_start": 20.79716,
            "count": 0
           },
           {
            "bin_end": 40.60412,
            "bin_start": 30.70064,
            "count": 0
           },
           {
            "bin_end": 50.507600000000004,
            "bin_start": 40.60412,
            "count": 0
           },
           {
            "bin_end": 60.41108,
            "bin_start": 50.507600000000004,
            "count": 0
           },
           {
            "bin_end": 70.31456,
            "bin_start": 60.41108,
            "count": 0
           },
           {
            "bin_end": 80.21804,
            "bin_start": 70.31456,
            "count": 0
           },
           {
            "bin_end": 90.12152,
            "bin_start": 80.21804,
            "count": 0
           },
           {
            "bin_end": 100.025,
            "bin_start": 90.12152,
            "count": 5
           }
          ],
          "max": "100.025",
          "min": "0.9902",
          "nan_count": 0,
          "unique_count": 345
         }
        },
        {
         "dtype": "float64",
         "name": "pH",
         "stats": {
          "histogram": [
           {
            "bin_end": 2.867,
            "bin_start": 2.74,
            "count": 1
           },
           {
            "bin_end": 2.994,
            "bin_start": 2.867,
            "count": 20
           },
           {
            "bin_end": 3.121,
            "bin_start": 2.994,
            "count": 110
           },
           {
            "bin_end": 3.248,
            "bin_start": 3.121,
            "count": 293
           },
           {
            "bin_end": 3.375,
            "bin_start": 3.248,
            "count": 428
           },
           {
            "bin_end": 3.502,
            "bin_start": 3.375,
            "count": 253
           },
           {
            "bin_end": 3.6289999999999996,
            "bin_start": 3.502,
            "count": 89
           },
           {
            "bin_end": 3.756,
            "bin_start": 3.6289999999999996,
            "count": 23
           },
           {
            "bin_end": 3.883,
            "bin_start": 3.756,
            "count": 3
           },
           {
            "bin_end": 4.01,
            "bin_start": 3.883,
            "count": 3
           }
          ],
          "max": "4.01",
          "min": "2.74",
          "nan_count": 0,
          "unique_count": 86
         }
        },
        {
         "dtype": "float64",
         "name": "sulphates",
         "stats": {
          "histogram": [
           {
            "bin_end": 0.497,
            "bin_start": 0.33,
            "count": 110
           },
           {
            "bin_end": 0.6639999999999999,
            "bin_start": 0.497,
            "count": 656
           },
           {
            "bin_end": 0.831,
            "bin_start": 0.6639999999999999,
            "count": 313
           },
           {
            "bin_end": 0.998,
            "bin_start": 0.831,
            "count": 94
           },
           {
            "bin_end": 1.165,
            "bin_start": 0.998,
            "count": 28
           },
           {
            "bin_end": 1.3319999999999999,
            "bin_start": 1.165,
            "count": 10
           },
           {
            "bin_end": 1.4989999999999999,
            "bin_start": 1.3319999999999999,
            "count": 4
           },
           {
            "bin_end": 1.666,
            "bin_start": 1.4989999999999999,
            "count": 4
           },
           {
            "bin_end": 1.833,
            "bin_start": 1.666,
            "count": 0
           },
           {
            "bin_end": 2,
            "bin_start": 1.833,
            "count": 4
           }
          ],
          "max": "2.0",
          "min": "0.33",
          "nan_count": 0,
          "unique_count": 95
         }
        },
        {
         "dtype": "float64",
         "name": "alcohol",
         "stats": {
          "histogram": [
           {
            "bin_end": 9.05,
            "bin_start": 8.4,
            "count": 27
           },
           {
            "bin_end": 9.700000000000001,
            "bin_start": 9.05,
            "count": 423
           },
           {
            "bin_end": 10.350000000000001,
            "bin_start": 9.700000000000001,
            "count": 232
           },
           {
            "bin_end": 11,
            "bin_start": 10.350000000000001,
            "count": 191
           },
           {
            "bin_end": 11.65,
            "bin_start": 11,
            "count": 166
           },
           {
            "bin_end": 12.3,
            "bin_start": 11.65,
            "count": 96
           },
           {
            "bin_end": 12.95,
            "bin_start": 12.3,
            "count": 66
           },
           {
            "bin_end": 13.600000000000001,
            "bin_start": 12.95,
            "count": 15
           },
           {
            "bin_end": 14.25,
            "bin_start": 13.600000000000001,
            "count": 6
           },
           {
            "bin_end": 14.9,
            "bin_start": 14.25,
            "count": 1
           }
          ],
          "max": "14.9",
          "min": "8.4",
          "nan_count": 0,
          "unique_count": 51
         }
        },
        {
         "dtype": "int64",
         "name": "Outlier",
         "stats": {
          "histogram": [
           {
            "bin_end": 0.6,
            "bin_start": 0.5,
            "count": 0
           },
           {
            "bin_end": 0.7,
            "bin_start": 0.6,
            "count": 0
           },
           {
            "bin_end": 0.8,
            "bin_start": 0.7,
            "count": 0
           },
           {
            "bin_end": 0.9,
            "bin_start": 0.8,
            "count": 0
           },
           {
            "bin_end": 1,
            "bin_start": 0.9,
            "count": 0
           },
           {
            "bin_end": 1.1,
            "bin_start": 1,
            "count": 1223
           },
           {
            "bin_end": 1.2000000000000002,
            "bin_start": 1.1,
            "count": 0
           },
           {
            "bin_end": 1.3,
            "bin_start": 1.2000000000000002,
            "count": 0
           },
           {
            "bin_end": 1.4,
            "bin_start": 1.3,
            "count": 0
           },
           {
            "bin_end": 1.5,
            "bin_start": 1.4,
            "count": 0
           }
          ],
          "max": "1",
          "min": "1",
          "nan_count": 0,
          "unique_count": 1
         }
        },
        {
         "dtype": "int64",
         "name": "quality",
         "stats": {
          "histogram": [
           {
            "bin_end": 3.5,
            "bin_start": 3,
            "count": 6
           },
           {
            "bin_end": 4,
            "bin_start": 3.5,
            "count": 0
           },
           {
            "bin_end": 4.5,
            "bin_start": 4,
            "count": 38
           },
           {
            "bin_end": 5,
            "bin_start": 4.5,
            "count": 0
           },
           {
            "bin_end": 5.5,
            "bin_start": 5,
            "count": 506
           },
           {
            "bin_end": 6,
            "bin_start": 5.5,
            "count": 0
           },
           {
            "bin_end": 6.5,
            "bin_start": 6,
            "count": 501
           },
           {
            "bin_end": 7,
            "bin_start": 6.5,
            "count": 0
           },
           {
            "bin_end": 7.5,
            "bin_start": 7,
            "count": 159
           },
           {
            "bin_end": 8,
            "bin_start": 7.5,
            "count": 13
           }
          ],
          "max": "8",
          "min": "3",
          "nan_count": 0,
          "unique_count": 6
         }
        },
        {
         "dtype": "int64",
         "name": "_deepnote_index_column"
        }
       ],
       "row_count": 1223,
       "rows": [
        {
         "Outlier": 1,
         "_deepnote_index_column": 0,
         "alcohol": 9.4,
         "chlorides": 0.076,
         "citric_acid": 0,
         "density": 0.9978,
         "fixed_acidity": 7.4,
         "free_sulfur_dioxide": 11,
         "id": 1,
         "pH": 3.51,
         "quality": 5,
         "residual_sugar": 1.9,
         "sulphates": 0.56,
         "total_sulfur_dioxide": 34,
         "volatile_acidity": 0.7
        },
        {
         "Outlier": 1,
         "_deepnote_index_column": 2,
         "alcohol": 9.8,
         "chlorides": 0.092,
         "citric_acid": 0.04,
         "density": 0.997,
         "fixed_acidity": 7.8,
         "free_sulfur_dioxide": 15,
         "id": 3,
         "pH": 3.26,
         "quality": 5,
         "residual_sugar": 2.3,
         "sulphates": 0.65,
         "total_sulfur_dioxide": 54,
         "volatile_acidity": 0.76
        },
        {
         "Outlier": 1,
         "_deepnote_index_column": 3,
         "alcohol": 9.8,
         "chlorides": 0.075,
         "citric_acid": 0.56,
         "density": 0.998,
         "fixed_acidity": 11.2,
         "free_sulfur_dioxide": 17,
         "id": 4,
         "pH": 3.16,
         "quality": 6,
         "residual_sugar": 1.9,
         "sulphates": 0.58,
         "total_sulfur_dioxide": 60,
         "volatile_acidity": 0.28
        },
        {
         "Outlier": 1,
         "_deepnote_index_column": 4,
         "alcohol": 9.4,
         "chlorides": 0.076,
         "citric_acid": 0,
         "density": 0.9978,
         "fixed_acidity": 7.4,
         "free_sulfur_dioxide": 11,
         "id": 5,
         "pH": 3.51,
         "quality": 5,
         "residual_sugar": 1.9,
         "sulphates": 0.56,
         "total_sulfur_dioxide": 34,
         "volatile_acidity": 0.7
        },
        {
         "Outlier": 1,
         "_deepnote_index_column": 5,
         "alcohol": 9.4,
         "chlorides": 0.075,
         "citric_acid": 0,
         "density": 0.9978,
         "fixed_acidity": 7.4,
         "free_sulfur_dioxide": 13,
         "id": 6,
         "pH": 3.51,
         "quality": 5,
         "residual_sugar": 1.8,
         "sulphates": 0.56,
         "total_sulfur_dioxide": 40,
         "volatile_acidity": 0.66
        },
        {
         "Outlier": 1,
         "_deepnote_index_column": 6,
         "alcohol": 9.4,
         "chlorides": 0.069,
         "citric_acid": 0.06,
         "density": 0.9964,
         "fixed_acidity": 7.9,
         "free_sulfur_dioxide": 15,
         "id": 7,
         "pH": 3.3,
         "quality": 5,
         "residual_sugar": 1.6,
         "sulphates": 0.46,
         "total_sulfur_dioxide": 59,
         "volatile_acidity": 0.6
        },
        {
         "Outlier": 1,
         "_deepnote_index_column": 7,
         "alcohol": 10,
         "chlorides": 0.065,
         "citric_acid": 0,
         "density": 0.9946,
         "fixed_acidity": 7.3,
         "free_sulfur_dioxide": 15,
         "id": 8,
         "pH": 3.39,
         "quality": 7,
         "residual_sugar": 1.2,
         "sulphates": 0.47,
         "total_sulfur_dioxide": 21,
         "volatile_acidity": 0.65
        },
        {
         "Outlier": 1,
         "_deepnote_index_column": 8,
         "alcohol": 9.5,
         "chlorides": 0.073,
         "citric_acid": 0.02,
         "density": 0.9968,
         "fixed_acidity": 7.8,
         "free_sulfur_dioxide": 9,
         "id": 9,
         "pH": 3.36,
         "quality": 7,
         "residual_sugar": 2,
         "sulphates": 0.57,
         "total_sulfur_dioxide": 18,
         "volatile_acidity": 0.58
        },
        {
         "Outlier": 1,
         "_deepnote_index_column": 9,
         "alcohol": 10.5,
         "chlorides": 0.071,
         "citric_acid": 0.36,
         "density": 0.9978,
         "fixed_acidity": 7.5,
         "free_sulfur_dioxide": 17,
         "id": 10,
         "pH": 3.35,
         "quality": 5,
         "residual_sugar": 6.1,
         "sulphates": 0.8,
         "total_sulfur_dioxide": 102,
         "volatile_acidity": 0.5
        },
        {
         "Outlier": 1,
         "_deepnote_index_column": 10,
         "alcohol": 9.2,
         "chlorides": 0.097,
         "citric_acid": 0.08,
         "density": 0.9959,
         "fixed_acidity": 6.7,
         "free_sulfur_dioxide": 15,
         "id": 11,
         "pH": 3.28,
         "quality": 5,
         "residual_sugar": 1.8,
         "sulphates": 0.54,
         "total_sulfur_dioxide": 65,
         "volatile_acidity": 0.58
        }
       ]
      },
      "text/html": [
       "<div>\n",
       "<style scoped>\n",
       "    .dataframe tbody tr th:only-of-type {\n",
       "        vertical-align: middle;\n",
       "    }\n",
       "\n",
       "    .dataframe tbody tr th {\n",
       "        vertical-align: top;\n",
       "    }\n",
       "\n",
       "    .dataframe thead th {\n",
       "        text-align: right;\n",
       "    }\n",
       "</style>\n",
       "<table border=\"1\" class=\"dataframe\">\n",
       "  <thead>\n",
       "    <tr style=\"text-align: right;\">\n",
       "      <th></th>\n",
       "      <th>id</th>\n",
       "      <th>fixed_acidity</th>\n",
       "      <th>volatile_acidity</th>\n",
       "      <th>citric_acid</th>\n",
       "      <th>residual_sugar</th>\n",
       "      <th>chlorides</th>\n",
       "      <th>free_sulfur_dioxide</th>\n",
       "      <th>total_sulfur_dioxide</th>\n",
       "      <th>density</th>\n",
       "      <th>pH</th>\n",
       "      <th>sulphates</th>\n",
       "      <th>alcohol</th>\n",
       "      <th>Outlier</th>\n",
       "      <th>quality</th>\n",
       "    </tr>\n",
       "  </thead>\n",
       "  <tbody>\n",
       "    <tr>\n",
       "      <th>0</th>\n",
       "      <td>1</td>\n",
       "      <td>7.4</td>\n",
       "      <td>0.700</td>\n",
       "      <td>0.00</td>\n",
       "      <td>1.9</td>\n",
       "      <td>0.076</td>\n",
       "      <td>11</td>\n",
       "      <td>34</td>\n",
       "      <td>0.99780</td>\n",
       "      <td>3.51</td>\n",
       "      <td>0.56</td>\n",
       "      <td>9.4</td>\n",
       "      <td>1</td>\n",
       "      <td>5</td>\n",
       "    </tr>\n",
       "    <tr>\n",
       "      <th>2</th>\n",
       "      <td>3</td>\n",
       "      <td>7.8</td>\n",
       "      <td>0.760</td>\n",
       "      <td>0.04</td>\n",
       "      <td>2.3</td>\n",
       "      <td>0.092</td>\n",
       "      <td>15</td>\n",
       "      <td>54</td>\n",
       "      <td>0.99700</td>\n",
       "      <td>3.26</td>\n",
       "      <td>0.65</td>\n",
       "      <td>9.8</td>\n",
       "      <td>1</td>\n",
       "      <td>5</td>\n",
       "    </tr>\n",
       "    <tr>\n",
       "      <th>3</th>\n",
       "      <td>4</td>\n",
       "      <td>11.2</td>\n",
       "      <td>0.280</td>\n",
       "      <td>0.56</td>\n",
       "      <td>1.9</td>\n",
       "      <td>0.075</td>\n",
       "      <td>17</td>\n",
       "      <td>60</td>\n",
       "      <td>0.99800</td>\n",
       "      <td>3.16</td>\n",
       "      <td>0.58</td>\n",
       "      <td>9.8</td>\n",
       "      <td>1</td>\n",
       "      <td>6</td>\n",
       "    </tr>\n",
       "    <tr>\n",
       "      <th>4</th>\n",
       "      <td>5</td>\n",
       "      <td>7.4</td>\n",
       "      <td>0.700</td>\n",
       "      <td>0.00</td>\n",
       "      <td>1.9</td>\n",
       "      <td>0.076</td>\n",
       "      <td>11</td>\n",
       "      <td>34</td>\n",
       "      <td>0.99780</td>\n",
       "      <td>3.51</td>\n",
       "      <td>0.56</td>\n",
       "      <td>9.4</td>\n",
       "      <td>1</td>\n",
       "      <td>5</td>\n",
       "    </tr>\n",
       "    <tr>\n",
       "      <th>5</th>\n",
       "      <td>6</td>\n",
       "      <td>7.4</td>\n",
       "      <td>0.660</td>\n",
       "      <td>0.00</td>\n",
       "      <td>1.8</td>\n",
       "      <td>0.075</td>\n",
       "      <td>13</td>\n",
       "      <td>40</td>\n",
       "      <td>0.99780</td>\n",
       "      <td>3.51</td>\n",
       "      <td>0.56</td>\n",
       "      <td>9.4</td>\n",
       "      <td>1</td>\n",
       "      <td>5</td>\n",
       "    </tr>\n",
       "    <tr>\n",
       "      <th>...</th>\n",
       "      <td>...</td>\n",
       "      <td>...</td>\n",
       "      <td>...</td>\n",
       "      <td>...</td>\n",
       "      <td>...</td>\n",
       "      <td>...</td>\n",
       "      <td>...</td>\n",
       "      <td>...</td>\n",
       "      <td>...</td>\n",
       "      <td>...</td>\n",
       "      <td>...</td>\n",
       "      <td>...</td>\n",
       "      <td>...</td>\n",
       "      <td>...</td>\n",
       "    </tr>\n",
       "    <tr>\n",
       "      <th>1350</th>\n",
       "      <td>1351</td>\n",
       "      <td>9.0</td>\n",
       "      <td>0.600</td>\n",
       "      <td>0.29</td>\n",
       "      <td>2.0</td>\n",
       "      <td>0.069</td>\n",
       "      <td>32</td>\n",
       "      <td>73</td>\n",
       "      <td>0.99654</td>\n",
       "      <td>3.34</td>\n",
       "      <td>0.57</td>\n",
       "      <td>10.0</td>\n",
       "      <td>1</td>\n",
       "      <td>5</td>\n",
       "    </tr>\n",
       "    <tr>\n",
       "      <th>1351</th>\n",
       "      <td>1352</td>\n",
       "      <td>7.2</td>\n",
       "      <td>0.620</td>\n",
       "      <td>0.01</td>\n",
       "      <td>2.3</td>\n",
       "      <td>0.065</td>\n",
       "      <td>8</td>\n",
       "      <td>46</td>\n",
       "      <td>0.99332</td>\n",
       "      <td>3.32</td>\n",
       "      <td>0.51</td>\n",
       "      <td>11.8</td>\n",
       "      <td>1</td>\n",
       "      <td>6</td>\n",
       "    </tr>\n",
       "    <tr>\n",
       "      <th>1352</th>\n",
       "      <td>1353</td>\n",
       "      <td>7.6</td>\n",
       "      <td>0.645</td>\n",
       "      <td>0.03</td>\n",
       "      <td>1.9</td>\n",
       "      <td>0.086</td>\n",
       "      <td>14</td>\n",
       "      <td>57</td>\n",
       "      <td>0.99690</td>\n",
       "      <td>3.37</td>\n",
       "      <td>0.46</td>\n",
       "      <td>10.3</td>\n",
       "      <td>1</td>\n",
       "      <td>5</td>\n",
       "    </tr>\n",
       "    <tr>\n",
       "      <th>1353</th>\n",
       "      <td>1354</td>\n",
       "      <td>7.6</td>\n",
       "      <td>0.645</td>\n",
       "      <td>0.03</td>\n",
       "      <td>1.9</td>\n",
       "      <td>0.086</td>\n",
       "      <td>14</td>\n",
       "      <td>57</td>\n",
       "      <td>0.99690</td>\n",
       "      <td>3.37</td>\n",
       "      <td>0.46</td>\n",
       "      <td>10.3</td>\n",
       "      <td>1</td>\n",
       "      <td>5</td>\n",
       "    </tr>\n",
       "    <tr>\n",
       "      <th>1357</th>\n",
       "      <td>1358</td>\n",
       "      <td>7.3</td>\n",
       "      <td>0.430</td>\n",
       "      <td>0.24</td>\n",
       "      <td>2.5</td>\n",
       "      <td>0.078</td>\n",
       "      <td>27</td>\n",
       "      <td>67</td>\n",
       "      <td>0.99648</td>\n",
       "      <td>3.60</td>\n",
       "      <td>0.59</td>\n",
       "      <td>11.1</td>\n",
       "      <td>1</td>\n",
       "      <td>6</td>\n",
       "    </tr>\n",
       "  </tbody>\n",
       "</table>\n",
       "<p>1223 rows × 14 columns</p>\n",
       "</div>"
      ],
      "text/plain": [
       "        id  fixed_acidity  volatile_acidity  citric_acid  residual_sugar  \\\n",
       "0        1            7.4             0.700         0.00             1.9   \n",
       "2        3            7.8             0.760         0.04             2.3   \n",
       "3        4           11.2             0.280         0.56             1.9   \n",
       "4        5            7.4             0.700         0.00             1.9   \n",
       "5        6            7.4             0.660         0.00             1.8   \n",
       "...    ...            ...               ...          ...             ...   \n",
       "1350  1351            9.0             0.600         0.29             2.0   \n",
       "1351  1352            7.2             0.620         0.01             2.3   \n",
       "1352  1353            7.6             0.645         0.03             1.9   \n",
       "1353  1354            7.6             0.645         0.03             1.9   \n",
       "1357  1358            7.3             0.430         0.24             2.5   \n",
       "\n",
       "      chlorides  free_sulfur_dioxide  total_sulfur_dioxide  density    pH  \\\n",
       "0         0.076                   11                    34  0.99780  3.51   \n",
       "2         0.092                   15                    54  0.99700  3.26   \n",
       "3         0.075                   17                    60  0.99800  3.16   \n",
       "4         0.076                   11                    34  0.99780  3.51   \n",
       "5         0.075                   13                    40  0.99780  3.51   \n",
       "...         ...                  ...                   ...      ...   ...   \n",
       "1350      0.069                   32                    73  0.99654  3.34   \n",
       "1351      0.065                    8                    46  0.99332  3.32   \n",
       "1352      0.086                   14                    57  0.99690  3.37   \n",
       "1353      0.086                   14                    57  0.99690  3.37   \n",
       "1357      0.078                   27                    67  0.99648  3.60   \n",
       "\n",
       "      sulphates  alcohol  Outlier  quality  \n",
       "0          0.56      9.4        1        5  \n",
       "2          0.65      9.8        1        5  \n",
       "3          0.58      9.8        1        6  \n",
       "4          0.56      9.4        1        5  \n",
       "5          0.56      9.4        1        5  \n",
       "...         ...      ...      ...      ...  \n",
       "1350       0.57     10.0        1        5  \n",
       "1351       0.51     11.8        1        6  \n",
       "1352       0.46     10.3        1        5  \n",
       "1353       0.46     10.3        1        5  \n",
       "1357       0.59     11.1        1        6  \n",
       "\n",
       "[1223 rows x 14 columns]"
      ]
     },
     "execution_count": 7,
     "metadata": {},
     "output_type": "execute_result"
    }
   ],
   "outputs_reference": "s3:deepnote-cell-outputs-production/c23e0406-2d6e-4a71-8273-490bf4ebb61e",
   "source": [
    "df_cleaned = df_wine[df_wine['Outlier'] != -1]\n",
    "\n",
    "df_cleaned"
   ]
  },
  {
   "block_group": "0f7fe5ee4e724393b7adc96901a92119",
   "cell_type": "code",
   "content_dependencies": null,
   "execution_count": null,
   "metadata": {
    "cell_id": "2bab0f8942fc4eb78df2a8153207d2b0",
    "deepnote_cell_type": "code",
    "deepnote_to_be_reexecuted": false,
    "execution_millis": 356,
    "execution_start": 1718197902530,
    "source_hash": null
   },
   "outputs": [],
   "outputs_reference": null,
   "source": [
    "df_cleaned.to_csv('winequality-red.csv')"
   ]
  },
  {
   "block_group": "320067dbcf7c4c8d96ee1234b577f855",
   "cell_type": "code",
   "content_dependencies": null,
   "execution_count": null,
   "metadata": {
    "cell_id": "8dba8d5122cd46c086cd92e264f82a0c",
    "deepnote_cell_type": "code",
    "deepnote_to_be_reexecuted": false,
    "execution_millis": 420,
    "execution_start": 1718197902678,
    "source_hash": null
   },
   "outputs": [
    {
     "data": {
      "text/plain": [
       "quality\n",
       "5    506\n",
       "6    501\n",
       "7    159\n",
       "4     38\n",
       "8     13\n",
       "3      6\n",
       "Name: count, dtype: int64"
      ]
     },
     "execution_count": 9,
     "metadata": {},
     "output_type": "execute_result"
    }
   ],
   "outputs_reference": "dbtable:cell_outputs/7dec40b1-4fe5-488d-8ba9-8f7c30bf07db",
   "source": [
    "df_cleaned.value_counts('quality')"
   ]
  },
  {
   "block_group": "db26fe659537424fb8f8896ac1ea0297",
   "cell_type": "markdown",
   "metadata": {
    "cell_id": "f410ed9c0cc2472d97e542124b8f588e",
    "deepnote_cell_type": "text-cell-h1",
    "formattedRanges": []
   },
   "source": [
    "# Modelling"
   ]
  },
  {
   "block_group": "36c14b5021af48148138b75e7965346b",
   "cell_type": "markdown",
   "metadata": {
    "cell_id": "e3525edb8f0f44c8bcb37eee2f391d49",
    "deepnote_app_block_visible": false,
    "deepnote_cell_type": "text-cell-h2",
    "formattedRanges": [],
    "is_collapsed": false
   },
   "source": [
    "## K-Nearest Neighbour"
   ]
  },
  {
   "block_group": "5960350ff3864a67b0626ca7d1e86854",
   "cell_type": "markdown",
   "metadata": {
    "cell_id": "e2745bdc55c5413a80ff552388713701",
    "deepnote_cell_type": "text-cell-p",
    "formattedRanges": []
   },
   "source": [
    "K-Nearest Neighbors (KNN) adalah model pembelajaran mesin terawasi yang dapat digunakan untuk tugas regresi dan klasifikasi. Algoritme ini bersifat non-parametrik, artinya tidak membuat asumsi apa pun tentang distribusi data yang mendasarinya."
   ]
  },
  {
   "block_group": "1d96e329108b4b609679262b25870e6a",
   "cell_type": "markdown",
   "metadata": {
    "cell_id": "e6c507ec17e04fd88e1dfba9e404800b",
    "deepnote_cell_type": "text-cell-p",
    "formattedRanges": []
   },
   "source": [
    "Algoritma KNN memprediksi label kumpulan data pengujian dengan melihat label tetangga terdekatnya di ruang fitur kumpulan data pelatihan. “K” adalah hyperparameter terpenting yang dapat disesuaikan untuk mengoptimalkan performa model."
   ]
  },
  {
   "block_group": "6bf30206f65340a29ccd53beb48bce6b",
   "cell_type": "markdown",
   "metadata": {
    "cell_id": "35a93fbfb7414293a58424693bfc4803",
    "deepnote_cell_type": "text-cell-p",
    "formattedRanges": []
   },
   "source": [
    "KNN adalah algoritma sederhana dan intuitif yang memberikan hasil yang baik untuk berbagai masalah klasifikasi. Mudah diterapkan dan dipahami, serta dapat diterapkan pada kumpulan data kecil dan besar. Namun, hal ini juga memiliki beberapa kekurangan, dan kelemahan utamanya adalah biaya komputasinya mahal untuk kumpulan data besar atau ruang fitur berdimensi tinggi."
   ]
  },
  {
   "block_group": "4d6c9c279187473584f9b899d2972374",
   "cell_type": "markdown",
   "metadata": {
    "cell_id": "1454833584624c259c4a64d8bbe86d0f",
    "deepnote_cell_type": "text-cell-p",
    "formattedRanges": []
   },
   "source": [
    "Algoritma KNN digunakan dalam mesin rekomendasi e-commerce, pengenalan gambar, deteksi penipuan, klasifikasi teks, deteksi anomali, dan masih banyak lagi. Dalam tutorial ini, kita akan menggunakan algoritma KNN untuk sistem persetujuan pinjaman"
   ]
  },
  {
   "block_group": "78eceb8958c14fa18c9d2cb95f12baa2",
   "cell_type": "code",
   "content_dependencies": null,
   "execution_count": null,
   "metadata": {
    "cell_id": "7afde17f3ed34f4ba1dd62b7080ecd82",
    "deepnote_cell_type": "sql",
    "deepnote_sql_source": "select * from wine",
    "deepnote_to_be_reexecuted": false,
    "deepnote_variable_name": "df_knn",
    "execution_millis": 4072,
    "execution_start": 1718197902681,
    "source_hash": null,
    "sql_integration_id": "c489ccac-4e04-45a8-9afe-862b142176eb"
   },
   "outputs": [
    {
     "data": {
      "application/vnd.deepnote.sql-output-metadata+json": {
       "size_in_bytes": 141468,
       "status": "success_no_cache"
      }
     },
     "metadata": {},
     "output_type": "display_data"
    },
    {
     "data": {
      "application/vnd.deepnote.dataframe.v3+json": {
       "column_count": 13,
       "columns": [
        {
         "dtype": "int64",
         "name": "id",
         "stats": {
          "histogram": [
           {
            "bin_end": 136.8,
            "bin_start": 1,
            "count": 136
           },
           {
            "bin_end": 272.6,
            "bin_start": 136.8,
            "count": 136
           },
           {
            "bin_end": 408.40000000000003,
            "bin_start": 272.6,
            "count": 136
           },
           {
            "bin_end": 544.2,
            "bin_start": 408.40000000000003,
            "count": 136
           },
           {
            "bin_end": 680,
            "bin_start": 544.2,
            "count": 135
           },
           {
            "bin_end": 815.8000000000001,
            "bin_start": 680,
            "count": 136
           },
           {
            "bin_end": 951.6000000000001,
            "bin_start": 815.8000000000001,
            "count": 136
           },
           {
            "bin_end": 1087.4,
            "bin_start": 951.6000000000001,
            "count": 136
           },
           {
            "bin_end": 1223.2,
            "bin_start": 1087.4,
            "count": 136
           },
           {
            "bin_end": 1359,
            "bin_start": 1223.2,
            "count": 136
           }
          ],
          "max": "1359",
          "min": "1",
          "nan_count": 0,
          "unique_count": 1359
         }
        },
        {
         "dtype": "float64",
         "name": "fixed_acidity",
         "stats": {
          "histogram": [
           {
            "bin_end": 5.7299999999999995,
            "bin_start": 4.6,
            "count": 36
           },
           {
            "bin_end": 6.859999999999999,
            "bin_start": 5.7299999999999995,
            "count": 143
           },
           {
            "bin_end": 7.99,
            "bin_start": 6.859999999999999,
            "count": 438
           },
           {
            "bin_end": 9.120000000000001,
            "bin_start": 7.99,
            "count": 345
           },
           {
            "bin_end": 10.25,
            "bin_start": 9.120000000000001,
            "count": 178
           },
           {
            "bin_end": 11.38,
            "bin_start": 10.25,
            "count": 108
           },
           {
            "bin_end": 12.510000000000002,
            "bin_start": 11.38,
            "count": 73
           },
           {
            "bin_end": 13.64,
            "bin_start": 12.510000000000002,
            "count": 26
           },
           {
            "bin_end": 14.770000000000001,
            "bin_start": 13.64,
            "count": 5
           },
           {
            "bin_end": 15.9,
            "bin_start": 14.770000000000001,
            "count": 7
           }
          ],
          "max": "15.9",
          "min": "4.6",
          "nan_count": 0,
          "unique_count": 96
         }
        },
        {
         "dtype": "float64",
         "name": "volatile_acidity",
         "stats": {
          "histogram": [
           {
            "bin_end": 0.266,
            "bin_start": 0.12,
            "count": 62
           },
           {
            "bin_end": 0.412,
            "bin_start": 0.266,
            "count": 362
           },
           {
            "bin_end": 0.5579999999999999,
            "bin_start": 0.412,
            "count": 362
           },
           {
            "bin_end": 0.704,
            "bin_start": 0.5579999999999999,
            "count": 391
           },
           {
            "bin_end": 0.85,
            "bin_start": 0.704,
            "count": 121
           },
           {
            "bin_end": 0.9959999999999999,
            "bin_start": 0.85,
            "count": 38
           },
           {
            "bin_end": 1.142,
            "bin_start": 0.9959999999999999,
            "count": 17
           },
           {
            "bin_end": 1.2879999999999998,
            "bin_start": 1.142,
            "count": 3
           },
           {
            "bin_end": 1.4339999999999997,
            "bin_start": 1.2879999999999998,
            "count": 2
           },
           {
            "bin_end": 1.58,
            "bin_start": 1.4339999999999997,
            "count": 1
           }
          ],
          "max": "1.58",
          "min": "0.12",
          "nan_count": 0,
          "unique_count": 139
         }
        },
        {
         "dtype": "float64",
         "name": "citric_acid",
         "stats": {
          "histogram": [
           {
            "bin_end": 0.1,
            "bin_start": 0,
            "count": 317
           },
           {
            "bin_end": 0.2,
            "bin_start": 0.1,
            "count": 160
           },
           {
            "bin_end": 0.30000000000000004,
            "bin_start": 0.2,
            "count": 276
           },
           {
            "bin_end": 0.4,
            "bin_start": 0.30000000000000004,
            "count": 173
           },
           {
            "bin_end": 0.5,
            "bin_start": 0.4,
            "count": 243
           },
           {
            "bin_end": 0.6000000000000001,
            "bin_start": 0.5,
            "count": 116
           },
           {
            "bin_end": 0.7000000000000001,
            "bin_start": 0.6000000000000001,
            "count": 59
           },
           {
            "bin_end": 0.8,
            "bin_start": 0.7000000000000001,
            "count": 14
           },
           {
            "bin_end": 0.9,
            "bin_start": 0.8,
            "count": 0
           },
           {
            "bin_end": 1,
            "bin_start": 0.9,
            "count": 1
           }
          ],
          "max": "1.0",
          "min": "0.0",
          "nan_count": 0,
          "unique_count": 79
         }
        },
        {
         "dtype": "float64",
         "name": "residual_sugar",
         "stats": {
          "histogram": [
           {
            "bin_end": 2.36,
            "bin_start": 0.9,
            "count": 809
           },
           {
            "bin_end": 3.82,
            "bin_start": 2.36,
            "count": 429
           },
           {
            "bin_end": 5.28,
            "bin_start": 3.82,
            "count": 55
           },
           {
            "bin_end": 6.74,
            "bin_start": 5.28,
            "count": 42
           },
           {
            "bin_end": 8.2,
            "bin_start": 6.74,
            "count": 10
           },
           {
            "bin_end": 9.66,
            "bin_start": 8.2,
            "count": 8
           },
           {
            "bin_end": 11.12,
            "bin_start": 9.66,
            "count": 3
           },
           {
            "bin_end": 12.58,
            "bin_start": 11.12,
            "count": 0
           },
           {
            "bin_end": 14.040000000000001,
            "bin_start": 12.58,
            "count": 2
           },
           {
            "bin_end": 15.5,
            "bin_start": 14.040000000000001,
            "count": 1
           }
          ],
          "max": "15.5",
          "min": "0.9",
          "nan_count": 0,
          "unique_count": 86
         }
        },
        {
         "dtype": "float64",
         "name": "chlorides",
         "stats": {
          "histogram": [
           {
            "bin_end": 0.07189999999999999,
            "bin_start": 0.012,
            "count": 352
           },
           {
            "bin_end": 0.1318,
            "bin_start": 0.07189999999999999,
            "count": 940
           },
           {
            "bin_end": 0.19169999999999998,
            "bin_start": 0.1318,
            "count": 33
           },
           {
            "bin_end": 0.2516,
            "bin_start": 0.19169999999999998,
            "count": 12
           },
           {
            "bin_end": 0.3115,
            "bin_start": 0.2516,
            "count": 2
           },
           {
            "bin_end": 0.37139999999999995,
            "bin_start": 0.3115,
            "count": 8
           },
           {
            "bin_end": 0.43129999999999996,
            "bin_start": 0.37139999999999995,
            "count": 8
           },
           {
            "bin_end": 0.49119999999999997,
            "bin_start": 0.43129999999999996,
            "count": 2
           },
           {
            "bin_end": 0.5510999999999999,
            "bin_start": 0.49119999999999997,
            "count": 0
           },
           {
            "bin_end": 0.611,
            "bin_start": 0.5510999999999999,
            "count": 2
           }
          ],
          "max": "0.611",
          "min": "0.012",
          "nan_count": 0,
          "unique_count": 147
         }
        },
        {
         "dtype": "int64",
         "name": "free_sulfur_dioxide",
         "stats": {
          "histogram": [
           {
            "bin_end": 8.1,
            "bin_start": 1,
            "count": 405
           },
           {
            "bin_end": 15.2,
            "bin_start": 8.1,
            "count": 395
           },
           {
            "bin_end": 22.299999999999997,
            "bin_start": 15.2,
            "count": 256
           },
           {
            "bin_end": 29.4,
            "bin_start": 22.299999999999997,
            "count": 164
           },
           {
            "bin_end": 36.5,
            "bin_start": 29.4,
            "count": 87
           },
           {
            "bin_end": 43.599999999999994,
            "bin_start": 36.5,
            "count": 30
           },
           {
            "bin_end": 50.699999999999996,
            "bin_start": 43.599999999999994,
            "count": 9
           },
           {
            "bin_end": 57.8,
            "bin_start": 50.699999999999996,
            "count": 10
           },
           {
            "bin_end": 64.9,
            "bin_start": 57.8,
            "count": 0
           },
           {
            "bin_end": 72,
            "bin_start": 64.9,
            "count": 3
           }
          ],
          "max": "72",
          "min": "1",
          "nan_count": 0,
          "unique_count": 55
         }
        },
        {
         "dtype": "int64",
         "name": "total_sulfur_dioxide",
         "stats": {
          "histogram": [
           {
            "bin_end": 34.3,
            "bin_start": 6,
            "count": 605
           },
           {
            "bin_end": 62.6,
            "bin_start": 34.3,
            "count": 408
           },
           {
            "bin_end": 90.9,
            "bin_start": 62.6,
            "count": 194
           },
           {
            "bin_end": 119.2,
            "bin_start": 90.9,
            "count": 96
           },
           {
            "bin_end": 147.5,
            "bin_start": 119.2,
            "count": 44
           },
           {
            "bin_end": 175.8,
            "bin_start": 147.5,
            "count": 10
           },
           {
            "bin_end": 204.1,
            "bin_start": 175.8,
            "count": 0
           },
           {
            "bin_end": 232.4,
            "bin_start": 204.1,
            "count": 0
           },
           {
            "bin_end": 260.70000000000005,
            "bin_start": 232.4,
            "count": 0
           },
           {
            "bin_end": 289,
            "bin_start": 260.70000000000005,
            "count": 2
           }
          ],
          "max": "289",
          "min": "6",
          "nan_count": 0,
          "unique_count": 142
         }
        },
        {
         "dtype": "float64",
         "name": "density",
         "stats": {
          "histogram": [
           {
            "bin_end": 10.922562999999998,
            "bin_start": 0.99007,
            "count": 1348
           },
           {
            "bin_end": 20.855055999999998,
            "bin_start": 10.922562999999998,
            "count": 0
           },
           {
            "bin_end": 30.787548999999995,
            "bin_start": 20.855055999999998,
            "count": 0
           },
           {
            "bin_end": 40.720042,
            "bin_start": 30.787548999999995,
            "count": 0
           },
           {
            "bin_end": 50.652535,
            "bin_start": 40.720042,
            "count": 0
           },
           {
            "bin_end": 60.585027999999994,
            "bin_start": 50.652535,
            "count": 0
           },
           {
            "bin_end": 70.517521,
            "bin_start": 60.585027999999994,
            "count": 0
           },
           {
            "bin_end": 80.450014,
            "bin_start": 70.517521,
            "count": 0
           },
           {
            "bin_end": 90.38250699999999,
            "bin_start": 80.450014,
            "count": 0
           },
           {
            "bin_end": 100.315,
            "bin_start": 90.38250699999999,
            "count": 11
           }
          ],
          "max": "100.315",
          "min": "0.99007",
          "nan_count": 0,
          "unique_count": 385
         }
        },
        {
         "dtype": "float64",
         "name": "pH",
         "stats": {
          "histogram": [
           {
            "bin_end": 2.867,
            "bin_start": 2.74,
            "count": 2
           },
           {
            "bin_end": 2.994,
            "bin_start": 2.867,
            "count": 26
           },
           {
            "bin_end": 3.121,
            "bin_start": 2.994,
            "count": 126
           },
           {
            "bin_end": 3.248,
            "bin_start": 3.121,
            "count": 327
           },
           {
            "bin_end": 3.375,
            "bin_start": 3.248,
            "count": 468
           },
           {
            "bin_end": 3.502,
            "bin_start": 3.375,
            "count": 285
           },
           {
            "bin_end": 3.6289999999999996,
            "bin_start": 3.502,
            "count": 94
           },
           {
            "bin_end": 3.756,
            "bin_start": 3.6289999999999996,
            "count": 24
           },
           {
            "bin_end": 3.883,
            "bin_start": 3.756,
            "count": 3
           },
           {
            "bin_end": 4.01,
            "bin_start": 3.883,
            "count": 4
           }
          ],
          "max": "4.01",
          "min": "2.74",
          "nan_count": 0,
          "unique_count": 89
         }
        },
        {
         "dtype": "float64",
         "name": "sulphates",
         "stats": {
          "histogram": [
           {
            "bin_end": 0.497,
            "bin_start": 0.33,
            "count": 131
           },
           {
            "bin_end": 0.6639999999999999,
            "bin_start": 0.497,
            "count": 729
           },
           {
            "bin_end": 0.831,
            "bin_start": 0.6639999999999999,
            "count": 345
           },
           {
            "bin_end": 0.998,
            "bin_start": 0.831,
            "count": 101
           },
           {
            "bin_end": 1.165,
            "bin_start": 0.998,
            "count": 29
           },
           {
            "bin_end": 1.3319999999999999,
            "bin_start": 1.165,
            "count": 12
           },
           {
            "bin_end": 1.4989999999999999,
            "bin_start": 1.3319999999999999,
            "count": 4
           },
           {
            "bin_end": 1.666,
            "bin_start": 1.4989999999999999,
            "count": 4
           },
           {
            "bin_end": 1.833,
            "bin_start": 1.666,
            "count": 0
           },
           {
            "bin_end": 2,
            "bin_start": 1.833,
            "count": 4
           }
          ],
          "max": "2.0",
          "min": "0.33",
          "nan_count": 0,
          "unique_count": 95
         }
        },
        {
         "dtype": "float64",
         "name": "alcohol",
         "stats": {
          "histogram": [
           {
            "bin_end": 9.05,
            "bin_start": 8.4,
            "count": 29
           },
           {
            "bin_end": 9.700000000000001,
            "bin_start": 9.05,
            "count": 468
           },
           {
            "bin_end": 10.350000000000001,
            "bin_start": 9.700000000000001,
            "count": 260
           },
           {
            "bin_end": 11,
            "bin_start": 10.350000000000001,
            "count": 211
           },
           {
            "bin_end": 11.65,
            "bin_start": 11,
            "count": 182
           },
           {
            "bin_end": 12.3,
            "bin_start": 11.65,
            "count": 102
           },
           {
            "bin_end": 12.95,
            "bin_start": 12.3,
            "count": 80
           },
           {
            "bin_end": 13.600000000000001,
            "bin_start": 12.95,
            "count": 19
           },
           {
            "bin_end": 14.25,
            "bin_start": 13.600000000000001,
            "count": 7
           },
           {
            "bin_end": 14.9,
            "bin_start": 14.25,
            "count": 1
           }
          ],
          "max": "14.9",
          "min": "8.4",
          "nan_count": 0,
          "unique_count": 51
         }
        },
        {
         "dtype": "int64",
         "name": "quality",
         "stats": {
          "histogram": [
           {
            "bin_end": 3.5,
            "bin_start": 3,
            "count": 6
           },
           {
            "bin_end": 4,
            "bin_start": 3.5,
            "count": 0
           },
           {
            "bin_end": 4.5,
            "bin_start": 4,
            "count": 44
           },
           {
            "bin_end": 5,
            "bin_start": 4.5,
            "count": 0
           },
           {
            "bin_end": 5.5,
            "bin_start": 5,
            "count": 575
           },
           {
            "bin_end": 6,
            "bin_start": 5.5,
            "count": 0
           },
           {
            "bin_end": 6.5,
            "bin_start": 6,
            "count": 540
           },
           {
            "bin_end": 7,
            "bin_start": 6.5,
            "count": 0
           },
           {
            "bin_end": 7.5,
            "bin_start": 7,
            "count": 179
           },
           {
            "bin_end": 8,
            "bin_start": 7.5,
            "count": 15
           }
          ],
          "max": "8",
          "min": "3",
          "nan_count": 0,
          "unique_count": 6
         }
        },
        {
         "dtype": "int64",
         "name": "_deepnote_index_column"
        }
       ],
       "row_count": 1359,
       "rows": [
        {
         "_deepnote_index_column": 0,
         "alcohol": 9.4,
         "chlorides": 0.076,
         "citric_acid": 0,
         "density": 0.9978,
         "fixed_acidity": 7.4,
         "free_sulfur_dioxide": 11,
         "id": 1,
         "pH": 3.51,
         "quality": 5,
         "residual_sugar": 1.9,
         "sulphates": 0.56,
         "total_sulfur_dioxide": 34,
         "volatile_acidity": 0.7
        },
        {
         "_deepnote_index_column": 1,
         "alcohol": 9.8,
         "chlorides": 0.098,
         "citric_acid": 0,
         "density": 0.9968,
         "fixed_acidity": 7.8,
         "free_sulfur_dioxide": 25,
         "id": 2,
         "pH": 3.2,
         "quality": 5,
         "residual_sugar": 2.6,
         "sulphates": 0.68,
         "total_sulfur_dioxide": 67,
         "volatile_acidity": 0.88
        },
        {
         "_deepnote_index_column": 2,
         "alcohol": 9.8,
         "chlorides": 0.092,
         "citric_acid": 0.04,
         "density": 0.997,
         "fixed_acidity": 7.8,
         "free_sulfur_dioxide": 15,
         "id": 3,
         "pH": 3.26,
         "quality": 5,
         "residual_sugar": 2.3,
         "sulphates": 0.65,
         "total_sulfur_dioxide": 54,
         "volatile_acidity": 0.76
        },
        {
         "_deepnote_index_column": 3,
         "alcohol": 9.8,
         "chlorides": 0.075,
         "citric_acid": 0.56,
         "density": 0.998,
         "fixed_acidity": 11.2,
         "free_sulfur_dioxide": 17,
         "id": 4,
         "pH": 3.16,
         "quality": 6,
         "residual_sugar": 1.9,
         "sulphates": 0.58,
         "total_sulfur_dioxide": 60,
         "volatile_acidity": 0.28
        },
        {
         "_deepnote_index_column": 4,
         "alcohol": 9.4,
         "chlorides": 0.076,
         "citric_acid": 0,
         "density": 0.9978,
         "fixed_acidity": 7.4,
         "free_sulfur_dioxide": 11,
         "id": 5,
         "pH": 3.51,
         "quality": 5,
         "residual_sugar": 1.9,
         "sulphates": 0.56,
         "total_sulfur_dioxide": 34,
         "volatile_acidity": 0.7
        },
        {
         "_deepnote_index_column": 5,
         "alcohol": 9.4,
         "chlorides": 0.075,
         "citric_acid": 0,
         "density": 0.9978,
         "fixed_acidity": 7.4,
         "free_sulfur_dioxide": 13,
         "id": 6,
         "pH": 3.51,
         "quality": 5,
         "residual_sugar": 1.8,
         "sulphates": 0.56,
         "total_sulfur_dioxide": 40,
         "volatile_acidity": 0.66
        },
        {
         "_deepnote_index_column": 6,
         "alcohol": 9.4,
         "chlorides": 0.069,
         "citric_acid": 0.06,
         "density": 0.9964,
         "fixed_acidity": 7.9,
         "free_sulfur_dioxide": 15,
         "id": 7,
         "pH": 3.3,
         "quality": 5,
         "residual_sugar": 1.6,
         "sulphates": 0.46,
         "total_sulfur_dioxide": 59,
         "volatile_acidity": 0.6
        },
        {
         "_deepnote_index_column": 7,
         "alcohol": 10,
         "chlorides": 0.065,
         "citric_acid": 0,
         "density": 0.9946,
         "fixed_acidity": 7.3,
         "free_sulfur_dioxide": 15,
         "id": 8,
         "pH": 3.39,
         "quality": 7,
         "residual_sugar": 1.2,
         "sulphates": 0.47,
         "total_sulfur_dioxide": 21,
         "volatile_acidity": 0.65
        },
        {
         "_deepnote_index_column": 8,
         "alcohol": 9.5,
         "chlorides": 0.073,
         "citric_acid": 0.02,
         "density": 0.9968,
         "fixed_acidity": 7.8,
         "free_sulfur_dioxide": 9,
         "id": 9,
         "pH": 3.36,
         "quality": 7,
         "residual_sugar": 2,
         "sulphates": 0.57,
         "total_sulfur_dioxide": 18,
         "volatile_acidity": 0.58
        },
        {
         "_deepnote_index_column": 9,
         "alcohol": 10.5,
         "chlorides": 0.071,
         "citric_acid": 0.36,
         "density": 0.9978,
         "fixed_acidity": 7.5,
         "free_sulfur_dioxide": 17,
         "id": 10,
         "pH": 3.35,
         "quality": 5,
         "residual_sugar": 6.1,
         "sulphates": 0.8,
         "total_sulfur_dioxide": 102,
         "volatile_acidity": 0.5
        }
       ]
      },
      "text/html": [
       "<div>\n",
       "<style scoped>\n",
       "    .dataframe tbody tr th:only-of-type {\n",
       "        vertical-align: middle;\n",
       "    }\n",
       "\n",
       "    .dataframe tbody tr th {\n",
       "        vertical-align: top;\n",
       "    }\n",
       "\n",
       "    .dataframe thead th {\n",
       "        text-align: right;\n",
       "    }\n",
       "</style>\n",
       "<table border=\"1\" class=\"dataframe\">\n",
       "  <thead>\n",
       "    <tr style=\"text-align: right;\">\n",
       "      <th></th>\n",
       "      <th>id</th>\n",
       "      <th>fixed_acidity</th>\n",
       "      <th>volatile_acidity</th>\n",
       "      <th>citric_acid</th>\n",
       "      <th>residual_sugar</th>\n",
       "      <th>chlorides</th>\n",
       "      <th>free_sulfur_dioxide</th>\n",
       "      <th>total_sulfur_dioxide</th>\n",
       "      <th>density</th>\n",
       "      <th>pH</th>\n",
       "      <th>sulphates</th>\n",
       "      <th>alcohol</th>\n",
       "      <th>quality</th>\n",
       "    </tr>\n",
       "  </thead>\n",
       "  <tbody>\n",
       "    <tr>\n",
       "      <th>0</th>\n",
       "      <td>1</td>\n",
       "      <td>7.4</td>\n",
       "      <td>0.70</td>\n",
       "      <td>0.00</td>\n",
       "      <td>1.9</td>\n",
       "      <td>0.076</td>\n",
       "      <td>11</td>\n",
       "      <td>34</td>\n",
       "      <td>0.99780</td>\n",
       "      <td>3.51</td>\n",
       "      <td>0.56</td>\n",
       "      <td>9.4</td>\n",
       "      <td>5</td>\n",
       "    </tr>\n",
       "    <tr>\n",
       "      <th>1</th>\n",
       "      <td>2</td>\n",
       "      <td>7.8</td>\n",
       "      <td>0.88</td>\n",
       "      <td>0.00</td>\n",
       "      <td>2.6</td>\n",
       "      <td>0.098</td>\n",
       "      <td>25</td>\n",
       "      <td>67</td>\n",
       "      <td>0.99680</td>\n",
       "      <td>3.20</td>\n",
       "      <td>0.68</td>\n",
       "      <td>9.8</td>\n",
       "      <td>5</td>\n",
       "    </tr>\n",
       "    <tr>\n",
       "      <th>2</th>\n",
       "      <td>3</td>\n",
       "      <td>7.8</td>\n",
       "      <td>0.76</td>\n",
       "      <td>0.04</td>\n",
       "      <td>2.3</td>\n",
       "      <td>0.092</td>\n",
       "      <td>15</td>\n",
       "      <td>54</td>\n",
       "      <td>0.99700</td>\n",
       "      <td>3.26</td>\n",
       "      <td>0.65</td>\n",
       "      <td>9.8</td>\n",
       "      <td>5</td>\n",
       "    </tr>\n",
       "    <tr>\n",
       "      <th>3</th>\n",
       "      <td>4</td>\n",
       "      <td>11.2</td>\n",
       "      <td>0.28</td>\n",
       "      <td>0.56</td>\n",
       "      <td>1.9</td>\n",
       "      <td>0.075</td>\n",
       "      <td>17</td>\n",
       "      <td>60</td>\n",
       "      <td>0.99800</td>\n",
       "      <td>3.16</td>\n",
       "      <td>0.58</td>\n",
       "      <td>9.8</td>\n",
       "      <td>6</td>\n",
       "    </tr>\n",
       "    <tr>\n",
       "      <th>4</th>\n",
       "      <td>5</td>\n",
       "      <td>7.4</td>\n",
       "      <td>0.70</td>\n",
       "      <td>0.00</td>\n",
       "      <td>1.9</td>\n",
       "      <td>0.076</td>\n",
       "      <td>11</td>\n",
       "      <td>34</td>\n",
       "      <td>0.99780</td>\n",
       "      <td>3.51</td>\n",
       "      <td>0.56</td>\n",
       "      <td>9.4</td>\n",
       "      <td>5</td>\n",
       "    </tr>\n",
       "    <tr>\n",
       "      <th>...</th>\n",
       "      <td>...</td>\n",
       "      <td>...</td>\n",
       "      <td>...</td>\n",
       "      <td>...</td>\n",
       "      <td>...</td>\n",
       "      <td>...</td>\n",
       "      <td>...</td>\n",
       "      <td>...</td>\n",
       "      <td>...</td>\n",
       "      <td>...</td>\n",
       "      <td>...</td>\n",
       "      <td>...</td>\n",
       "      <td>...</td>\n",
       "    </tr>\n",
       "    <tr>\n",
       "      <th>1354</th>\n",
       "      <td>1355</td>\n",
       "      <td>7.2</td>\n",
       "      <td>0.58</td>\n",
       "      <td>0.03</td>\n",
       "      <td>2.3</td>\n",
       "      <td>0.077</td>\n",
       "      <td>7</td>\n",
       "      <td>28</td>\n",
       "      <td>0.99568</td>\n",
       "      <td>3.35</td>\n",
       "      <td>0.52</td>\n",
       "      <td>10.0</td>\n",
       "      <td>5</td>\n",
       "    </tr>\n",
       "    <tr>\n",
       "      <th>1355</th>\n",
       "      <td>1356</td>\n",
       "      <td>6.1</td>\n",
       "      <td>0.32</td>\n",
       "      <td>0.25</td>\n",
       "      <td>1.8</td>\n",
       "      <td>0.086</td>\n",
       "      <td>5</td>\n",
       "      <td>32</td>\n",
       "      <td>0.99464</td>\n",
       "      <td>3.36</td>\n",
       "      <td>0.44</td>\n",
       "      <td>10.1</td>\n",
       "      <td>5</td>\n",
       "    </tr>\n",
       "    <tr>\n",
       "      <th>1356</th>\n",
       "      <td>1357</td>\n",
       "      <td>6.1</td>\n",
       "      <td>0.34</td>\n",
       "      <td>0.25</td>\n",
       "      <td>1.8</td>\n",
       "      <td>0.084</td>\n",
       "      <td>4</td>\n",
       "      <td>28</td>\n",
       "      <td>0.99464</td>\n",
       "      <td>3.36</td>\n",
       "      <td>0.44</td>\n",
       "      <td>10.1</td>\n",
       "      <td>5</td>\n",
       "    </tr>\n",
       "    <tr>\n",
       "      <th>1357</th>\n",
       "      <td>1358</td>\n",
       "      <td>7.3</td>\n",
       "      <td>0.43</td>\n",
       "      <td>0.24</td>\n",
       "      <td>2.5</td>\n",
       "      <td>0.078</td>\n",
       "      <td>27</td>\n",
       "      <td>67</td>\n",
       "      <td>0.99648</td>\n",
       "      <td>3.60</td>\n",
       "      <td>0.59</td>\n",
       "      <td>11.1</td>\n",
       "      <td>6</td>\n",
       "    </tr>\n",
       "    <tr>\n",
       "      <th>1358</th>\n",
       "      <td>1359</td>\n",
       "      <td>7.4</td>\n",
       "      <td>0.64</td>\n",
       "      <td>0.17</td>\n",
       "      <td>5.4</td>\n",
       "      <td>0.168</td>\n",
       "      <td>52</td>\n",
       "      <td>98</td>\n",
       "      <td>0.99736</td>\n",
       "      <td>3.28</td>\n",
       "      <td>0.50</td>\n",
       "      <td>9.5</td>\n",
       "      <td>5</td>\n",
       "    </tr>\n",
       "  </tbody>\n",
       "</table>\n",
       "<p>1359 rows × 13 columns</p>\n",
       "</div>"
      ],
      "text/plain": [
       "        id  fixed_acidity  volatile_acidity  citric_acid  residual_sugar  \\\n",
       "0        1            7.4              0.70         0.00             1.9   \n",
       "1        2            7.8              0.88         0.00             2.6   \n",
       "2        3            7.8              0.76         0.04             2.3   \n",
       "3        4           11.2              0.28         0.56             1.9   \n",
       "4        5            7.4              0.70         0.00             1.9   \n",
       "...    ...            ...               ...          ...             ...   \n",
       "1354  1355            7.2              0.58         0.03             2.3   \n",
       "1355  1356            6.1              0.32         0.25             1.8   \n",
       "1356  1357            6.1              0.34         0.25             1.8   \n",
       "1357  1358            7.3              0.43         0.24             2.5   \n",
       "1358  1359            7.4              0.64         0.17             5.4   \n",
       "\n",
       "      chlorides  free_sulfur_dioxide  total_sulfur_dioxide  density    pH  \\\n",
       "0         0.076                   11                    34  0.99780  3.51   \n",
       "1         0.098                   25                    67  0.99680  3.20   \n",
       "2         0.092                   15                    54  0.99700  3.26   \n",
       "3         0.075                   17                    60  0.99800  3.16   \n",
       "4         0.076                   11                    34  0.99780  3.51   \n",
       "...         ...                  ...                   ...      ...   ...   \n",
       "1354      0.077                    7                    28  0.99568  3.35   \n",
       "1355      0.086                    5                    32  0.99464  3.36   \n",
       "1356      0.084                    4                    28  0.99464  3.36   \n",
       "1357      0.078                   27                    67  0.99648  3.60   \n",
       "1358      0.168                   52                    98  0.99736  3.28   \n",
       "\n",
       "      sulphates  alcohol  quality  \n",
       "0          0.56      9.4        5  \n",
       "1          0.68      9.8        5  \n",
       "2          0.65      9.8        5  \n",
       "3          0.58      9.8        6  \n",
       "4          0.56      9.4        5  \n",
       "...         ...      ...      ...  \n",
       "1354       0.52     10.0        5  \n",
       "1355       0.44     10.1        5  \n",
       "1356       0.44     10.1        5  \n",
       "1357       0.59     11.1        6  \n",
       "1358       0.50      9.5        5  \n",
       "\n",
       "[1359 rows x 13 columns]"
      ]
     },
     "execution_count": 10,
     "metadata": {},
     "output_type": "execute_result"
    }
   ],
   "outputs_reference": "s3:deepnote-cell-outputs-production/797a2da9-b5eb-401a-8327-ef2883a06311",
   "source": [
    "df_knn = _deepnote_execute_sql('select * from wine', 'SQL_C489CCAC_4E04_45A8_9AFE_862B142176EB', audit_sql_comment='', sql_cache_mode='cache_disabled')\n",
    "df_knn"
   ]
  },
  {
   "block_group": "b27a09858961465c8903a64d5b4ffb87",
   "cell_type": "code",
   "content_dependencies": null,
   "execution_count": null,
   "metadata": {
    "cell_id": "e03cb925207b402a88b707261da3fc0e",
    "deepnote_cell_type": "code",
    "deepnote_to_be_reexecuted": false,
    "execution_millis": 142,
    "execution_start": 1718197906757,
    "source_hash": null
   },
   "outputs": [],
   "outputs_reference": null,
   "source": [
    "import pandas as pd\n",
    "from sklearn.model_selection import train_test_split\n",
    "from sklearn.neighbors import KNeighborsClassifier\n",
    "from sklearn.metrics import accuracy_score\n",
    "from sklearn.preprocessing import StandardScaler\n",
    "\n",
    "# Mengakses dataset melalui csv\n",
    "df = pd.read_csv('winequality-red.csv')\n",
    "# Menghapus kolom yang tidak relevan\n",
    "df.drop(\"Unnamed: 0\", axis=1, inplace=True)\n",
    "df.drop(\"Outlier\", axis=1, inplace=True)\n",
    "\n",
    "X = df[['fixed_acidity','volatile_acidity','citric_acid','residual_sugar','chlorides','free_sulfur_dioxide','total_sulfur_dioxide','density','pH','sulphates','alcohol']]\n",
    "y = df['quality']\n",
    "\n",
    "X_train, X_test, Y_train, Y_test = train_test_split(X, y, test_size=0.2, random_state=25)\n",
    "\n",
    "# X_test"
   ]
  },
  {
   "block_group": "065376d11199484db9857e33e7ef4326",
   "cell_type": "code",
   "content_dependencies": null,
   "execution_count": null,
   "metadata": {
    "cell_id": "0c4f92b58ee747d8a5c74b06797a254b",
    "deepnote_cell_type": "code",
    "deepnote_to_be_reexecuted": false,
    "execution_millis": 44,
    "execution_start": 1718197906869,
    "source_hash": null
   },
   "outputs": [
    {
     "name": "stdout",
     "output_type": "stream",
     "text": [
      "Akurasi: 0.6204081632653061\n"
     ]
    }
   ],
   "outputs_reference": "dbtable:cell_outputs/e1b573ce-c110-4795-a140-ed49fa0f6c03",
   "source": [
    "# Standardize features\n",
    "scaler = StandardScaler()\n",
    "X_train = scaler.fit_transform(X_train)\n",
    "X_test = scaler.transform(X_test)\n",
    "\n",
    "# Membuat model KNN\n",
    "knn = KNeighborsClassifier(n_neighbors=2)\n",
    "# knn\n",
    "\n",
    "# Melatih model pada training set\n",
    "knn.fit(X_train, Y_train)\n",
    "\n",
    "# Memprediksi target pada testing set\n",
    "y_pred = knn.predict(X_test)\n",
    "\n",
    "# Menghitung akurasi model\n",
    "accuracy = accuracy_score(Y_test, y_pred)\n",
    "print('Akurasi:', accuracy)"
   ]
  },
  {
   "block_group": "2761c3baa83d43518676715c55f37548",
   "cell_type": "code",
   "content_dependencies": null,
   "execution_count": null,
   "metadata": {
    "cell_id": "15fcfaab8b524acfa00cd06211aab16b",
    "deepnote_cell_type": "code",
    "deepnote_to_be_reexecuted": false,
    "execution_millis": 26,
    "execution_start": 1718197906887,
    "source_hash": null
   },
   "outputs": [
    {
     "name": "stdout",
     "output_type": "stream",
     "text": [
      "Data X memiliki quality: 5\n",
      "Nilai Keakuratan: 0.620408\n",
      "Akurasi : 62.04%\n"
     ]
    }
   ],
   "outputs_reference": "dbtable:cell_outputs/6c70b623-3ffb-4f74-94ef-4430705f16b8",
   "source": [
    "# # Pastikan bahwa df1_train dan df1_test memiliki jumlah fitur yang sama\n",
    "# assert X_train.shape[1] == X_test.shape[1], \"Jumlah fitur pada X_train dan X_test tidak sama.\"\n",
    "\n",
    "# Standardisasi fitur\n",
    "scaler = StandardScaler()\n",
    "X_train = scaler.fit_transform(X_train)\n",
    "X_test = scaler.transform(X_test)\n",
    "\n",
    "# Inisialisasi dan latih model KNN\n",
    "knn = KNeighborsClassifier(n_neighbors=2)\n",
    "knn.fit(X_train, Y_train)\n",
    "\n",
    "# Data Baru yang Akan di Klasifikasikan\n",
    "X_new = [[5.6, 0.5, 0.09, 2.3, 0.049, 17, 99, 0.9937, 3.63, 0.63, 13]]  # Pastikan jumlah fitur sama\n",
    "assert len(X_new[0]) == X_train.shape[1], \"Jumlah fitur pada X_new tidak sesuai dengan X_train.\"\n",
    "\n",
    "X_new = scaler.transform(X_new)  # Jangan lupa untuk menstandarkan data baru\n",
    "\n",
    "result = knn.predict(X_new)\n",
    "print(f'Data X memiliki quality: {result[0]}')\n",
    "\n",
    "# Evaluasi Keakuratan\n",
    "accuracy = knn.score(X_test, Y_test)\n",
    "print(f'Nilai Keakuratan: {accuracy:.6f}')\n",
    "print(f'Akurasi : {accuracy * 100:.2f}%')"
   ]
  },
  {
   "block_group": "ffcc56c41d654c759e9c59f3255537f7",
   "cell_type": "markdown",
   "metadata": {
    "cell_id": "748c2cbca01244ea90b73c78f5004f9e",
    "deepnote_app_block_visible": false,
    "deepnote_cell_type": "text-cell-h2",
    "formattedRanges": [],
    "is_collapsed": false
   },
   "source": [
    "## GAUSSIAN NAIVE BAYES CLASSIFICATION"
   ]
  },
  {
   "block_group": "9b2fe9b7178341c39ebc9dd299f31a78",
   "cell_type": "markdown",
   "metadata": {
    "cell_id": "afdc330459544aa384044e89e817a000",
    "deepnote_cell_type": "text-cell-p",
    "formattedRanges": []
   },
   "source": [
    "Gaussian Naive Bayes adalah jenis metode Naive Bayes yang mempertimbangkan atribut kontinu dan fitur data mengikuti distribusi Gaussian di seluruh kumpulan data. Dalam terminologi perpustakaan Sklearn, Gaussian Naive Bayes adalah jenis algoritma klasifikasi yang bekerja pada fitur terdistribusi normal berkelanjutan yang didasarkan pada algoritma Naive Bayes. "
   ]
  },
  {
   "block_group": "4d8beaa69fab4a4db838373e7ed364c8",
   "cell_type": "markdown",
   "metadata": {
    "cell_id": "aa99c11efd404686bac377bb1d5ca576",
    "deepnote_cell_type": "text-cell-h3",
    "formattedRanges": []
   },
   "source": [
    "### Mengambil Data dari file csv"
   ]
  },
  {
   "block_group": "b8f0347f4cd1410da3aa8ad213c721fe",
   "cell_type": "markdown",
   "metadata": {
    "cell_id": "e36daf0875804791bcbe07b56fcd871d",
    "deepnote_cell_type": "text-cell-p",
    "formattedRanges": []
   },
   "source": [
    "Sebelum memulai menghitung tentunya kita perlu mengambil data yang sudah kita simpan di dalam database sebelumnya."
   ]
  },
  {
   "block_group": "4bba6f2d642640a6948d89e227f3006f",
   "cell_type": "code",
   "content_dependencies": null,
   "execution_count": null,
   "metadata": {
    "cell_id": "d152deda90234de2b78808d8243e9311",
    "deepnote_cell_type": "code",
    "deepnote_to_be_reexecuted": false,
    "execution_millis": 144,
    "execution_start": 1718197906907,
    "source_hash": null
   },
   "outputs": [
    {
     "name": "stdout",
     "output_type": "stream",
     "text": [
      "   Unnamed: 0  id  fixed_acidity  volatile_acidity  citric_acid  \\\n",
      "0           0   1            7.4              0.70         0.00   \n",
      "1           2   3            7.8              0.76         0.04   \n",
      "2           3   4           11.2              0.28         0.56   \n",
      "3           4   5            7.4              0.70         0.00   \n",
      "4           5   6            7.4              0.66         0.00   \n",
      "\n",
      "   residual_sugar  chlorides  free_sulfur_dioxide  total_sulfur_dioxide  \\\n",
      "0             1.9      0.076                   11                    34   \n",
      "1             2.3      0.092                   15                    54   \n",
      "2             1.9      0.075                   17                    60   \n",
      "3             1.9      0.076                   11                    34   \n",
      "4             1.8      0.075                   13                    40   \n",
      "\n",
      "   density    pH  sulphates  alcohol  Outlier  quality  \n",
      "0   0.9978  3.51       0.56      9.4        1        5  \n",
      "1   0.9970  3.26       0.65      9.8        1        5  \n",
      "2   0.9980  3.16       0.58      9.8        1        6  \n",
      "3   0.9978  3.51       0.56      9.4        1        5  \n",
      "4   0.9978  3.51       0.56      9.4        1        5  \n"
     ]
    }
   ],
   "outputs_reference": "s3:deepnote-cell-outputs-production/154136ed-bb9a-465e-8a70-5d364be766ed",
   "source": [
    "import pandas as pd\n",
    "file_path = 'winequality-red.csv'\n",
    "dataframe = pd.read_csv(file_path)\n",
    "\n",
    "print(dataframe.head())"
   ]
  },
  {
   "block_group": "34a20f34a4bb44cf94de475eba501507",
   "cell_type": "markdown",
   "metadata": {
    "cell_id": "f51501da5cb5433b8551311808ea3276",
    "deepnote_app_block_visible": false,
    "deepnote_cell_type": "text-cell-h3",
    "formattedRanges": [],
    "is_collapsed": false
   },
   "source": [
    "### Membagi Data"
   ]
  },
  {
   "block_group": "2c081045015048dbb06c77b44d47c4b6",
   "cell_type": "markdown",
   "metadata": {
    "cell_id": "dfe066bad6124cab8bf116ddfa0cc821",
    "deepnote_cell_type": "text-cell-p",
    "formattedRanges": []
   },
   "source": [
    "Untuk mempermudah perhitungan kita akan membagi data yaang akan kita gunakan menjadi 20% data sebagai data test dan 80% data sebagai data train. Hal ini dilakukan agar saat kita melakukan prediksi terhadap data baru, kita mendapat hasil yang lebih efektif."
   ]
  },
  {
   "block_group": "decd6ace1aeb434bb89ba09aeb98690e",
   "cell_type": "code",
   "content_dependencies": null,
   "execution_count": null,
   "metadata": {
    "cell_id": "bbf5ff08045840cc823cf9318e54dff5",
    "deepnote_cell_type": "code",
    "deepnote_to_be_reexecuted": false,
    "execution_millis": 173,
    "execution_start": 1718197907013,
    "source_hash": null
   },
   "outputs": [],
   "outputs_reference": null,
   "source": [
    "from sklearn.model_selection import train_test_split\n",
    "\n",
    "# Mengakses dataset melalui csv\n",
    "df = pd.read_csv('winequality-red.csv')\n",
    "# Menghapus kolom yang tidak relevan\n",
    "df.drop(\"Unnamed: 0\", axis=1, inplace=True)\n",
    "\n",
    "X = df[['fixed_acidity','volatile_acidity','citric_acid','residual_sugar','chlorides','free_sulfur_dioxide','total_sulfur_dioxide','density','pH','sulphates','alcohol']]\n",
    "y = df['quality']\n",
    "\n",
    "X_train, X_test, Y_train, Y_test = train_test_split(X, y, test_size=0.2)\n",
    "\n",
    "# X_test"
   ]
  },
  {
   "block_group": "c92ac3eb40de42a8ab152ed8b66b24a0",
   "cell_type": "code",
   "content_dependencies": null,
   "execution_count": null,
   "metadata": {
    "cell_id": "7eada3671d6d41e896ee42eb8dc7641e",
    "deepnote_cell_type": "code",
    "deepnote_to_be_reexecuted": false,
    "execution_millis": 306,
    "execution_start": 1718197907058,
    "source_hash": null
   },
   "outputs": [
    {
     "data": {
      "application/vnd.deepnote.dataframe.v3+json": {
       "column_count": 12,
       "columns": [
        {
         "dtype": "float64",
         "name": "fixed_acidity",
         "stats": {
          "histogram": [
           {
            "bin_end": 5.82,
            "bin_start": 4.7,
            "count": 28
           },
           {
            "bin_end": 6.9399999999999995,
            "bin_start": 5.82,
            "count": 108
           },
           {
            "bin_end": 8.059999999999999,
            "bin_start": 6.9399999999999995,
            "count": 320
           },
           {
            "bin_end": 9.18,
            "bin_start": 8.059999999999999,
            "count": 237
           },
           {
            "bin_end": 10.3,
            "bin_start": 9.18,
            "count": 126
           },
           {
            "bin_end": 11.419999999999998,
            "bin_start": 10.3,
            "count": 86
           },
           {
            "bin_end": 12.54,
            "bin_start": 11.419999999999998,
            "count": 49
           },
           {
            "bin_end": 13.66,
            "bin_start": 12.54,
            "count": 19
           },
           {
            "bin_end": 14.779999999999998,
            "bin_start": 13.66,
            "count": 3
           },
           {
            "bin_end": 15.9,
            "bin_start": 14.779999999999998,
            "count": 2
           }
          ],
          "max": "15.9",
          "min": "4.7",
          "nan_count": 0,
          "unique_count": 89
         }
        },
        {
         "dtype": "float64",
         "name": "volatile_acidity",
         "stats": {
          "histogram": [
           {
            "bin_end": 0.266,
            "bin_start": 0.12,
            "count": 39
           },
           {
            "bin_end": 0.412,
            "bin_start": 0.266,
            "count": 263
           },
           {
            "bin_end": 0.5579999999999999,
            "bin_start": 0.412,
            "count": 273
           },
           {
            "bin_end": 0.704,
            "bin_start": 0.5579999999999999,
            "count": 280
           },
           {
            "bin_end": 0.85,
            "bin_start": 0.704,
            "count": 83
           },
           {
            "bin_end": 0.9959999999999999,
            "bin_start": 0.85,
            "count": 24
           },
           {
            "bin_end": 1.142,
            "bin_start": 0.9959999999999999,
            "count": 11
           },
           {
            "bin_end": 1.2879999999999998,
            "bin_start": 1.142,
            "count": 2
           },
           {
            "bin_end": 1.4339999999999997,
            "bin_start": 1.2879999999999998,
            "count": 2
           },
           {
            "bin_end": 1.58,
            "bin_start": 1.4339999999999997,
            "count": 1
           }
          ],
          "max": "1.58",
          "min": "0.12",
          "nan_count": 0,
          "unique_count": 129
         }
        },
        {
         "dtype": "float64",
         "name": "citric_acid",
         "stats": {
          "histogram": [
           {
            "bin_end": 0.079,
            "bin_start": 0,
            "count": 192
           },
           {
            "bin_end": 0.158,
            "bin_start": 0.079,
            "count": 101
           },
           {
            "bin_end": 0.237,
            "bin_start": 0.158,
            "count": 111
           },
           {
            "bin_end": 0.316,
            "bin_start": 0.237,
            "count": 158
           },
           {
            "bin_end": 0.395,
            "bin_start": 0.316,
            "count": 98
           },
           {
            "bin_end": 0.474,
            "bin_start": 0.395,
            "count": 112
           },
           {
            "bin_end": 0.553,
            "bin_start": 0.474,
            "count": 133
           },
           {
            "bin_end": 0.632,
            "bin_start": 0.553,
            "count": 33
           },
           {
            "bin_end": 0.711,
            "bin_start": 0.632,
            "count": 33
           },
           {
            "bin_end": 0.79,
            "bin_start": 0.711,
            "count": 7
           }
          ],
          "max": "0.79",
          "min": "0.0",
          "nan_count": 0,
          "unique_count": 77
         }
        },
        {
         "dtype": "float64",
         "name": "residual_sugar",
         "stats": {
          "histogram": [
           {
            "bin_end": 2.18,
            "bin_start": 1.2,
            "count": 439
           },
           {
            "bin_end": 3.16,
            "bin_start": 2.18,
            "count": 423
           },
           {
            "bin_end": 4.140000000000001,
            "bin_start": 3.16,
            "count": 53
           },
           {
            "bin_end": 5.12,
            "bin_start": 4.140000000000001,
            "count": 19
           },
           {
            "bin_end": 6.1000000000000005,
            "bin_start": 5.12,
            "count": 21
           },
           {
            "bin_end": 7.080000000000001,
            "bin_start": 6.1000000000000005,
            "count": 8
           },
           {
            "bin_end": 8.06,
            "bin_start": 7.080000000000001,
            "count": 6
           },
           {
            "bin_end": 9.040000000000001,
            "bin_start": 8.06,
            "count": 7
           },
           {
            "bin_end": 10.02,
            "bin_start": 9.040000000000001,
            "count": 0
           },
           {
            "bin_end": 11,
            "bin_start": 10.02,
            "count": 2
           }
          ],
          "max": "11.0",
          "min": "1.2",
          "nan_count": 0,
          "unique_count": 72
         }
        },
        {
         "dtype": "float64",
         "name": "chlorides",
         "stats": {
          "histogram": [
           {
            "bin_end": 0.0917,
            "bin_start": 0.034,
            "count": 744
           },
           {
            "bin_end": 0.14939999999999998,
            "bin_start": 0.0917,
            "count": 190
           },
           {
            "bin_end": 0.20709999999999998,
            "bin_start": 0.14939999999999998,
            "count": 16
           },
           {
            "bin_end": 0.2648,
            "bin_start": 0.20709999999999998,
            "count": 10
           },
           {
            "bin_end": 0.3225,
            "bin_start": 0.2648,
            "count": 1
           },
           {
            "bin_end": 0.3802,
            "bin_start": 0.3225,
            "count": 7
           },
           {
            "bin_end": 0.43789999999999996,
            "bin_start": 0.3802,
            "count": 8
           },
           {
            "bin_end": 0.49559999999999993,
            "bin_start": 0.43789999999999996,
            "count": 1
           },
           {
            "bin_end": 0.5533,
            "bin_start": 0.49559999999999993,
            "count": 0
           },
           {
            "bin_end": 0.611,
            "bin_start": 0.5533,
            "count": 1
           }
          ],
          "max": "0.611",
          "min": "0.034",
          "nan_count": 0,
          "unique_count": 133
         }
        },
        {
         "dtype": "int64",
         "name": "free_sulfur_dioxide",
         "stats": {
          "histogram": [
           {
            "bin_end": 7.7,
            "bin_start": 1,
            "count": 277
           },
           {
            "bin_end": 14.4,
            "bin_start": 7.7,
            "count": 265
           },
           {
            "bin_end": 21.1,
            "bin_start": 14.4,
            "count": 219
           },
           {
            "bin_end": 27.8,
            "bin_start": 21.1,
            "count": 103
           },
           {
            "bin_end": 34.5,
            "bin_start": 27.8,
            "count": 78
           },
           {
            "bin_end": 41.2,
            "bin_start": 34.5,
            "count": 26
           },
           {
            "bin_end": 47.9,
            "bin_start": 41.2,
            "count": 6
           },
           {
            "bin_end": 54.6,
            "bin_start": 47.9,
            "count": 3
           },
           {
            "bin_end": 61.300000000000004,
            "bin_start": 54.6,
            "count": 0
           },
           {
            "bin_end": 68,
            "bin_start": 61.300000000000004,
            "count": 1
           }
          ],
          "max": "68",
          "min": "1",
          "nan_count": 0,
          "unique_count": 48
         }
        },
        {
         "dtype": "int64",
         "name": "total_sulfur_dioxide",
         "stats": {
          "histogram": [
           {
            "bin_end": 20.9,
            "bin_start": 6,
            "count": 230
           },
           {
            "bin_end": 35.8,
            "bin_start": 20.9,
            "count": 225
           },
           {
            "bin_end": 50.7,
            "bin_start": 35.8,
            "count": 205
           },
           {
            "bin_end": 65.6,
            "bin_start": 50.7,
            "count": 113
           },
           {
            "bin_end": 80.5,
            "bin_start": 65.6,
            "count": 70
           },
           {
            "bin_end": 95.4,
            "bin_start": 80.5,
            "count": 58
           },
           {
            "bin_end": 110.3,
            "bin_start": 95.4,
            "count": 31
           },
           {
            "bin_end": 125.2,
            "bin_start": 110.3,
            "count": 20
           },
           {
            "bin_end": 140.1,
            "bin_start": 125.2,
            "count": 13
           },
           {
            "bin_end": 155,
            "bin_start": 140.1,
            "count": 13
           }
          ],
          "max": "155",
          "min": "6",
          "nan_count": 0,
          "unique_count": 131
         }
        },
        {
         "dtype": "float64",
         "name": "density",
         "stats": {
          "histogram": [
           {
            "bin_end": 10.89268,
            "bin_start": 0.9902,
            "count": 975
           },
           {
            "bin_end": 20.795160000000003,
            "bin_start": 10.89268,
            "count": 0
           },
           {
            "bin_end": 30.697640000000003,
            "bin_start": 20.795160000000003,
            "count": 0
           },
           {
            "bin_end": 40.600120000000004,
            "bin_start": 30.697640000000003,
            "count": 0
           },
           {
            "bin_end": 50.5026,
            "bin_start": 40.600120000000004,
            "count": 0
           },
           {
            "bin_end": 60.405080000000005,
            "bin_start": 50.5026,
            "count": 0
           },
           {
            "bin_end": 70.30756000000001,
            "bin_start": 60.405080000000005,
            "count": 0
           },
           {
            "bin_end": 80.21004,
            "bin_start": 70.30756000000001,
            "count": 0
           },
           {
            "bin_end": 90.11252,
            "bin_start": 80.21004,
            "count": 0
           },
           {
            "bin_end": 100.015,
            "bin_start": 90.11252,
            "count": 3
           }
          ],
          "max": "100.015",
          "min": "0.9902",
          "nan_count": 0,
          "unique_count": 311
         }
        },
        {
         "dtype": "float64",
         "name": "pH",
         "stats": {
          "histogram": [
           {
            "bin_end": 2.984,
            "bin_start": 2.87,
            "count": 13
           },
           {
            "bin_end": 3.098,
            "bin_start": 2.984,
            "count": 59
           },
           {
            "bin_end": 3.2119999999999997,
            "bin_start": 3.098,
            "count": 202
           },
           {
            "bin_end": 3.326,
            "bin_start": 3.2119999999999997,
            "count": 275
           },
           {
            "bin_end": 3.44,
            "bin_start": 3.326,
            "count": 255
           },
           {
            "bin_end": 3.554,
            "bin_start": 3.44,
            "count": 121
           },
           {
            "bin_end": 3.6679999999999997,
            "bin_start": 3.554,
            "count": 37
           },
           {
            "bin_end": 3.782,
            "bin_start": 3.6679999999999997,
            "count": 13
           },
           {
            "bin_end": 3.896,
            "bin_start": 3.782,
            "count": 1
           },
           {
            "bin_end": 4.01,
            "bin_start": 3.896,
            "count": 2
           }
          ],
          "max": "4.01",
          "min": "2.87",
          "nan_count": 0,
          "unique_count": 83
         }
        },
        {
         "dtype": "float64",
         "name": "sulphates",
         "stats": {
          "histogram": [
           {
            "bin_end": 0.495,
            "bin_start": 0.33,
            "count": 90
           },
           {
            "bin_end": 0.6599999999999999,
            "bin_start": 0.495,
            "count": 502
           },
           {
            "bin_end": 0.825,
            "bin_start": 0.6599999999999999,
            "count": 255
           },
           {
            "bin_end": 0.99,
            "bin_start": 0.825,
            "count": 84
           },
           {
            "bin_end": 1.155,
            "bin_start": 0.99,
            "count": 28
           },
           {
            "bin_end": 1.3199999999999998,
            "bin_start": 1.155,
            "count": 8
           },
           {
            "bin_end": 1.4849999999999999,
            "bin_start": 1.3199999999999998,
            "count": 5
           },
           {
            "bin_end": 1.65,
            "bin_start": 1.4849999999999999,
            "count": 3
           },
           {
            "bin_end": 1.815,
            "bin_start": 1.65,
            "count": 0
           },
           {
            "bin_end": 1.98,
            "bin_start": 1.815,
            "count": 3
           }
          ],
          "max": "1.98",
          "min": "0.33",
          "nan_count": 0,
          "unique_count": 91
         }
        },
        {
         "dtype": "float64",
         "name": "alcohol",
         "stats": {
          "histogram": [
           {
            "bin_end": 9.32,
            "bin_start": 8.7,
            "count": 131
           },
           {
            "bin_end": 9.94,
            "bin_start": 9.32,
            "count": 316
           },
           {
            "bin_end": 10.559999999999999,
            "bin_start": 9.94,
            "count": 179
           },
           {
            "bin_end": 11.18,
            "bin_start": 10.559999999999999,
            "count": 123
           },
           {
            "bin_end": 11.8,
            "bin_start": 11.18,
            "count": 92
           },
           {
            "bin_end": 12.42,
            "bin_start": 11.8,
            "count": 83
           },
           {
            "bin_end": 13.04,
            "bin_start": 12.42,
            "count": 42
           },
           {
            "bin_end": 13.66,
            "bin_start": 13.04,
            "count": 7
           },
           {
            "bin_end": 14.280000000000001,
            "bin_start": 13.66,
            "count": 4
           },
           {
            "bin_end": 14.9,
            "bin_start": 14.280000000000001,
            "count": 1
           }
          ],
          "max": "14.9",
          "min": "8.7",
          "nan_count": 0,
          "unique_count": 50
         }
        },
        {
         "dtype": "int64",
         "name": "quality",
         "stats": {
          "histogram": [
           {
            "bin_end": 3.5,
            "bin_start": 3,
            "count": 3
           },
           {
            "bin_end": 4,
            "bin_start": 3.5,
            "count": 0
           },
           {
            "bin_end": 4.5,
            "bin_start": 4,
            "count": 33
           },
           {
            "bin_end": 5,
            "bin_start": 4.5,
            "count": 0
           },
           {
            "bin_end": 5.5,
            "bin_start": 5,
            "count": 411
           },
           {
            "bin_end": 6,
            "bin_start": 5.5,
            "count": 0
           },
           {
            "bin_end": 6.5,
            "bin_start": 6,
            "count": 400
           },
           {
            "bin_end": 7,
            "bin_start": 6.5,
            "count": 0
           },
           {
            "bin_end": 7.5,
            "bin_start": 7,
            "count": 122
           },
           {
            "bin_end": 8,
            "bin_start": 7.5,
            "count": 9
           }
          ],
          "max": "8",
          "min": "3",
          "nan_count": 0,
          "unique_count": 6
         }
        },
        {
         "dtype": "int64",
         "name": "_deepnote_index_column"
        }
       ],
       "row_count": 978,
       "rows": [
        {
         "_deepnote_index_column": 1165,
         "alcohol": 13,
         "chlorides": 0.056,
         "citric_acid": 0.08,
         "density": 0.99286,
         "fixed_acidity": 8,
         "free_sulfur_dioxide": 3,
         "pH": 3.22,
         "quality": 5,
         "residual_sugar": 2.6,
         "sulphates": 0.37,
         "total_sulfur_dioxide": 7,
         "volatile_acidity": 0.6
        },
        {
         "_deepnote_index_column": 775,
         "alcohol": 9.8,
         "chlorides": 0.081,
         "citric_acid": 0.21,
         "density": 0.99689,
         "fixed_acidity": 6.4,
         "free_sulfur_dioxide": 14,
         "pH": 3.59,
         "quality": 5,
         "residual_sugar": 1.8,
         "sulphates": 0.66,
         "total_sulfur_dioxide": 31,
         "volatile_acidity": 0.64
        },
        {
         "_deepnote_index_column": 667,
         "alcohol": 9.2,
         "chlorides": 0.094,
         "citric_acid": 0.24,
         "density": 0.9982,
         "fixed_acidity": 8.9,
         "free_sulfur_dioxide": 35,
         "pH": 3.1,
         "quality": 5,
         "residual_sugar": 2.85,
         "sulphates": 0.53,
         "total_sulfur_dioxide": 106,
         "volatile_acidity": 0.48
        },
        {
         "_deepnote_index_column": 879,
         "alcohol": 10.9,
         "chlorides": 0.066,
         "citric_acid": 0.48,
         "density": 0.99724,
         "fixed_acidity": 10.4,
         "free_sulfur_dioxide": 6,
         "pH": 3.33,
         "quality": 6,
         "residual_sugar": 1.9,
         "sulphates": 0.87,
         "total_sulfur_dioxide": 10,
         "volatile_acidity": 0.26
        },
        {
         "_deepnote_index_column": 333,
         "alcohol": 10.4,
         "chlorides": 0.109,
         "citric_acid": 0.66,
         "density": 1,
         "fixed_acidity": 11.9,
         "free_sulfur_dioxide": 10,
         "pH": 3.15,
         "quality": 7,
         "residual_sugar": 3.1,
         "sulphates": 0.85,
         "total_sulfur_dioxide": 23,
         "volatile_acidity": 0.43
        },
        {
         "_deepnote_index_column": 998,
         "alcohol": 12.4,
         "chlorides": 0.073,
         "citric_acid": 0.34,
         "density": 0.9936,
         "fixed_acidity": 8,
         "free_sulfur_dioxide": 16,
         "pH": 3.28,
         "quality": 6,
         "residual_sugar": 2.2,
         "sulphates": 0.66,
         "total_sulfur_dioxide": 25,
         "volatile_acidity": 0.48
        },
        {
         "_deepnote_index_column": 98,
         "alcohol": 9.3,
         "chlorides": 0.088,
         "citric_acid": 0.31,
         "density": 0.9969,
         "fixed_acidity": 6.2,
         "free_sulfur_dioxide": 15,
         "pH": 3.46,
         "quality": 5,
         "residual_sugar": 1.7,
         "sulphates": 0.79,
         "total_sulfur_dioxide": 64,
         "volatile_acidity": 0.63
        },
        {
         "_deepnote_index_column": 283,
         "alcohol": 9.3,
         "chlorides": 0.063,
         "citric_acid": 0.48,
         "density": 0.9998,
         "fixed_acidity": 10.3,
         "free_sulfur_dioxide": 6,
         "pH": 3.12,
         "quality": 6,
         "residual_sugar": 2.5,
         "sulphates": 0.59,
         "total_sulfur_dioxide": 25,
         "volatile_acidity": 0.53
        },
        {
         "_deepnote_index_column": 293,
         "alcohol": 10.4,
         "chlorides": 0.082,
         "citric_acid": 0.12,
         "density": 0.99865,
         "fixed_acidity": 9.6,
         "free_sulfur_dioxide": 30,
         "pH": 3.3,
         "quality": 6,
         "residual_sugar": 2.9,
         "sulphates": 0.64,
         "total_sulfur_dioxide": 74,
         "volatile_acidity": 0.77
        },
        {
         "_deepnote_index_column": 267,
         "alcohol": 10.3,
         "chlorides": 0.092,
         "citric_acid": 0.12,
         "density": 0.9967,
         "fixed_acidity": 7.5,
         "free_sulfur_dioxide": 29,
         "pH": 3.37,
         "quality": 6,
         "residual_sugar": 3,
         "sulphates": 0.7,
         "total_sulfur_dioxide": 53,
         "volatile_acidity": 0.4
        }
       ]
      },
      "text/html": [
       "<div>\n",
       "<style scoped>\n",
       "    .dataframe tbody tr th:only-of-type {\n",
       "        vertical-align: middle;\n",
       "    }\n",
       "\n",
       "    .dataframe tbody tr th {\n",
       "        vertical-align: top;\n",
       "    }\n",
       "\n",
       "    .dataframe thead th {\n",
       "        text-align: right;\n",
       "    }\n",
       "</style>\n",
       "<table border=\"1\" class=\"dataframe\">\n",
       "  <thead>\n",
       "    <tr style=\"text-align: right;\">\n",
       "      <th></th>\n",
       "      <th>fixed_acidity</th>\n",
       "      <th>volatile_acidity</th>\n",
       "      <th>citric_acid</th>\n",
       "      <th>residual_sugar</th>\n",
       "      <th>chlorides</th>\n",
       "      <th>free_sulfur_dioxide</th>\n",
       "      <th>total_sulfur_dioxide</th>\n",
       "      <th>density</th>\n",
       "      <th>pH</th>\n",
       "      <th>sulphates</th>\n",
       "      <th>alcohol</th>\n",
       "      <th>quality</th>\n",
       "    </tr>\n",
       "  </thead>\n",
       "  <tbody>\n",
       "    <tr>\n",
       "      <th>1165</th>\n",
       "      <td>8.0</td>\n",
       "      <td>0.60</td>\n",
       "      <td>0.08</td>\n",
       "      <td>2.60</td>\n",
       "      <td>0.056</td>\n",
       "      <td>3</td>\n",
       "      <td>7</td>\n",
       "      <td>0.99286</td>\n",
       "      <td>3.22</td>\n",
       "      <td>0.37</td>\n",
       "      <td>13.0</td>\n",
       "      <td>5</td>\n",
       "    </tr>\n",
       "    <tr>\n",
       "      <th>775</th>\n",
       "      <td>6.4</td>\n",
       "      <td>0.64</td>\n",
       "      <td>0.21</td>\n",
       "      <td>1.80</td>\n",
       "      <td>0.081</td>\n",
       "      <td>14</td>\n",
       "      <td>31</td>\n",
       "      <td>0.99689</td>\n",
       "      <td>3.59</td>\n",
       "      <td>0.66</td>\n",
       "      <td>9.8</td>\n",
       "      <td>5</td>\n",
       "    </tr>\n",
       "    <tr>\n",
       "      <th>667</th>\n",
       "      <td>8.9</td>\n",
       "      <td>0.48</td>\n",
       "      <td>0.24</td>\n",
       "      <td>2.85</td>\n",
       "      <td>0.094</td>\n",
       "      <td>35</td>\n",
       "      <td>106</td>\n",
       "      <td>0.99820</td>\n",
       "      <td>3.10</td>\n",
       "      <td>0.53</td>\n",
       "      <td>9.2</td>\n",
       "      <td>5</td>\n",
       "    </tr>\n",
       "    <tr>\n",
       "      <th>879</th>\n",
       "      <td>10.4</td>\n",
       "      <td>0.26</td>\n",
       "      <td>0.48</td>\n",
       "      <td>1.90</td>\n",
       "      <td>0.066</td>\n",
       "      <td>6</td>\n",
       "      <td>10</td>\n",
       "      <td>0.99724</td>\n",
       "      <td>3.33</td>\n",
       "      <td>0.87</td>\n",
       "      <td>10.9</td>\n",
       "      <td>6</td>\n",
       "    </tr>\n",
       "    <tr>\n",
       "      <th>333</th>\n",
       "      <td>11.9</td>\n",
       "      <td>0.43</td>\n",
       "      <td>0.66</td>\n",
       "      <td>3.10</td>\n",
       "      <td>0.109</td>\n",
       "      <td>10</td>\n",
       "      <td>23</td>\n",
       "      <td>1.00000</td>\n",
       "      <td>3.15</td>\n",
       "      <td>0.85</td>\n",
       "      <td>10.4</td>\n",
       "      <td>7</td>\n",
       "    </tr>\n",
       "    <tr>\n",
       "      <th>...</th>\n",
       "      <td>...</td>\n",
       "      <td>...</td>\n",
       "      <td>...</td>\n",
       "      <td>...</td>\n",
       "      <td>...</td>\n",
       "      <td>...</td>\n",
       "      <td>...</td>\n",
       "      <td>...</td>\n",
       "      <td>...</td>\n",
       "      <td>...</td>\n",
       "      <td>...</td>\n",
       "      <td>...</td>\n",
       "    </tr>\n",
       "    <tr>\n",
       "      <th>272</th>\n",
       "      <td>6.9</td>\n",
       "      <td>0.36</td>\n",
       "      <td>0.25</td>\n",
       "      <td>2.40</td>\n",
       "      <td>0.098</td>\n",
       "      <td>5</td>\n",
       "      <td>16</td>\n",
       "      <td>0.99640</td>\n",
       "      <td>3.41</td>\n",
       "      <td>0.60</td>\n",
       "      <td>10.1</td>\n",
       "      <td>6</td>\n",
       "    </tr>\n",
       "    <tr>\n",
       "      <th>1069</th>\n",
       "      <td>8.2</td>\n",
       "      <td>0.35</td>\n",
       "      <td>0.33</td>\n",
       "      <td>2.40</td>\n",
       "      <td>0.076</td>\n",
       "      <td>11</td>\n",
       "      <td>47</td>\n",
       "      <td>0.99599</td>\n",
       "      <td>3.27</td>\n",
       "      <td>0.81</td>\n",
       "      <td>11.0</td>\n",
       "      <td>6</td>\n",
       "    </tr>\n",
       "    <tr>\n",
       "      <th>1214</th>\n",
       "      <td>11.5</td>\n",
       "      <td>0.42</td>\n",
       "      <td>0.48</td>\n",
       "      <td>2.60</td>\n",
       "      <td>0.077</td>\n",
       "      <td>8</td>\n",
       "      <td>20</td>\n",
       "      <td>0.99852</td>\n",
       "      <td>3.09</td>\n",
       "      <td>0.53</td>\n",
       "      <td>11.0</td>\n",
       "      <td>5</td>\n",
       "    </tr>\n",
       "    <tr>\n",
       "      <th>86</th>\n",
       "      <td>7.7</td>\n",
       "      <td>0.49</td>\n",
       "      <td>0.26</td>\n",
       "      <td>1.90</td>\n",
       "      <td>0.062</td>\n",
       "      <td>9</td>\n",
       "      <td>31</td>\n",
       "      <td>0.99660</td>\n",
       "      <td>3.39</td>\n",
       "      <td>0.64</td>\n",
       "      <td>9.6</td>\n",
       "      <td>5</td>\n",
       "    </tr>\n",
       "    <tr>\n",
       "      <th>1087</th>\n",
       "      <td>7.7</td>\n",
       "      <td>0.57</td>\n",
       "      <td>0.21</td>\n",
       "      <td>1.50</td>\n",
       "      <td>0.069</td>\n",
       "      <td>4</td>\n",
       "      <td>9</td>\n",
       "      <td>0.99458</td>\n",
       "      <td>3.16</td>\n",
       "      <td>0.54</td>\n",
       "      <td>9.8</td>\n",
       "      <td>6</td>\n",
       "    </tr>\n",
       "  </tbody>\n",
       "</table>\n",
       "<p>978 rows × 12 columns</p>\n",
       "</div>"
      ],
      "text/plain": [
       "      fixed_acidity  volatile_acidity  citric_acid  residual_sugar  chlorides  \\\n",
       "1165            8.0              0.60         0.08            2.60      0.056   \n",
       "775             6.4              0.64         0.21            1.80      0.081   \n",
       "667             8.9              0.48         0.24            2.85      0.094   \n",
       "879            10.4              0.26         0.48            1.90      0.066   \n",
       "333            11.9              0.43         0.66            3.10      0.109   \n",
       "...             ...               ...          ...             ...        ...   \n",
       "272             6.9              0.36         0.25            2.40      0.098   \n",
       "1069            8.2              0.35         0.33            2.40      0.076   \n",
       "1214           11.5              0.42         0.48            2.60      0.077   \n",
       "86              7.7              0.49         0.26            1.90      0.062   \n",
       "1087            7.7              0.57         0.21            1.50      0.069   \n",
       "\n",
       "      free_sulfur_dioxide  total_sulfur_dioxide  density    pH  sulphates  \\\n",
       "1165                    3                     7  0.99286  3.22       0.37   \n",
       "775                    14                    31  0.99689  3.59       0.66   \n",
       "667                    35                   106  0.99820  3.10       0.53   \n",
       "879                     6                    10  0.99724  3.33       0.87   \n",
       "333                    10                    23  1.00000  3.15       0.85   \n",
       "...                   ...                   ...      ...   ...        ...   \n",
       "272                     5                    16  0.99640  3.41       0.60   \n",
       "1069                   11                    47  0.99599  3.27       0.81   \n",
       "1214                    8                    20  0.99852  3.09       0.53   \n",
       "86                      9                    31  0.99660  3.39       0.64   \n",
       "1087                    4                     9  0.99458  3.16       0.54   \n",
       "\n",
       "      alcohol  quality  \n",
       "1165     13.0        5  \n",
       "775       9.8        5  \n",
       "667       9.2        5  \n",
       "879      10.9        6  \n",
       "333      10.4        7  \n",
       "...       ...      ...  \n",
       "272      10.1        6  \n",
       "1069     11.0        6  \n",
       "1214     11.0        5  \n",
       "86        9.6        5  \n",
       "1087      9.8        6  \n",
       "\n",
       "[978 rows x 12 columns]"
      ]
     },
     "execution_count": 16,
     "metadata": {},
     "output_type": "execute_result"
    }
   ],
   "outputs_reference": "s3:deepnote-cell-outputs-production/d1f0d7e0-d006-4345-9a88-8a620cceadf9",
   "source": [
    "df1 = X_train\n",
    "df2 = Y_train\n",
    "\n",
    "df_train = pd.concat([df1,df2], axis=1, join='inner')\n",
    "\n",
    "df_train"
   ]
  },
  {
   "block_group": "2aca934f6bec40c7aca639b856da4767",
   "cell_type": "code",
   "content_dependencies": null,
   "execution_count": null,
   "metadata": {
    "cell_id": "2282f250d6b14675b92af05da02d49f1",
    "deepnote_cell_type": "code",
    "deepnote_to_be_reexecuted": false,
    "execution_millis": 303,
    "execution_start": 1718197907062,
    "source_hash": null
   },
   "outputs": [
    {
     "data": {
      "application/vnd.deepnote.dataframe.v3+json": {
       "column_count": 12,
       "columns": [
        {
         "dtype": "float64",
         "name": "fixed_acidity",
         "stats": {
          "histogram": [
           {
            "bin_end": 5.91,
            "bin_start": 4.9,
            "count": 8
           },
           {
            "bin_end": 6.92,
            "bin_start": 5.91,
            "count": 29
           },
           {
            "bin_end": 7.930000000000001,
            "bin_start": 6.92,
            "count": 80
           },
           {
            "bin_end": 8.940000000000001,
            "bin_start": 7.930000000000001,
            "count": 46
           },
           {
            "bin_end": 9.95,
            "bin_start": 8.940000000000001,
            "count": 36
           },
           {
            "bin_end": 10.96,
            "bin_start": 9.95,
            "count": 22
           },
           {
            "bin_end": 11.97,
            "bin_start": 10.96,
            "count": 13
           },
           {
            "bin_end": 12.98,
            "bin_start": 11.97,
            "count": 8
           },
           {
            "bin_end": 13.99,
            "bin_start": 12.98,
            "count": 2
           },
           {
            "bin_end": 15,
            "bin_start": 13.99,
            "count": 1
           }
          ],
          "max": "15.0",
          "min": "4.9",
          "nan_count": 0,
          "unique_count": 70
         }
        },
        {
         "dtype": "float64",
         "name": "volatile_acidity",
         "stats": {
          "histogram": [
           {
            "bin_end": 0.22649999999999998,
            "bin_start": 0.12,
            "count": 5
           },
           {
            "bin_end": 0.33299999999999996,
            "bin_start": 0.22649999999999998,
            "count": 33
           },
           {
            "bin_end": 0.4395,
            "bin_start": 0.33299999999999996,
            "count": 45
           },
           {
            "bin_end": 0.546,
            "bin_start": 0.4395,
            "count": 52
           },
           {
            "bin_end": 0.6525,
            "bin_start": 0.546,
            "count": 55
           },
           {
            "bin_end": 0.759,
            "bin_start": 0.6525,
            "count": 33
           },
           {
            "bin_end": 0.8654999999999999,
            "bin_start": 0.759,
            "count": 11
           },
           {
            "bin_end": 0.972,
            "bin_start": 0.8654999999999999,
            "count": 7
           },
           {
            "bin_end": 1.0785,
            "bin_start": 0.972,
            "count": 2
           },
           {
            "bin_end": 1.185,
            "bin_start": 1.0785,
            "count": 2
           }
          ],
          "max": "1.185",
          "min": "0.12",
          "nan_count": 0,
          "unique_count": 86
         }
        },
        {
         "dtype": "float64",
         "name": "citric_acid",
         "stats": {
          "histogram": [
           {
            "bin_end": 0.1,
            "bin_start": 0,
            "count": 66
           },
           {
            "bin_end": 0.2,
            "bin_start": 0.1,
            "count": 27
           },
           {
            "bin_end": 0.30000000000000004,
            "bin_start": 0.2,
            "count": 45
           },
           {
            "bin_end": 0.4,
            "bin_start": 0.30000000000000004,
            "count": 33
           },
           {
            "bin_end": 0.5,
            "bin_start": 0.4,
            "count": 40
           },
           {
            "bin_end": 0.6000000000000001,
            "bin_start": 0.5,
            "count": 17
           },
           {
            "bin_end": 0.7000000000000001,
            "bin_start": 0.6000000000000001,
            "count": 12
           },
           {
            "bin_end": 0.8,
            "bin_start": 0.7000000000000001,
            "count": 4
           },
           {
            "bin_end": 0.9,
            "bin_start": 0.8,
            "count": 0
           },
           {
            "bin_end": 1,
            "bin_start": 0.9,
            "count": 1
           }
          ],
          "max": "1.0",
          "min": "0.0",
          "nan_count": 0,
          "unique_count": 69
         }
        },
        {
         "dtype": "float64",
         "name": "residual_sugar",
         "stats": {
          "histogram": [
           {
            "bin_end": 2.18,
            "bin_start": 1.2,
            "count": 119
           },
           {
            "bin_end": 3.16,
            "bin_start": 2.18,
            "count": 93
           },
           {
            "bin_end": 4.140000000000001,
            "bin_start": 3.16,
            "count": 17
           },
           {
            "bin_end": 5.12,
            "bin_start": 4.140000000000001,
            "count": 3
           },
           {
            "bin_end": 6.1000000000000005,
            "bin_start": 5.12,
            "count": 6
           },
           {
            "bin_end": 7.080000000000001,
            "bin_start": 6.1000000000000005,
            "count": 4
           },
           {
            "bin_end": 8.06,
            "bin_start": 7.080000000000001,
            "count": 1
           },
           {
            "bin_end": 9.040000000000001,
            "bin_start": 8.06,
            "count": 1
           },
           {
            "bin_end": 10.02,
            "bin_start": 9.040000000000001,
            "count": 0
           },
           {
            "bin_end": 11,
            "bin_start": 10.02,
            "count": 1
           }
          ],
          "max": "11.0",
          "min": "1.2",
          "nan_count": 0,
          "unique_count": 42
         }
        },
        {
         "dtype": "float64",
         "name": "chlorides",
         "stats": {
          "histogram": [
           {
            "bin_end": 0.09609999999999999,
            "bin_start": 0.039,
            "count": 203
           },
           {
            "bin_end": 0.1532,
            "bin_start": 0.09609999999999999,
            "count": 33
           },
           {
            "bin_end": 0.21030000000000001,
            "bin_start": 0.1532,
            "count": 5
           },
           {
            "bin_end": 0.26739999999999997,
            "bin_start": 0.21030000000000001,
            "count": 1
           },
           {
            "bin_end": 0.32449999999999996,
            "bin_start": 0.26739999999999997,
            "count": 0
           },
           {
            "bin_end": 0.3816,
            "bin_start": 0.32449999999999996,
            "count": 1
           },
           {
            "bin_end": 0.4387,
            "bin_start": 0.3816,
            "count": 0
           },
           {
            "bin_end": 0.49579999999999996,
            "bin_start": 0.4387,
            "count": 1
           },
           {
            "bin_end": 0.5529000000000001,
            "bin_start": 0.49579999999999996,
            "count": 0
           },
           {
            "bin_end": 0.61,
            "bin_start": 0.5529000000000001,
            "count": 1
           }
          ],
          "max": "0.61",
          "min": "0.039",
          "nan_count": 0,
          "unique_count": 78
         }
        },
        {
         "dtype": "int64",
         "name": "free_sulfur_dioxide",
         "stats": {
          "histogram": [
           {
            "bin_end": 9.5,
            "bin_start": 3,
            "count": 75
           },
           {
            "bin_end": 16,
            "bin_start": 9.5,
            "count": 72
           },
           {
            "bin_end": 22.5,
            "bin_start": 16,
            "count": 47
           },
           {
            "bin_end": 29,
            "bin_start": 22.5,
            "count": 24
           },
           {
            "bin_end": 35.5,
            "bin_start": 29,
            "count": 15
           },
           {
            "bin_end": 42,
            "bin_start": 35.5,
            "count": 7
           },
           {
            "bin_end": 48.5,
            "bin_start": 42,
            "count": 2
           },
           {
            "bin_end": 55,
            "bin_start": 48.5,
            "count": 2
           },
           {
            "bin_end": 61.5,
            "bin_start": 55,
            "count": 0
           },
           {
            "bin_end": 68,
            "bin_start": 61.5,
            "count": 1
           }
          ],
          "max": "68",
          "min": "3",
          "nan_count": 0,
          "unique_count": 42
         }
        },
        {
         "dtype": "int64",
         "name": "total_sulfur_dioxide",
         "stats": {
          "histogram": [
           {
            "bin_end": 20.6,
            "bin_start": 7,
            "count": 54
           },
           {
            "bin_end": 34.2,
            "bin_start": 20.6,
            "count": 62
           },
           {
            "bin_end": 47.8,
            "bin_start": 34.2,
            "count": 39
           },
           {
            "bin_end": 61.4,
            "bin_start": 47.8,
            "count": 27
           },
           {
            "bin_end": 75,
            "bin_start": 61.4,
            "count": 28
           },
           {
            "bin_end": 88.6,
            "bin_start": 75,
            "count": 11
           },
           {
            "bin_end": 102.2,
            "bin_start": 88.6,
            "count": 13
           },
           {
            "bin_end": 115.8,
            "bin_start": 102.2,
            "count": 1
           },
           {
            "bin_end": 129.39999999999998,
            "bin_start": 115.8,
            "count": 9
           },
           {
            "bin_end": 143,
            "bin_start": 129.39999999999998,
            "count": 1
           }
          ],
          "max": "143",
          "min": "7",
          "nan_count": 0,
          "unique_count": 86
         }
        },
        {
         "dtype": "float64",
         "name": "density",
         "stats": {
          "histogram": [
           {
            "bin_end": 10.894886000000001,
            "bin_start": 0.99154,
            "count": 243
           },
           {
            "bin_end": 20.798232000000002,
            "bin_start": 10.894886000000001,
            "count": 0
           },
           {
            "bin_end": 30.701578000000005,
            "bin_start": 20.798232000000002,
            "count": 0
           },
           {
            "bin_end": 40.604924000000004,
            "bin_start": 30.701578000000005,
            "count": 0
           },
           {
            "bin_end": 50.50827,
            "bin_start": 40.604924000000004,
            "count": 0
           },
           {
            "bin_end": 60.41161600000001,
            "bin_start": 50.50827,
            "count": 0
           },
           {
            "bin_end": 70.31496200000001,
            "bin_start": 60.41161600000001,
            "count": 0
           },
           {
            "bin_end": 80.21830800000001,
            "bin_start": 70.31496200000001,
            "count": 0
           },
           {
            "bin_end": 90.121654,
            "bin_start": 80.21830800000001,
            "count": 0
           },
           {
            "bin_end": 100.025,
            "bin_start": 90.121654,
            "count": 2
           }
          ],
          "max": "100.025",
          "min": "0.99154",
          "nan_count": 0,
          "unique_count": 143
         }
        },
        {
         "dtype": "float64",
         "name": "pH",
         "stats": {
          "histogram": [
           {
            "bin_end": 2.867,
            "bin_start": 2.74,
            "count": 1
           },
           {
            "bin_end": 2.994,
            "bin_start": 2.867,
            "count": 5
           },
           {
            "bin_end": 3.121,
            "bin_start": 2.994,
            "count": 26
           },
           {
            "bin_end": 3.248,
            "bin_start": 3.121,
            "count": 54
           },
           {
            "bin_end": 3.375,
            "bin_start": 3.248,
            "count": 90
           },
           {
            "bin_end": 3.502,
            "bin_start": 3.375,
            "count": 39
           },
           {
            "bin_end": 3.6289999999999996,
            "bin_start": 3.502,
            "count": 20
           },
           {
            "bin_end": 3.756,
            "bin_start": 3.6289999999999996,
            "count": 9
           },
           {
            "bin_end": 3.883,
            "bin_start": 3.756,
            "count": 0
           },
           {
            "bin_end": 4.01,
            "bin_start": 3.883,
            "count": 1
           }
          ],
          "max": "4.01",
          "min": "2.74",
          "nan_count": 0,
          "unique_count": 67
         }
        },
        {
         "dtype": "float64",
         "name": "sulphates",
         "stats": {
          "histogram": [
           {
            "bin_end": 0.5509999999999999,
            "bin_start": 0.39,
            "count": 60
           },
           {
            "bin_end": 0.712,
            "bin_start": 0.5509999999999999,
            "count": 107
           },
           {
            "bin_end": 0.873,
            "bin_start": 0.712,
            "count": 64
           },
           {
            "bin_end": 1.0339999999999998,
            "bin_start": 0.873,
            "count": 10
           },
           {
            "bin_end": 1.1949999999999998,
            "bin_start": 1.0339999999999998,
            "count": 0
           },
           {
            "bin_end": 1.3559999999999999,
            "bin_start": 1.1949999999999998,
            "count": 2
           },
           {
            "bin_end": 1.517,
            "bin_start": 1.3559999999999999,
            "count": 0
           },
           {
            "bin_end": 1.678,
            "bin_start": 1.517,
            "count": 1
           },
           {
            "bin_end": 1.839,
            "bin_start": 1.678,
            "count": 0
           },
           {
            "bin_end": 2,
            "bin_start": 1.839,
            "count": 1
           }
          ],
          "max": "2.0",
          "min": "0.39",
          "nan_count": 0,
          "unique_count": 59
         }
        },
        {
         "dtype": "float64",
         "name": "alcohol",
         "stats": {
          "histogram": [
           {
            "bin_end": 8.96,
            "bin_start": 8.4,
            "count": 2
           },
           {
            "bin_end": 9.52,
            "bin_start": 8.96,
            "count": 66
           },
           {
            "bin_end": 10.08,
            "bin_start": 9.52,
            "count": 46
           },
           {
            "bin_end": 10.64,
            "bin_start": 10.08,
            "count": 35
           },
           {
            "bin_end": 11.2,
            "bin_start": 10.64,
            "count": 36
           },
           {
            "bin_end": 11.76,
            "bin_start": 11.2,
            "count": 29
           },
           {
            "bin_end": 12.32,
            "bin_start": 11.76,
            "count": 12
           },
           {
            "bin_end": 12.879999999999999,
            "bin_start": 12.32,
            "count": 12
           },
           {
            "bin_end": 13.44,
            "bin_start": 12.879999999999999,
            "count": 5
           },
           {
            "bin_end": 14,
            "bin_start": 13.44,
            "count": 2
           }
          ],
          "max": "14.0",
          "min": "8.4",
          "nan_count": 0,
          "unique_count": 44
         }
        },
        {
         "dtype": "int64",
         "name": "quality",
         "stats": {
          "histogram": [
           {
            "bin_end": 3.5,
            "bin_start": 3,
            "count": 3
           },
           {
            "bin_end": 4,
            "bin_start": 3.5,
            "count": 0
           },
           {
            "bin_end": 4.5,
            "bin_start": 4,
            "count": 5
           },
           {
            "bin_end": 5,
            "bin_start": 4.5,
            "count": 0
           },
           {
            "bin_end": 5.5,
            "bin_start": 5,
            "count": 95
           },
           {
            "bin_end": 6,
            "bin_start": 5.5,
            "count": 0
           },
           {
            "bin_end": 6.5,
            "bin_start": 6,
            "count": 101
           },
           {
            "bin_end": 7,
            "bin_start": 6.5,
            "count": 0
           },
           {
            "bin_end": 7.5,
            "bin_start": 7,
            "count": 37
           },
           {
            "bin_end": 8,
            "bin_start": 7.5,
            "count": 4
           }
          ],
          "max": "8",
          "min": "3",
          "nan_count": 0,
          "unique_count": 6
         }
        },
        {
         "dtype": "int64",
         "name": "_deepnote_index_column"
        }
       ],
       "row_count": 245,
       "rows": [
        {
         "_deepnote_index_column": 174,
         "alcohol": 9.5,
         "chlorides": 0.084,
         "citric_acid": 0.33,
         "density": 0.9968,
         "fixed_acidity": 7.9,
         "free_sulfur_dioxide": 15,
         "pH": 3.2,
         "quality": 5,
         "residual_sugar": 2,
         "sulphates": 0.55,
         "total_sulfur_dioxide": 143,
         "volatile_acidity": 0.5
        },
        {
         "_deepnote_index_column": 469,
         "alcohol": 11.4,
         "chlorides": 0.084,
         "citric_acid": 0.75,
         "density": 0.9986,
         "fixed_acidity": 13.3,
         "free_sulfur_dioxide": 23,
         "pH": 3.04,
         "quality": 7,
         "residual_sugar": 2.8,
         "sulphates": 0.68,
         "total_sulfur_dioxide": 43,
         "volatile_acidity": 0.29
        },
        {
         "_deepnote_index_column": 158,
         "alcohol": 9.2,
         "chlorides": 0.073,
         "citric_acid": 0.17,
         "density": 0.9972,
         "fixed_acidity": 8,
         "free_sulfur_dioxide": 6,
         "pH": 3.29,
         "quality": 6,
         "residual_sugar": 2,
         "sulphates": 0.61,
         "total_sulfur_dioxide": 18,
         "volatile_acidity": 0.42
        },
        {
         "_deepnote_index_column": 620,
         "alcohol": 10,
         "chlorides": 0.083,
         "citric_acid": 0.24,
         "density": 0.9959,
         "fixed_acidity": 6.9,
         "free_sulfur_dioxide": 30,
         "pH": 3.26,
         "quality": 5,
         "residual_sugar": 2.5,
         "sulphates": 0.58,
         "total_sulfur_dioxide": 45,
         "volatile_acidity": 0.4
        },
        {
         "_deepnote_index_column": 421,
         "alcohol": 11.1,
         "chlorides": 0.063,
         "citric_acid": 0.4,
         "density": 0.9952,
         "fixed_acidity": 7,
         "free_sulfur_dioxide": 21,
         "pH": 3.5,
         "quality": 5,
         "residual_sugar": 1.6,
         "sulphates": 0.63,
         "total_sulfur_dioxide": 67,
         "volatile_acidity": 0.23
        },
        {
         "_deepnote_index_column": 584,
         "alcohol": 11.3,
         "chlorides": 0.105,
         "citric_acid": 0.22,
         "density": 1.001,
         "fixed_acidity": 10.1,
         "free_sulfur_dioxide": 11,
         "pH": 3.43,
         "quality": 4,
         "residual_sugar": 3.4,
         "sulphates": 0.64,
         "total_sulfur_dioxide": 86,
         "volatile_acidity": 0.935
        },
        {
         "_deepnote_index_column": 789,
         "alcohol": 11.2,
         "chlorides": 0.074,
         "citric_acid": 0.22,
         "density": 0.99438,
         "fixed_acidity": 6.8,
         "free_sulfur_dioxide": 15,
         "pH": 3.4,
         "quality": 6,
         "residual_sugar": 1.8,
         "sulphates": 0.82,
         "total_sulfur_dioxide": 24,
         "volatile_acidity": 0.56
        },
        {
         "_deepnote_index_column": 227,
         "alcohol": 9.2,
         "chlorides": 0.075,
         "citric_acid": 0.44,
         "density": 100.005,
         "fixed_acidity": 15,
         "free_sulfur_dioxide": 10,
         "pH": 3.07,
         "quality": 7,
         "residual_sugar": 2.2,
         "sulphates": 0.84,
         "total_sulfur_dioxide": 24,
         "volatile_acidity": 0.21
        },
        {
         "_deepnote_index_column": 65,
         "alcohol": 9.5,
         "chlorides": 0.084,
         "citric_acid": 0.22,
         "density": 0.9961,
         "fixed_acidity": 7.7,
         "free_sulfur_dioxide": 18,
         "pH": 3.31,
         "quality": 5,
         "residual_sugar": 1.9,
         "sulphates": 0.48,
         "total_sulfur_dioxide": 94,
         "volatile_acidity": 0.69
        },
        {
         "_deepnote_index_column": 920,
         "alcohol": 11.4,
         "chlorides": 0.075,
         "citric_acid": 0.46,
         "density": 0.99598,
         "fixed_acidity": 10.5,
         "free_sulfur_dioxide": 14,
         "pH": 3.06,
         "quality": 6,
         "residual_sugar": 2.2,
         "sulphates": 0.84,
         "total_sulfur_dioxide": 27,
         "volatile_acidity": 0.39
        }
       ]
      },
      "text/html": [
       "<div>\n",
       "<style scoped>\n",
       "    .dataframe tbody tr th:only-of-type {\n",
       "        vertical-align: middle;\n",
       "    }\n",
       "\n",
       "    .dataframe tbody tr th {\n",
       "        vertical-align: top;\n",
       "    }\n",
       "\n",
       "    .dataframe thead th {\n",
       "        text-align: right;\n",
       "    }\n",
       "</style>\n",
       "<table border=\"1\" class=\"dataframe\">\n",
       "  <thead>\n",
       "    <tr style=\"text-align: right;\">\n",
       "      <th></th>\n",
       "      <th>fixed_acidity</th>\n",
       "      <th>volatile_acidity</th>\n",
       "      <th>citric_acid</th>\n",
       "      <th>residual_sugar</th>\n",
       "      <th>chlorides</th>\n",
       "      <th>free_sulfur_dioxide</th>\n",
       "      <th>total_sulfur_dioxide</th>\n",
       "      <th>density</th>\n",
       "      <th>pH</th>\n",
       "      <th>sulphates</th>\n",
       "      <th>alcohol</th>\n",
       "      <th>quality</th>\n",
       "    </tr>\n",
       "  </thead>\n",
       "  <tbody>\n",
       "    <tr>\n",
       "      <th>174</th>\n",
       "      <td>7.9</td>\n",
       "      <td>0.50</td>\n",
       "      <td>0.33</td>\n",
       "      <td>2.0</td>\n",
       "      <td>0.084</td>\n",
       "      <td>15</td>\n",
       "      <td>143</td>\n",
       "      <td>0.99680</td>\n",
       "      <td>3.20</td>\n",
       "      <td>0.55</td>\n",
       "      <td>9.5</td>\n",
       "      <td>5</td>\n",
       "    </tr>\n",
       "    <tr>\n",
       "      <th>469</th>\n",
       "      <td>13.3</td>\n",
       "      <td>0.29</td>\n",
       "      <td>0.75</td>\n",
       "      <td>2.8</td>\n",
       "      <td>0.084</td>\n",
       "      <td>23</td>\n",
       "      <td>43</td>\n",
       "      <td>0.99860</td>\n",
       "      <td>3.04</td>\n",
       "      <td>0.68</td>\n",
       "      <td>11.4</td>\n",
       "      <td>7</td>\n",
       "    </tr>\n",
       "    <tr>\n",
       "      <th>158</th>\n",
       "      <td>8.0</td>\n",
       "      <td>0.42</td>\n",
       "      <td>0.17</td>\n",
       "      <td>2.0</td>\n",
       "      <td>0.073</td>\n",
       "      <td>6</td>\n",
       "      <td>18</td>\n",
       "      <td>0.99720</td>\n",
       "      <td>3.29</td>\n",
       "      <td>0.61</td>\n",
       "      <td>9.2</td>\n",
       "      <td>6</td>\n",
       "    </tr>\n",
       "    <tr>\n",
       "      <th>620</th>\n",
       "      <td>6.9</td>\n",
       "      <td>0.40</td>\n",
       "      <td>0.24</td>\n",
       "      <td>2.5</td>\n",
       "      <td>0.083</td>\n",
       "      <td>30</td>\n",
       "      <td>45</td>\n",
       "      <td>0.99590</td>\n",
       "      <td>3.26</td>\n",
       "      <td>0.58</td>\n",
       "      <td>10.0</td>\n",
       "      <td>5</td>\n",
       "    </tr>\n",
       "    <tr>\n",
       "      <th>421</th>\n",
       "      <td>7.0</td>\n",
       "      <td>0.23</td>\n",
       "      <td>0.40</td>\n",
       "      <td>1.6</td>\n",
       "      <td>0.063</td>\n",
       "      <td>21</td>\n",
       "      <td>67</td>\n",
       "      <td>0.99520</td>\n",
       "      <td>3.50</td>\n",
       "      <td>0.63</td>\n",
       "      <td>11.1</td>\n",
       "      <td>5</td>\n",
       "    </tr>\n",
       "    <tr>\n",
       "      <th>...</th>\n",
       "      <td>...</td>\n",
       "      <td>...</td>\n",
       "      <td>...</td>\n",
       "      <td>...</td>\n",
       "      <td>...</td>\n",
       "      <td>...</td>\n",
       "      <td>...</td>\n",
       "      <td>...</td>\n",
       "      <td>...</td>\n",
       "      <td>...</td>\n",
       "      <td>...</td>\n",
       "      <td>...</td>\n",
       "    </tr>\n",
       "    <tr>\n",
       "      <th>201</th>\n",
       "      <td>7.0</td>\n",
       "      <td>0.49</td>\n",
       "      <td>0.49</td>\n",
       "      <td>5.6</td>\n",
       "      <td>0.060</td>\n",
       "      <td>26</td>\n",
       "      <td>121</td>\n",
       "      <td>0.99740</td>\n",
       "      <td>3.34</td>\n",
       "      <td>0.76</td>\n",
       "      <td>10.5</td>\n",
       "      <td>5</td>\n",
       "    </tr>\n",
       "    <tr>\n",
       "      <th>996</th>\n",
       "      <td>6.1</td>\n",
       "      <td>0.48</td>\n",
       "      <td>0.09</td>\n",
       "      <td>1.7</td>\n",
       "      <td>0.078</td>\n",
       "      <td>18</td>\n",
       "      <td>30</td>\n",
       "      <td>0.99402</td>\n",
       "      <td>3.45</td>\n",
       "      <td>0.54</td>\n",
       "      <td>11.2</td>\n",
       "      <td>6</td>\n",
       "    </tr>\n",
       "    <tr>\n",
       "      <th>555</th>\n",
       "      <td>8.3</td>\n",
       "      <td>0.58</td>\n",
       "      <td>0.13</td>\n",
       "      <td>2.9</td>\n",
       "      <td>0.096</td>\n",
       "      <td>14</td>\n",
       "      <td>63</td>\n",
       "      <td>0.99840</td>\n",
       "      <td>3.17</td>\n",
       "      <td>0.62</td>\n",
       "      <td>9.1</td>\n",
       "      <td>6</td>\n",
       "    </tr>\n",
       "    <tr>\n",
       "      <th>1085</th>\n",
       "      <td>7.7</td>\n",
       "      <td>0.26</td>\n",
       "      <td>0.26</td>\n",
       "      <td>2.0</td>\n",
       "      <td>0.052</td>\n",
       "      <td>19</td>\n",
       "      <td>77</td>\n",
       "      <td>0.99510</td>\n",
       "      <td>3.15</td>\n",
       "      <td>0.79</td>\n",
       "      <td>10.9</td>\n",
       "      <td>6</td>\n",
       "    </tr>\n",
       "    <tr>\n",
       "      <th>122</th>\n",
       "      <td>6.6</td>\n",
       "      <td>0.50</td>\n",
       "      <td>0.01</td>\n",
       "      <td>1.5</td>\n",
       "      <td>0.060</td>\n",
       "      <td>17</td>\n",
       "      <td>26</td>\n",
       "      <td>0.99520</td>\n",
       "      <td>3.40</td>\n",
       "      <td>0.58</td>\n",
       "      <td>9.8</td>\n",
       "      <td>6</td>\n",
       "    </tr>\n",
       "  </tbody>\n",
       "</table>\n",
       "<p>245 rows × 12 columns</p>\n",
       "</div>"
      ],
      "text/plain": [
       "      fixed_acidity  volatile_acidity  citric_acid  residual_sugar  chlorides  \\\n",
       "174             7.9              0.50         0.33             2.0      0.084   \n",
       "469            13.3              0.29         0.75             2.8      0.084   \n",
       "158             8.0              0.42         0.17             2.0      0.073   \n",
       "620             6.9              0.40         0.24             2.5      0.083   \n",
       "421             7.0              0.23         0.40             1.6      0.063   \n",
       "...             ...               ...          ...             ...        ...   \n",
       "201             7.0              0.49         0.49             5.6      0.060   \n",
       "996             6.1              0.48         0.09             1.7      0.078   \n",
       "555             8.3              0.58         0.13             2.9      0.096   \n",
       "1085            7.7              0.26         0.26             2.0      0.052   \n",
       "122             6.6              0.50         0.01             1.5      0.060   \n",
       "\n",
       "      free_sulfur_dioxide  total_sulfur_dioxide  density    pH  sulphates  \\\n",
       "174                    15                   143  0.99680  3.20       0.55   \n",
       "469                    23                    43  0.99860  3.04       0.68   \n",
       "158                     6                    18  0.99720  3.29       0.61   \n",
       "620                    30                    45  0.99590  3.26       0.58   \n",
       "421                    21                    67  0.99520  3.50       0.63   \n",
       "...                   ...                   ...      ...   ...        ...   \n",
       "201                    26                   121  0.99740  3.34       0.76   \n",
       "996                    18                    30  0.99402  3.45       0.54   \n",
       "555                    14                    63  0.99840  3.17       0.62   \n",
       "1085                   19                    77  0.99510  3.15       0.79   \n",
       "122                    17                    26  0.99520  3.40       0.58   \n",
       "\n",
       "      alcohol  quality  \n",
       "174       9.5        5  \n",
       "469      11.4        7  \n",
       "158       9.2        6  \n",
       "620      10.0        5  \n",
       "421      11.1        5  \n",
       "...       ...      ...  \n",
       "201      10.5        5  \n",
       "996      11.2        6  \n",
       "555       9.1        6  \n",
       "1085     10.9        6  \n",
       "122       9.8        6  \n",
       "\n",
       "[245 rows x 12 columns]"
      ]
     },
     "execution_count": 17,
     "metadata": {},
     "output_type": "execute_result"
    }
   ],
   "outputs_reference": "s3:deepnote-cell-outputs-production/e3540dbd-ad02-4d0f-8901-48d65e12aa9e",
   "source": [
    "df3 = X_test\n",
    "df4 = Y_test\n",
    "\n",
    "df_test = pd.concat([df3,df4], axis=1, join='inner')\n",
    "df_test"
   ]
  },
  {
   "block_group": "c1952777f3ff4ecba0cc468d3627f035",
   "cell_type": "markdown",
   "metadata": {
    "cell_id": "2769dfbf745d42e58cd3d18e36cb5433",
    "deepnote_app_block_visible": false,
    "deepnote_cell_type": "text-cell-h2",
    "formattedRanges": [],
    "is_collapsed": false
   },
   "source": [
    "## GAUSSIAN NAIVE BAYES MANUAL"
   ]
  },
  {
   "block_group": "37b21511e4f34492a6cd7dc61aa826f7",
   "cell_type": "markdown",
   "metadata": {
    "cell_id": "3278b78d3caa4a76a721d2ef6892da83",
    "deepnote_app_block_visible": false,
    "deepnote_cell_type": "text-cell-p",
    "formattedRanges": [],
    "is_collapsed": false
   },
   "source": [
    "Dari data diatas dihasilkan data train sebanyak 80% dari keseluruhan data test. Data train ini yang nantinya akan kita gunakan untuk menghitung klasifikasi secara manual terhadap data baru. Hal ini dilakukan agar kita mendapatkan hasil dari prediksi yang kita lakukan itu benar atau tidak. Berikut langkah-langkah yang bisa kita lakukan untuk menghitung secara manual:"
   ]
  },
  {
   "block_group": "f1137099e9f7473babf3c53f7c27e65d",
   "cell_type": "markdown",
   "metadata": {
    "cell_id": "b37a413db98c4292960880024e55baa0",
    "deepnote_app_block_visible": false,
    "deepnote_cell_type": "text-cell-h3",
    "formattedRanges": [],
    "is_collapsed": false
   },
   "source": [
    "### Mengelompokkan Data Berdasarkan Label Class Yang Ada"
   ]
  },
  {
   "block_group": "33d4601511e54b5caa06e99a5ab59909",
   "cell_type": "markdown",
   "metadata": {
    "cell_id": "3f5c543f58c84cf891b73848c4197a97",
    "deepnote_cell_type": "text-cell-p",
    "formattedRanges": []
   },
   "source": [
    "Yang pertama perlu kita lakukan adalah mengelompokkan data dalam data train berdasarkan class-nya masing-masing."
   ]
  },
  {
   "block_group": "5bf6a6c8a2f34b3282d520297432c327",
   "cell_type": "markdown",
   "metadata": {
    "cell_id": "2155fa3d7b634cdb8e00a586330485d1",
    "deepnote_cell_type": "image",
    "deepnote_img_src": "q3-20240607-152800.png"
   },
   "source": [
    "<img src=\"q3-20240607-152800.png\" width=\"\" align=\"\" />"
   ]
  },
  {
   "block_group": "e560ef8f75a244fd8843085105d45372",
   "cell_type": "markdown",
   "metadata": {
    "cell_id": "366a80cf4af543cdae3b78885ca6e445",
    "deepnote_cell_type": "image",
    "deepnote_img_src": "q4-20240607-153427.png"
   },
   "source": [
    "<img src=\"q4-20240607-153427.png\" width=\"\" align=\"\" />"
   ]
  },
  {
   "block_group": "f782812edc494e129620b802e55161df",
   "cell_type": "markdown",
   "metadata": {
    "cell_id": "bd3a972aa4594c65b171d62ea723254d",
    "deepnote_cell_type": "image",
    "deepnote_img_src": "q5-20240607-153602.png"
   },
   "source": [
    "<img src=\"q5-20240607-153602.png\" width=\"\" align=\"\" />"
   ]
  },
  {
   "block_group": "f768428b078342888ef15510197d5cf1",
   "cell_type": "markdown",
   "metadata": {
    "cell_id": "1e159766cf9041eeae36d93576c4abeb",
    "deepnote_cell_type": "image",
    "deepnote_img_src": "q7-20240607-154057.png"
   },
   "source": [
    "<img src=\"q7-20240607-154057.png\" width=\"\" align=\"\" />"
   ]
  },
  {
   "block_group": "c461259089274cd69fed3c64ef159221",
   "cell_type": "markdown",
   "metadata": {
    "cell_id": "85c40afeb137485d989affc7c864dcf2",
    "deepnote_cell_type": "image",
    "deepnote_img_src": "q8-20240607-154136.png"
   },
   "source": [
    "<img src=\"q8-20240607-154136.png\" width=\"\" align=\"\" />"
   ]
  },
  {
   "block_group": "c1a29f10e5bd4094836a8efe6e00ad90",
   "cell_type": "markdown",
   "metadata": {
    "cell_id": "39ae406dc380480bb3f10571655e1253",
    "deepnote_cell_type": "text-cell-p",
    "formattedRanges": []
   },
   "source": [
    "Setelah di kelompokkan di dapatkan:"
   ]
  },
  {
   "block_group": "7ddf67f3fcb64f5fb84c27f5f003b1c4",
   "cell_type": "markdown",
   "metadata": {
    "cell_id": "2530207ee0164ae9b325ef979889c5a8",
    "deepnote_cell_type": "text-cell-bullet",
    "formattedRanges": []
   },
   "source": [
    "- Quality 3 = 4 data"
   ]
  },
  {
   "block_group": "c431e0cc2a7d4df8a10eff9c1e434675",
   "cell_type": "markdown",
   "metadata": {
    "cell_id": "b0feb23a46194e098bc776009ff3ead9",
    "deepnote_cell_type": "text-cell-bullet",
    "formattedRanges": []
   },
   "source": [
    "- Quality 4 = 34 data"
   ]
  },
  {
   "block_group": "a4ad11e4ff104e5ba56b006fe64d9593",
   "cell_type": "markdown",
   "metadata": {
    "cell_id": "109e3bca5eb64bc5acaa77cb1e8dc8e1",
    "deepnote_cell_type": "text-cell-bullet",
    "formattedRanges": []
   },
   "source": [
    "- Quality 5 = 392 data"
   ]
  },
  {
   "block_group": "365aedcbe5f344338ab274430bb23df6",
   "cell_type": "markdown",
   "metadata": {
    "cell_id": "15a1cf1805364a31a5a089183588ebb4",
    "deepnote_cell_type": "text-cell-bullet",
    "formattedRanges": []
   },
   "source": [
    "- Quality 6 = 409 data"
   ]
  },
  {
   "block_group": "3f623d47455d455b849c98d0a379aade",
   "cell_type": "markdown",
   "metadata": {
    "cell_id": "2d6d1d0269664350a6d2651dbde64fb1",
    "deepnote_cell_type": "text-cell-bullet",
    "formattedRanges": []
   },
   "source": [
    "- Quality 7 = 128 data"
   ]
  },
  {
   "block_group": "d3ef00da1ff7444e8eaa618d40e6eff6",
   "cell_type": "markdown",
   "metadata": {
    "cell_id": "a3768ed09c2c46d4ba403dd614a05380",
    "deepnote_cell_type": "text-cell-bullet",
    "formattedRanges": []
   },
   "source": [
    "- Quality 8 = 11 data"
   ]
  },
  {
   "block_group": "df4ea6fcc9d94b74874f08357fa25ad5",
   "cell_type": "markdown",
   "metadata": {
    "cell_id": "9db08de0892e4a4aac646078d33b2a4a",
    "deepnote_cell_type": "text-cell-p",
    "formattedRanges": []
   },
   "source": [
    "jadi banyak data train yang ada sebanyak 1.223 data."
   ]
  },
  {
   "block_group": "137768cbcfb04f209fef97c627492720",
   "cell_type": "markdown",
   "metadata": {
    "cell_id": "ed9c7879dc704533b1043863f8643007",
    "deepnote_app_block_visible": false,
    "deepnote_cell_type": "text-cell-h3",
    "formattedRanges": [],
    "is_collapsed": false
   },
   "source": [
    "### Menghitung Distribusi Normal"
   ]
  },
  {
   "block_group": "a0f6a7f4543543ea94c4b855dea21478",
   "cell_type": "markdown",
   "metadata": {
    "cell_id": "7c47060b914c40fd9498193f4436a18a",
    "deepnote_cell_type": "text-cell-p",
    "formattedRanges": [
     {
      "fromCodePoint": 0,
      "marks": {
       "bold": true
      },
      "toCodePoint": 20,
      "type": "marks"
     },
     {
      "fromCodePoint": 162,
      "marks": {
       "bold": true
      },
      "toCodePoint": 179,
      "type": "marks"
     },
     {
      "fromCodePoint": 341,
      "marks": {
       "italic": true
      },
      "toCodePoint": 355,
      "type": "marks"
     },
     {
      "fromCodePoint": 360,
      "marks": {
       "italic": true
      },
      "toCodePoint": 379,
      "type": "marks"
     }
    ]
   },
   "source": [
    "Distribusi Gaussian, juga dikenal sebagai distribusi normal, adalah salah satu distribusi probabilitas yang paling penting dan banyak digunakan dalam statistika. Distribusi normal memiliki rumus matemtika yang mendefinisikan probability sebuah observasi berada pada salah satu kelas. Distribusi Gaussian memiliki dua parameter penting yaitu rata-rata (\r",
    "μ) dan standar deviasi (σ). Formulanya adalah sebagai berikut:"
   ]
  },
  {
   "block_group": "62600323517141dca390016f9d47097a",
   "cell_type": "markdown",
   "metadata": {
    "cell_id": "ca8246ac667b4d0f8dc9ebd5031a88af",
    "deepnote_cell_type": "markdown"
   },
   "source": [
    "$$P(y|x) = \\frac{1}{\\sqrt{2}\\pi\\sigma} e^{-1/2(\\frac{x - \\mu}{2\\sigma})^2}$$"
   ]
  },
  {
   "block_group": "c4a122d835db4f1a94b29ca57c20653c",
   "cell_type": "markdown",
   "metadata": {
    "cell_id": "d5fd09964cf04e4aa70b98c079a682eb",
    "deepnote_cell_type": "text-cell-p",
    "formattedRanges": []
   },
   "source": [
    "setelah kita mengetahui rumus distribusi normal, maka langkah selanjutnya adalah menghitungnya dari masing-masing class yang tersedia terhadap data x yang merupakan data random yang diambil dari data test."
   ]
  },
  {
   "block_group": "890560b69454426888359e63c7e98a8e",
   "cell_type": "markdown",
   "metadata": {
    "cell_id": "4e51a79bd3854a07b08cefd2ddf2b4af",
    "deepnote_cell_type": "image",
    "deepnote_img_src": "DistrbusiNormal_q3.png"
   },
   "source": [
    "<img src=\"DistrbusiNormal_q3.png\" width=\"\" align=\"\" />"
   ]
  },
  {
   "block_group": "7cd11172c98c48eea1ca5982dd68cd64",
   "cell_type": "markdown",
   "metadata": {
    "cell_id": "ec31a46cf8d24f0799da08444604de9a",
    "deepnote_cell_type": "text-cell-p",
    "formattedRanges": []
   },
   "source": [
    "Berdasarkan hasil perhitungan pada data quality 3 didapatkan hasil distribusi normalnya = 0.012003\r\n"
   ]
  },
  {
   "block_group": "e97ede8c3dbd4b01a43e92df67802441",
   "cell_type": "markdown",
   "metadata": {
    "cell_id": "034754dbee7f4293b084a552f7fbca11",
    "deepnote_cell_type": "image",
    "deepnote_img_src": "DistribusiNormal_q4-20240607-162441.png"
   },
   "source": [
    "<img src=\"DistribusiNormal_q4-20240607-162441.png\" width=\"\" align=\"\" />"
   ]
  },
  {
   "block_group": "949ffe5f17bb4449bd59a971ab92a6d4",
   "cell_type": "markdown",
   "metadata": {
    "cell_id": "2790561124b944059a554ed8889871ae",
    "deepnote_cell_type": "text-cell-p",
    "formattedRanges": []
   },
   "source": [
    "Berdasarkan hasil perhitungan pada data quality 4 didapatkan hasil distribusi normalnya = 0,0027515"
   ]
  },
  {
   "block_group": "9bbc3cfa82ec415191c0af2a2372feed",
   "cell_type": "markdown",
   "metadata": {
    "cell_id": "e3cfddb75ed541868420b3228c361040",
    "deepnote_cell_type": "image",
    "deepnote_img_src": "DistribusiNormal_q5-20240607-162750.png"
   },
   "source": [
    "<img src=\"DistribusiNormal_q5-20240607-162750.png\" width=\"\" align=\"\" />"
   ]
  },
  {
   "block_group": "4737b5a739c84d42a455318bd4de54e2",
   "cell_type": "markdown",
   "metadata": {
    "cell_id": "bb8cb07eec6545089acc30fdfbcd51f2",
    "deepnote_app_block_visible": false,
    "deepnote_cell_type": "text-cell-p",
    "formattedRanges": [],
    "is_collapsed": false
   },
   "source": [
    "Berdasarkan hasil perhitungan pada data quality 5 didapatkan hasil distribusi normalnya = 0,0031894"
   ]
  },
  {
   "block_group": "ca7b5f273d7a4beb9afbbd3ed5e16295",
   "cell_type": "markdown",
   "metadata": {
    "cell_id": "a6364f4765ce4e8c9561576574814ea6",
    "deepnote_cell_type": "image",
    "deepnote_img_src": "DistribusiNormal_q6-20240607-162958.png"
   },
   "source": [
    "<img src=\"DistribusiNormal_q6-20240607-162958.png\" width=\"\" align=\"\" />"
   ]
  },
  {
   "block_group": "d95b1bea40db4d158090b12faff2b477",
   "cell_type": "markdown",
   "metadata": {
    "cell_id": "f26323492665409a990579079a1df90f",
    "deepnote_cell_type": "text-cell-p",
    "formattedRanges": []
   },
   "source": [
    "Berdasarkan hasil perhitungan pada data quality 6 didapatkan hasil distribusi normalnya = 0,0040879"
   ]
  },
  {
   "block_group": "ecb168b468034cccbc273d91c2b54040",
   "cell_type": "markdown",
   "metadata": {
    "cell_id": "2926c5e85a1040fcaf76b829aad265ed",
    "deepnote_cell_type": "image",
    "deepnote_img_src": "DistribusiNormal_q7-20240607-163028.png"
   },
   "source": [
    "<img src=\"DistribusiNormal_q7-20240607-163028.png\" width=\"\" align=\"\" />"
   ]
  },
  {
   "block_group": "eebd3a893fb844e0b9db8c3b3bee2cf5",
   "cell_type": "markdown",
   "metadata": {
    "cell_id": "c8f57dc170604a0490ad8ede9c3bfe86",
    "deepnote_cell_type": "text-cell-p",
    "formattedRanges": []
   },
   "source": [
    "Berdasarkan hasil perhitungan pada data quality 7 didapatkan hasil distribusi normalnya = 0,0041415"
   ]
  },
  {
   "block_group": "2c85ccfda59b43828043c5d458db166c",
   "cell_type": "markdown",
   "metadata": {
    "cell_id": "160ea4b6260c4faf93e502b93c27d5da",
    "deepnote_cell_type": "image",
    "deepnote_img_src": "DistribusiNormal_q8-20240607-163044.png"
   },
   "source": [
    "<img src=\"DistribusiNormal_q8-20240607-163044.png\" width=\"\" align=\"\" />"
   ]
  },
  {
   "block_group": "03a8eb1f4aec4aada9385c1e1fefa1f5",
   "cell_type": "markdown",
   "metadata": {
    "cell_id": "d18c5062c331449eb12a71653dc37a10",
    "deepnote_cell_type": "text-cell-p",
    "formattedRanges": []
   },
   "source": [
    "Berdasarkan hasil perhitungan pada data quality 8 didapatkan hasil distribusi normalnya = 0,016257"
   ]
  },
  {
   "block_group": "88f66c6109dd412c942b952587a6a3ae",
   "cell_type": "markdown",
   "metadata": {
    "cell_id": "6b03bbbdd4d049cca55547c41bb3ad30",
    "deepnote_app_block_visible": false,
    "deepnote_cell_type": "text-cell-h3",
    "formattedRanges": [],
    "is_collapsed": false
   },
   "source": [
    "### Probabilitas Prior"
   ]
  },
  {
   "block_group": "db9026c249944407ab75218ec95d42d6",
   "cell_type": "markdown",
   "metadata": {
    "cell_id": "2237a04dc61b46d1b9e2f504c43c2392",
    "deepnote_app_block_visible": false,
    "deepnote_cell_type": "text-cell-p",
    "formattedRanges": [
     {
      "fromCodePoint": 90,
      "marks": {
       "bold": true
      },
      "toCodePoint": 108,
      "type": "marks"
     }
    ],
    "is_collapsed": false
   },
   "source": [
    "Setelah menghitung ditribusi normal, selanjutnya adalah menghitung probabilitas priornya. Probabilitas prior dalam perhitungan Naive Bayes adalah probabilitas bahwa suatu data termasuk ke dalam kelas tertentu sebelum melihat data baru yang diberikan. Ini adalah estimasi awal tentang seberapa mungkin suatu data termasuk dalam setiap kelas. Probabilitas prior ini digunakan sebagai faktor penyesuaian dalam menghitung probabilitas posterior, yang merupakan probabilitas kelas setelah melihat data. "
   ]
  },
  {
   "block_group": "a26c8cc819244ba88e703db5780a5f18",
   "cell_type": "markdown",
   "metadata": {
    "cell_id": "db7888ed499240d0b6b5b436de6905e8",
    "deepnote_cell_type": "image",
    "deepnote_img_src": "ProbabilitasPrior_q3.png"
   },
   "source": [
    "<img src=\"ProbabilitasPrior_q3.png\" width=\"\" align=\"\" />"
   ]
  },
  {
   "block_group": "03b7beacddc84077b6df01ebff10f4b5",
   "cell_type": "markdown",
   "metadata": {
    "cell_id": "26d5cce7f5474f9898c320c9b1fd006e",
    "deepnote_cell_type": "image",
    "deepnote_img_src": "ProbabilitasPrior_q4.png"
   },
   "source": [
    "<img src=\"ProbabilitasPrior_q4.png\" width=\"\" align=\"\" />"
   ]
  },
  {
   "block_group": "83166929ef9448c7bf17be13b782a2a2",
   "cell_type": "markdown",
   "metadata": {
    "cell_id": "9e21a36a3aef4ef09a1d3ab1530b5969",
    "deepnote_cell_type": "image",
    "deepnote_img_src": "ProbabilitasPrior_q5.png"
   },
   "source": [
    "<img src=\"ProbabilitasPrior_q5.png\" width=\"\" align=\"\" />"
   ]
  },
  {
   "block_group": "2c1d64b51d57470f99492ac070fcbe31",
   "cell_type": "markdown",
   "metadata": {
    "cell_id": "ee400211b6154375ae1314628f7e9776",
    "deepnote_cell_type": "image",
    "deepnote_img_src": "ProbabilitasPrior_q6.png"
   },
   "source": [
    "<img src=\"ProbabilitasPrior_q6.png\" width=\"\" align=\"\" />"
   ]
  },
  {
   "block_group": "893e629f3a8b439d9ed2ffc4f25e5fd4",
   "cell_type": "markdown",
   "metadata": {
    "cell_id": "4368156432f2483f8b66baeb4ab16f89",
    "deepnote_cell_type": "image",
    "deepnote_img_src": "ProbabilitasPrior_q7.png"
   },
   "source": [
    "<img src=\"ProbabilitasPrior_q7.png\" width=\"\" align=\"\" />"
   ]
  },
  {
   "block_group": "18ced1d801e243a9916c587002ca1722",
   "cell_type": "markdown",
   "metadata": {
    "cell_id": "696fbefa698c4ecf92eaa23d274e7d19",
    "deepnote_cell_type": "image",
    "deepnote_img_src": "ProbabilitasPrior_q8.png"
   },
   "source": [
    "<img src=\"ProbabilitasPrior_q8.png\" width=\"\" align=\"\" />"
   ]
  },
  {
   "block_group": "c7e7133225d74e2599c827485fb7f9b2",
   "cell_type": "markdown",
   "metadata": {
    "cell_id": "f68071d7715b4c96bd5df17a27b74356",
    "deepnote_cell_type": "text-cell-h3",
    "formattedRanges": []
   },
   "source": [
    "### Probabilitas Posterior"
   ]
  },
  {
   "block_group": "e0d8c0d7abd6431c800b274127782b2d",
   "cell_type": "markdown",
   "metadata": {
    "cell_id": "cd86c7dc38e04f909c91f3afb088e279",
    "deepnote_cell_type": "text-cell-p",
    "formattedRanges": [
     {
      "fromCodePoint": 96,
      "marks": {
       "bold": true
      },
      "toCodePoint": 118,
      "type": "marks"
     }
    ]
   },
   "source": [
    "Setelah mengetahui probabilitas Priornya, selanjutnya kita tentukan Probabilitas Posteriornya. \r",
    "Probabilitas posterior dalam konteks Naive Bayes adalah probabilitas bahwa sebuah sampel/data tertentu termasuk dalam kelas tertentu setelah melihat atribut-atribut (fitur) dari sampel tersebut."
   ]
  },
  {
   "block_group": "cead6a2b117347eeab66b6cb42c51ef2",
   "cell_type": "markdown",
   "metadata": {
    "cell_id": "127dfd2f02e64c91afeecb7933bc8b64",
    "deepnote_cell_type": "image",
    "deepnote_img_src": "ProbabilitasPosterior.png"
   },
   "source": [
    "<img src=\"ProbabilitasPosterior.png\" width=\"\" align=\"\" />"
   ]
  },
  {
   "block_group": "2a8dd95c688942fe9a4a4599c8574430",
   "cell_type": "markdown",
   "metadata": {
    "cell_id": "e0adfd87345740c1aaa946401d26c339",
    "deepnote_cell_type": "text-cell-p",
    "formattedRanges": []
   },
   "source": [
    "Dari hasil diatas terlihat bahwa data test wine yang kita punya termasuk ke dalam kelas quality 6. "
   ]
  },
  {
   "block_group": "a1c79c5e713d45aebdbc18ffd79741b7",
   "cell_type": "markdown",
   "metadata": {
    "cell_id": "c9e373ba9a924c5798f39d36c5f99082",
    "deepnote_app_block_visible": false,
    "deepnote_cell_type": "text-cell-h2",
    "formattedRanges": [],
    "is_collapsed": false
   },
   "source": [
    "## GAUSSIAN NAIVE BAYES LIBRARY"
   ]
  },
  {
   "block_group": "8d298e26658849038def5c505e3b7006",
   "cell_type": "code",
   "content_dependencies": null,
   "execution_count": null,
   "metadata": {
    "cell_id": "365b59edb06c42919973bebc51035c5b",
    "deepnote_cell_type": "code",
    "deepnote_to_be_reexecuted": false,
    "execution_millis": 282,
    "execution_start": 1718197907083,
    "source_hash": null
   },
   "outputs": [
    {
     "name": "stdout",
     "output_type": "stream",
     "text": [
      "Data X memiliki quality: [8]\n",
      "Nilai Keakuratan: 0.289366\n",
      "/shared-libs/python3.11/py/lib/python3.11/site-packages/sklearn/base.py:465: UserWarning: X does not have valid feature names, but GaussianNB was fitted with feature names\n",
      "  warnings.warn(\n"
     ]
    }
   ],
   "outputs_reference": "dbtable:cell_outputs/9c13d593-e0d3-40c0-8b97-9cc36feddc72",
   "source": [
    "from sklearn.naive_bayes import GaussianNB\n",
    "import pandas as pd\n",
    "\n",
    "df = pd.read_csv('winequality-red.csv')\n",
    "\n",
    "# Menghapus kolom yang tidak relevan\n",
    "df.drop(\"Unnamed: 0\", axis=1, inplace=True)\n",
    "df.drop(\"Outlier\", axis=1, inplace=True)\n",
    "\n",
    "X = df[['fixed_acidity','volatile_acidity','citric_acid','residual_sugar','chlorides','free_sulfur_dioxide','total_sulfur_dioxide','density','pH','sulphates','alcohol']]\n",
    "y = df['quality']\n",
    "\n",
    "# Bagi data menjadi data latih dan data uji\n",
    "X_train, X_test, Y_train, Y_test = train_test_split(X, y, test_size=0.2, random_state=25)\n",
    "\n",
    "classifier = GaussianNB() \n",
    "classifier.fit(X_train,Y_train)\n",
    "\n",
    "# Data Baru yang Akan di Klasifikasikan\n",
    "# X = [df_test.values.tolist()[1][:-1]]\n",
    "X = [[7.2, 0.53, 0.14, 2.1, 0.064, 15, 29, 0.99323, 3.35, 0.61, 12.1]]\n",
    "\n",
    "result = classifier.predict(X)\n",
    "print(f'Data X memiliki quality: {result}')\n",
    "\n",
    "# Evaluasi Keakuratan\n",
    "print(\"Nilai Keakuratan: %f\" % classifier.score(df1, df2))"
   ]
  },
  {
   "block_group": "d894ace71cd74ff7a36c45f10f203fc6",
   "cell_type": "code",
   "content_dependencies": null,
   "execution_count": null,
   "metadata": {
    "cell_id": "8d387d98b11f49208c90199184e9d48a",
    "deepnote_cell_type": "code",
    "deepnote_to_be_reexecuted": false,
    "execution_millis": 375,
    "execution_start": 1718197907197,
    "source_hash": null
   },
   "outputs": [
    {
     "name": "stdout",
     "output_type": "stream",
     "text": [
      "Data X memiliki quality: [8]\n",
      "Nilai Keakuratan: 0.240816\n",
      "/shared-libs/python3.11/py/lib/python3.11/site-packages/sklearn/base.py:465: UserWarning: X does not have valid feature names, but GaussianNB was fitted with feature names\n",
      "  warnings.warn(\n"
     ]
    }
   ],
   "outputs_reference": "dbtable:cell_outputs/c97d2a2d-c068-4e1e-b39f-f79f28a3d0aa",
   "source": [
    "df = pd.read_csv('winequality-red.csv')\n",
    "\n",
    "# Menghapus kolom yang tidak relevan\n",
    "df.drop(\"Unnamed: 0\", axis=1, inplace=True)\n",
    "df.drop(\"Outlier\", axis=1, inplace=True)\n",
    "\n",
    "X = df[['fixed_acidity','volatile_acidity','citric_acid','residual_sugar','chlorides','free_sulfur_dioxide','total_sulfur_dioxide','density','pH','sulphates','alcohol']]\n",
    "y = df['quality']\n",
    "\n",
    "# Bagi data menjadi data latih dan data uji\n",
    "X_train, X_test, Y_train, Y_test = train_test_split(X, y, test_size=0.2, random_state=25)\n",
    "\n",
    "# Inisialisasi dan latih model\n",
    "classifier = GaussianNB()\n",
    "classifier.fit(X_train, Y_train)\n",
    "\n",
    "# Data Baru yang Akan di Klasifikasikan\n",
    "X_new = [[7.2, 0.53, 0.14, 2.1, 0.064, 15, 29, 0.99323, 3.35, 0.61, 12.1]]\n",
    "\n",
    "result = classifier.predict(X_new)\n",
    "print(f'Data X memiliki quality: {result}')\n",
    "\n",
    "# Evaluasi Keakuratan\n",
    "print(\"Nilai Keakuratan: %f\" % classifier.score(X_test, Y_test))"
   ]
  },
  {
   "block_group": "91efa69be4f8408db0854cb977052114",
   "cell_type": "markdown",
   "metadata": {
    "cell_id": "f5870275002f4c858d0304bb0150ee21",
    "deepnote_app_block_visible": false,
    "deepnote_cell_type": "text-cell-h1",
    "formattedRanges": [],
    "is_collapsed": false
   },
   "source": [
    "# Stacking Classifier"
   ]
  },
  {
   "block_group": "5de5d4539d324f0db381359e72a905ac",
   "cell_type": "code",
   "content_dependencies": null,
   "execution_count": null,
   "metadata": {
    "cell_id": "955ec8bc34ba41bf9779c71fdb909c06",
    "deepnote_cell_type": "code",
    "deepnote_to_be_reexecuted": false,
    "execution_millis": 356,
    "execution_start": 1718197907217,
    "source_hash": null
   },
   "outputs": [],
   "outputs_reference": null,
   "source": [
    "from sklearn import model_selection\n",
    "from sklearn.linear_model import LogisticRegression\n",
    "from sklearn.neighbors import KNeighborsClassifier\n",
    "from sklearn.naive_bayes import GaussianNB \n",
    "from sklearn.ensemble import RandomForestClassifier\n",
    "import numpy as np\n",
    "import warnings"
   ]
  },
  {
   "block_group": "4274343a083c431c858c0ed37b376c7c",
   "cell_type": "code",
   "content_dependencies": null,
   "execution_count": null,
   "metadata": {
    "cell_id": "ec7a26254212478f838ec3b6a9497ddb",
    "deepnote_cell_type": "code",
    "deepnote_to_be_reexecuted": false,
    "execution_millis": 416,
    "execution_start": 1718197907388,
    "source_hash": null
   },
   "outputs": [
    {
     "name": "stdout",
     "output_type": "stream",
     "text": [
      "      fixed_acidity  volatile_acidity  citric_acid  residual_sugar  chlorides  \\\n",
      "1147            6.9             0.410         0.31             2.0      0.079   \n",
      "119             6.1             0.380         0.15             1.8      0.072   \n",
      "238             9.4             0.340         0.37             2.2      0.075   \n",
      "808             7.2             0.340         0.24             2.0      0.071   \n",
      "446            10.6             0.360         0.59             2.2      0.152   \n",
      "...             ...               ...          ...             ...        ...   \n",
      "886             7.0             0.400         0.32             3.6      0.061   \n",
      "143             7.1             0.430         0.42             5.5      0.070   \n",
      "474            10.5             0.510         0.64             2.4      0.107   \n",
      "318            10.9             0.390         0.47             1.8      0.118   \n",
      "1156            8.0             0.715         0.22             2.3      0.075   \n",
      "\n",
      "      free_sulfur_dioxide  total_sulfur_dioxide  density    pH  sulphates  \\\n",
      "1147                   21                    51  0.99668  3.47       0.55   \n",
      "119                     6                    19  0.99550  3.42       0.57   \n",
      "238                     5                    13  0.99800  3.22       0.62   \n",
      "808                    30                    52  0.99576  3.44       0.58   \n",
      "446                     6                    18  0.99860  3.04       1.05   \n",
      "...                   ...                   ...      ...   ...        ...   \n",
      "886                     9                    29  0.99416  3.28       0.49   \n",
      "143                    29                   129  0.99730  3.42       0.72   \n",
      "474                     6                    15  0.99730  3.09       0.66   \n",
      "318                     6                    14  0.99820  3.30       0.75   \n",
      "1156                   13                    81  0.99688  3.24       0.54   \n",
      "\n",
      "      alcohol  \n",
      "1147      9.5  \n",
      "119       9.4  \n",
      "238       9.2  \n",
      "808      10.1  \n",
      "446       9.4  \n",
      "...       ...  \n",
      "886      11.3  \n",
      "143      10.5  \n",
      "474      11.8  \n",
      "318       9.8  \n",
      "1156      9.5  \n",
      "\n",
      "[978 rows x 11 columns]\n"
     ]
    }
   ],
   "outputs_reference": "s3:deepnote-cell-outputs-production/c8a531da-f76a-442a-bf25-54881aa834ed",
   "source": [
    "print(X_train)"
   ]
  },
  {
   "block_group": "7581719121e24b87b1433809509bdbc0",
   "cell_type": "code",
   "content_dependencies": null,
   "execution_count": null,
   "metadata": {
    "cell_id": "b774574f7a2c45788df19c15003325da",
    "deepnote_cell_type": "code",
    "deepnote_to_be_reexecuted": false,
    "execution_millis": 417,
    "execution_start": 1718197907388,
    "source_hash": null
   },
   "outputs": [
    {
     "name": "stdout",
     "output_type": "stream",
     "text": [
      "1147    6\n",
      "119     5\n",
      "238     5\n",
      "808     5\n",
      "446     5\n",
      "       ..\n",
      "886     7\n",
      "143     5\n",
      "474     7\n",
      "318     6\n",
      "1156    6\n",
      "Name: quality, Length: 978, dtype: int64\n"
     ]
    }
   ],
   "outputs_reference": "dbtable:cell_outputs/a3d8d775-7204-4358-b4d2-fd0b2489d506",
   "source": [
    "print(Y_train)"
   ]
  },
  {
   "block_group": "5495d483e1574cc2aaa995796da95cbb",
   "cell_type": "code",
   "content_dependencies": null,
   "execution_count": null,
   "metadata": {
    "cell_id": "8cf31888e7684966ae097503b432dc27",
    "deepnote_cell_type": "code",
    "deepnote_to_be_reexecuted": false,
    "execution_millis": 412,
    "execution_start": 1718197907393,
    "source_hash": null
   },
   "outputs": [
    {
     "name": "stdout",
     "output_type": "stream",
     "text": [
      "      fixed_acidity  volatile_acidity  citric_acid  residual_sugar  chlorides  \\\n",
      "788             6.9              0.51         0.23            2.00      0.072   \n",
      "16              7.9              0.32         0.51            1.80      0.341   \n",
      "620             6.9              0.40         0.24            2.50      0.083   \n",
      "172             7.4              0.39         0.48            2.00      0.082   \n",
      "199             8.2              0.57         0.26            2.20      0.060   \n",
      "...             ...               ...          ...             ...        ...   \n",
      "506            10.6              0.31         0.49            2.50      0.067   \n",
      "1014            6.3              0.47         0.00            1.40      0.055   \n",
      "911             9.1              0.29         0.33            2.05      0.063   \n",
      "596             7.3              0.67         0.05            3.60      0.107   \n",
      "295             9.6              0.77         0.12            2.90      0.082   \n",
      "\n",
      "      free_sulfur_dioxide  total_sulfur_dioxide  density    pH  sulphates  \\\n",
      "788                    13                    22  0.99438  3.40       0.84   \n",
      "16                     17                    56  0.99690  3.04       1.08   \n",
      "620                    30                    45  0.99590  3.26       0.58   \n",
      "172                    14                    67  0.99720  3.34       0.55   \n",
      "199                    28                    65  0.99590  3.30       0.43   \n",
      "...                   ...                   ...      ...   ...        ...   \n",
      "506                     6                    21  0.99870  3.26       0.86   \n",
      "1014                   27                    33  0.99220  3.45       0.48   \n",
      "911                    13                    27  0.99516  3.26       0.84   \n",
      "596                     6                    20  0.99720  3.40       0.63   \n",
      "295                    30                    74  0.99865  3.30       0.64   \n",
      "\n",
      "      alcohol  \n",
      "788      11.2  \n",
      "16        9.2  \n",
      "620      10.0  \n",
      "172       9.2  \n",
      "199      10.1  \n",
      "...       ...  \n",
      "506      10.7  \n",
      "1014     12.3  \n",
      "911      11.7  \n",
      "596      10.1  \n",
      "295      10.4  \n",
      "\n",
      "[245 rows x 11 columns]\n"
     ]
    }
   ],
   "outputs_reference": "s3:deepnote-cell-outputs-production/0d5a9408-aba3-4f18-bdda-d48876a67649",
   "source": [
    "print(X_test)"
   ]
  },
  {
   "block_group": "d9be06ae497d449d90d8ae7da9ddfbb5",
   "cell_type": "code",
   "content_dependencies": null,
   "execution_count": null,
   "metadata": {
    "cell_id": "914dd149d6b8486783309cdf9c806700",
    "deepnote_cell_type": "code",
    "deepnote_to_be_reexecuted": false,
    "execution_millis": 401,
    "execution_start": 1718197907405,
    "source_hash": null
   },
   "outputs": [
    {
     "name": "stdout",
     "output_type": "stream",
     "text": [
      "788     6\n",
      "16      6\n",
      "620     5\n",
      "172     5\n",
      "199     5\n",
      "       ..\n",
      "506     6\n",
      "1014    6\n",
      "911     7\n",
      "596     5\n",
      "295     6\n",
      "Name: quality, Length: 245, dtype: int64\n"
     ]
    }
   ],
   "outputs_reference": "dbtable:cell_outputs/0db975b6-e8a0-40ed-b3c3-212388014844",
   "source": [
    "print(Y_test)"
   ]
  },
  {
   "block_group": "47c356e79ecd40ca9eca5f6669c78761",
   "cell_type": "markdown",
   "metadata": {
    "cell_id": "9e556e9963964ef4bdbf041e54b47ad7",
    "deepnote_app_block_visible": false,
    "deepnote_cell_type": "text-cell-h2",
    "formattedRanges": [],
    "is_collapsed": false
   },
   "source": [
    "## Model KNN dengan n_neighbour=3"
   ]
  },
  {
   "block_group": "ec6a1a22c6bc49b7ad3fbb7634c04b42",
   "cell_type": "code",
   "content_dependencies": null,
   "execution_count": null,
   "metadata": {
    "cell_id": "7636816205244b9bae221e84624b5a6e",
    "deepnote_cell_type": "code",
    "deepnote_to_be_reexecuted": false,
    "execution_millis": 396,
    "execution_start": 1718197907410,
    "source_hash": null
   },
   "outputs": [
    {
     "name": "stdout",
     "output_type": "stream",
     "text": [
      "[6 4 6 6 5 5 3 5 6 5 6 6 5 6 5 5 5 5 6 7 6 5 5 6 5 5 6 7 7 6 5 6 5 5 5 5 5\n",
      " 6 6 6 6 5 5 5 6 6 6 6 5 6 6 5 5 5 5 5 6 6 5 6 5 5 7 6 6 7 5 5 5 5 7 5 6 7\n",
      " 6 7 5 5 5 5 6 5 5 5 5 5 5 7 6 6 6 5 5 6 6 7 6 6 5 5 7 5 6 4 6 5 5 6 6 6 6\n",
      " 4 5 5 5 6 6 6 6 6 5 6 5 6 6 5 7 5 6 6 6 6 5 5 6 7 3 6 5 5 6 5 6 6 5 5 5 6\n",
      " 6 5 5 5 5 5 7 6 6 6 7 5 5 6 5 5 6 6 6 5 6 5 7 5 5 6 6 6 6 5 6 6 5 5 5 6 3\n",
      " 6 5 6 6 6 6 5 6 6 5 6 6 5 6 6 5 5 6 7 7 4 5 5 6 6 5 5 5 6 6 6 6 5 6 7 6 5\n",
      " 7 6 5 6 5 5 5 3 5 5 6 5 5 6 5 5 6 5 5 6 6 5 6 5 5 7 6 5 5 6 5 6 7 6 6 5 6\n",
      " 4 6 5 5 5 6 5 5 6 5 6 5 5 6 5 5 5 5 5 5 5 6 5 6 5 6 6 5 6 5 6 5 6 6 5 6 5\n",
      " 5 6 6 6 6 6 6 6 5 6 6 5 5 7 6 5 5 6 5 5 6 5 5 5 5 5 5 4 5 5 6 5 7 7 4 5 5\n",
      " 5 5 7 6 5 6 6 4 5 6 6 5 5 6 6 5 7 6 5 7 4 4 5 6 5 4 6 5 5 6 5 5 5 6 7 5 5\n",
      " 5 6 6 6 7 5 5 6 6 6 5 5 7 5 6 6 6 6 6 5 5 5 6 6 7 6 6 5 5 6 7 5 5 5 5 6 5\n",
      " 6 5 7 5 6 5 6 6 5 6 5 5 6 5 7 5 7 5 6 6 5 5 6 6 5 7 6 5 5 7 5 6 4 7 6 6 6\n",
      " 6 5 7 6 6 6 5 6 5 6 6 6 7 6 6 6 5 6 5 4 6 5 7 6 3 6 5 6 7 5 6 6 5 5 5 6 6\n",
      " 5 6 5 5 5 6 6 5 7 7 6 3 6 5 5 6 5 7 5 6 5 6 5 5 5 5 5 5 6 5 6 7 5 6 5 5 4\n",
      " 6 5 5 5 6 6 4 6 6 5 6 5 5 5 5 5 6 6 6 6 6 6 6 6 6 7 5 6 6 5 6 5 5 6 6 5 5\n",
      " 5 6 6 6 6 7 5 6 5 6 5 5 5 6 6 5 5 5 5 6 6 6 6 5 5 5 7 5 6 6 7 5 6 6 5 5 6\n",
      " 5 5 6 5 5 6 5 6 6 6 6 6 5 5 5 5 6 6 6 5 5 6 5 5 7 5 5 6 7 6 4 5 6 5 5 6 6\n",
      " 5 7 6 6 5 4 6 5 6 6 6 5 6 5 5 5 6 5 5 6 6 5 5 7 6 5 5 5 5 6 6 5 6 5 5 5 5\n",
      " 6 6 5 5 5 6 4 5 5 5 6 6 6 6 5 6 5 7 5 5 6 6 6 7 6 5 6 6 5 6 7 6 5 6 6 5 7\n",
      " 6 5 5 5 5 5 5 6 5 7 5 5 6 6 5 5 5 7 5 4 6 5 6 5 6 6 5 6 5 6 6 6 6 6 7 6 6\n",
      " 6 5 6 6 5 6 6 7 6 6 6 6 6 6 5 5 5 6 6 6 4 6 5 6 5 5 6 6 6 4 5 7 6 4 5 6 6\n",
      " 5 5 5 5 6 6 5 6 3 5 6 6 5 5 7 6 6 6 5 5 5 6 5 6 6 6 5 7 5 5 5 6 5 5 6 7 7\n",
      " 5 5 5 6 5 5 6 6 7 5 5 6 5 5 6 6 7 5 5 5 5 4 6 5 6 6 5 5 6 6 6 6 6 5 5 6 6\n",
      " 5 6 6 7 6 6 5 7 6 5 6 6 5 5 6 5 5 5 5 6 5 6 5 4 6 6 5 5 5 6 5 5 5 5 5 6 5\n",
      " 6 6 6 5 6 7 6 6 5 5 5 5 6 7 6 7 5 6 5 6 5 6 6 6 5 6 5 6 6 5 5 6 6 6 6 6 6\n",
      " 5 5 5 5 6 6 6 5 5 7 7 7 5 6 5 6 6 6 5 6 5 7 5 6 6 5 5 5 5 6 6 5 6 6 4 5 6\n",
      " 5 5 7 7 7 5 5 5 6 6 6 7 5 7 6 6]\n",
      "[6 4 6 5 5 5 5 5 6 6 5 6 5 5 6 5 5 7 5 6 5 6 6 4 5 5 5 6 5 5 6 6 6 6 6 5 6\n",
      " 6 5 6 6 6 5 5 6 6 5 5 5 6 6 6 7 5 6 6 5 6 5 6 6 6 6 6 6 6 6 5 6 7 5 6 5 6\n",
      " 5 5 5 6 6 5 6 7 6 5 7 6 5 6 5 5 5 5 7 5 6 6 6 6 6 5 5 6 6 6 6 5 5 7 6 3 7\n",
      " 7 7 5 6 6 6 5 6 6 5 5 6 5 6 6 7 5 4 6 4 5 5 6 6 5 6 5 5 6 5 6 6 5 7 5 5 7\n",
      " 4 4 5 7 5 6 5 6 5 5 5 5 6 5 6 5 6 5 7 7 6 5 5 6 6 5 5 6 5 6 5 6 5 6 5 4 7\n",
      " 6 6 6 5 7 5 5 6 5 5 5 5 6 5 6 5 6 6 6 6 5 6 6 5 5 5 6 5 6 6 5 6 4 6 5 5 6\n",
      " 6 5 5 6 4 6 6 7 7 5 6 5 5 6 6 5 6 5 7 5 5 5 5]\n"
     ]
    }
   ],
   "outputs_reference": "s3:deepnote-cell-outputs-production/1a797732-f7a7-4dbf-bbf3-fbb9f89750d7",
   "source": [
    "# Inisialisasi dan pelatihan model\n",
    "c1 = KNeighborsClassifier(n_neighbors=3)\n",
    "c1.fit(X_train, Y_train)\n",
    "\n",
    "# Prediksi pada data pelatihan\n",
    "p1 = c1.predict(X_train)\n",
    "p1_test = c1.predict(X_test)\n",
    "print(p1)\n",
    "print(p1_test)"
   ]
  },
  {
   "block_group": "fcb8222fff3042d6aa86927130160d1d",
   "cell_type": "markdown",
   "metadata": {
    "cell_id": "87c6bc6a519a4ddd9d9172a5e8c6c1e6",
    "deepnote_cell_type": "text-cell-h2",
    "formattedRanges": []
   },
   "source": [
    "## Model KNN dengan n_neighbour=5"
   ]
  },
  {
   "block_group": "c269b1b88ac14e7286a983f91176a531",
   "cell_type": "code",
   "content_dependencies": null,
   "execution_count": null,
   "metadata": {
    "cell_id": "06e0f1aa79994497ad973dd8f42ab373",
    "deepnote_cell_type": "code",
    "deepnote_to_be_reexecuted": false,
    "execution_millis": 349,
    "execution_start": 1718197907457,
    "source_hash": null
   },
   "outputs": [
    {
     "name": "stdout",
     "output_type": "stream",
     "text": [
      "[6 6 5 5 5 5 6 6 6 5 6 6 5 6 5 5 6 5 6 6 6 5 5 6 5 5 5 7 6 5 6 6 5 5 5 5 6\n",
      " 6 5 5 6 5 6 5 6 5 6 6 6 6 6 5 5 5 5 5 6 6 6 6 5 5 6 6 6 7 6 6 5 5 7 5 5 6\n",
      " 6 7 5 5 5 5 6 5 5 5 5 5 5 7 6 6 6 5 5 6 6 6 6 6 6 5 6 5 6 6 5 5 5 6 5 6 6\n",
      " 6 6 6 5 6 6 6 6 6 5 5 6 6 6 5 7 5 6 6 6 6 5 5 6 7 3 6 5 5 6 5 6 6 5 5 5 6\n",
      " 6 5 5 5 5 5 6 6 6 6 5 5 5 6 5 5 5 5 6 5 6 6 7 5 5 6 6 6 6 5 6 5 5 5 5 6 6\n",
      " 6 5 6 6 6 6 5 6 6 5 7 6 5 6 6 5 7 6 6 7 5 5 5 6 6 5 5 5 6 6 6 6 5 6 7 6 6\n",
      " 7 5 5 6 5 5 5 5 6 5 5 5 5 5 5 5 6 6 5 6 6 6 6 6 5 7 6 5 5 5 5 6 7 6 6 5 5\n",
      " 5 6 5 5 5 6 5 5 6 5 6 5 5 6 5 5 5 5 5 5 5 5 6 6 5 6 5 5 6 5 6 5 5 5 5 6 7\n",
      " 5 6 6 5 6 6 5 6 5 6 6 5 5 7 5 5 5 5 5 5 6 5 5 5 5 5 5 7 5 5 6 5 6 6 5 5 5\n",
      " 5 5 5 7 5 6 6 5 5 6 6 5 5 6 6 5 7 6 6 7 5 5 5 7 5 7 6 5 5 6 5 5 5 6 7 5 5\n",
      " 5 6 6 6 6 5 5 6 6 6 6 5 7 5 6 6 7 5 6 5 6 5 6 6 6 5 5 5 5 4 7 5 5 5 5 6 6\n",
      " 6 5 5 5 6 5 5 5 5 6 5 5 6 5 7 5 6 5 6 6 5 5 6 6 5 7 6 5 5 7 5 6 7 6 5 6 6\n",
      " 6 5 7 6 6 6 5 6 6 6 6 6 7 6 6 6 5 6 5 5 5 5 7 6 3 6 5 6 6 5 6 7 5 5 5 6 6\n",
      " 5 6 5 5 5 6 6 5 7 7 5 5 6 4 5 6 7 6 5 5 5 6 5 5 5 5 5 5 5 5 6 7 5 6 5 5 7\n",
      " 5 5 5 5 6 5 4 6 6 5 6 5 5 5 6 5 6 5 6 6 6 6 6 6 5 6 6 6 6 6 6 6 5 6 6 5 5\n",
      " 5 6 6 6 6 6 5 5 5 5 5 5 5 6 6 5 5 5 5 6 5 6 6 5 6 5 5 5 6 6 7 5 6 6 5 5 7\n",
      " 5 5 6 5 5 6 5 6 6 5 6 6 5 5 5 5 6 5 6 5 5 6 5 5 7 5 5 6 7 6 5 5 6 5 5 6 7\n",
      " 5 7 6 6 5 5 5 5 7 6 6 5 6 6 5 5 6 5 5 6 6 5 5 5 5 5 5 5 5 6 6 5 6 5 5 6 5\n",
      " 6 6 5 5 5 6 5 6 5 6 6 5 6 6 5 6 5 7 5 5 7 6 6 7 6 5 6 5 5 6 7 6 5 6 6 5 7\n",
      " 6 5 5 5 5 5 5 6 5 7 5 5 6 6 5 5 5 7 4 6 6 5 6 5 6 6 5 5 5 6 6 6 6 6 6 6 6\n",
      " 6 4 6 6 5 6 5 7 5 5 6 5 6 6 5 5 5 6 6 6 6 5 5 6 5 5 6 6 6 6 5 7 6 5 5 6 6\n",
      " 5 5 5 5 5 6 5 6 5 5 6 6 5 5 6 6 6 6 5 5 5 6 5 6 6 6 5 7 5 5 5 6 5 6 6 5 6\n",
      " 5 5 5 6 5 5 6 6 5 5 5 7 5 5 6 6 7 5 6 5 5 6 6 5 6 5 5 5 6 6 6 6 6 5 5 6 6\n",
      " 5 5 6 6 5 6 5 6 6 5 6 6 5 6 6 5 6 5 6 6 5 6 6 5 6 5 5 5 5 6 5 6 5 5 5 5 5\n",
      " 6 5 5 5 5 7 6 6 5 5 5 5 6 7 5 7 5 6 6 6 5 6 6 5 5 6 5 6 6 5 5 6 6 6 6 6 6\n",
      " 5 5 5 5 6 5 6 5 5 7 5 5 5 6 5 6 6 5 5 6 5 7 6 5 6 5 5 5 5 6 6 5 6 6 5 5 6\n",
      " 5 5 7 5 7 6 5 6 5 6 6 5 5 7 6 6]\n",
      "[6 5 6 5 6 5 5 5 6 5 5 5 5 6 6 5 5 7 5 6 5 6 6 5 5 5 5 6 5 5 5 6 6 6 5 5 6\n",
      " 6 5 6 6 6 5 5 6 5 5 5 5 6 6 6 7 5 6 6 6 6 5 5 6 6 6 6 6 6 6 5 6 6 6 5 5 6\n",
      " 5 5 5 6 6 5 6 7 6 5 7 5 6 6 5 5 5 6 5 5 6 6 5 5 6 5 5 6 6 6 5 6 5 5 5 7 7\n",
      " 7 6 5 6 6 5 5 5 6 5 6 7 5 6 6 6 5 5 6 6 5 5 6 6 5 6 5 5 6 5 5 5 5 6 5 5 5\n",
      " 5 6 5 7 5 6 5 6 5 5 5 5 6 5 6 5 6 5 7 6 6 5 5 6 5 5 6 6 5 6 5 6 5 6 5 7 7\n",
      " 6 5 6 5 6 5 5 5 5 5 5 5 6 5 6 5 6 6 6 6 6 6 6 6 5 5 6 5 6 6 5 6 5 6 5 5 6\n",
      " 5 5 5 6 5 5 6 7 5 6 6 5 5 6 6 5 7 6 7 6 5 5 5]\n"
     ]
    }
   ],
   "outputs_reference": "s3:deepnote-cell-outputs-production/7502ec97-f46d-4a2c-b011-66782b2f51c9",
   "source": [
    "# Inisialisasi dan pelatihan model\n",
    "c2 = KNeighborsClassifier(n_neighbors=5)\n",
    "c2.fit(X_train, Y_train)\n",
    "\n",
    "# Prediksi pada data pelatihan\n",
    "p2 = c2.predict(X_train)\n",
    "p2_test = c2.predict(X_test)\n",
    "print(p2)\n",
    "print(p2_test)"
   ]
  },
  {
   "block_group": "61812c840f844cb29c6bbd368472640f",
   "cell_type": "code",
   "content_dependencies": null,
   "execution_count": null,
   "metadata": {
    "cell_id": "5d344304be294ec5a8a2e91abf1c9d78",
    "deepnote_cell_type": "code",
    "deepnote_to_be_reexecuted": false,
    "execution_millis": 284,
    "execution_start": 1718197907523,
    "source_hash": null
   },
   "outputs": [
    {
     "data": {
      "application/vnd.deepnote.dataframe.v3+json": {
       "column_count": 3,
       "columns": [
        {
         "dtype": "int64",
         "name": "p1",
         "stats": {
          "histogram": [
           {
            "bin_end": 3.4,
            "bin_start": 3,
            "count": 7
           },
           {
            "bin_end": 3.8,
            "bin_start": 3.4,
            "count": 0
           },
           {
            "bin_end": 4.2,
            "bin_start": 3.8,
            "count": 25
           },
           {
            "bin_end": 4.6,
            "bin_start": 4.2,
            "count": 0
           },
           {
            "bin_end": 5,
            "bin_start": 4.6,
            "count": 0
           },
           {
            "bin_end": 5.4,
            "bin_start": 5,
            "count": 439
           },
           {
            "bin_end": 5.800000000000001,
            "bin_start": 5.4,
            "count": 0
           },
           {
            "bin_end": 6.2,
            "bin_start": 5.800000000000001,
            "count": 423
           },
           {
            "bin_end": 6.6,
            "bin_start": 6.2,
            "count": 0
           },
           {
            "bin_end": 7,
            "bin_start": 6.6,
            "count": 84
           }
          ],
          "max": "7",
          "min": "3",
          "nan_count": 0,
          "unique_count": 5
         }
        },
        {
         "dtype": "int64",
         "name": "p2",
         "stats": {
          "histogram": [
           {
            "bin_end": 3.4,
            "bin_start": 3,
            "count": 2
           },
           {
            "bin_end": 3.8,
            "bin_start": 3.4,
            "count": 0
           },
           {
            "bin_end": 4.2,
            "bin_start": 3.8,
            "count": 5
           },
           {
            "bin_end": 4.6,
            "bin_start": 4.2,
            "count": 0
           },
           {
            "bin_end": 5,
            "bin_start": 4.6,
            "count": 0
           },
           {
            "bin_end": 5.4,
            "bin_start": 5,
            "count": 486
           },
           {
            "bin_end": 5.800000000000001,
            "bin_start": 5.4,
            "count": 0
           },
           {
            "bin_end": 6.2,
            "bin_start": 5.800000000000001,
            "count": 418
           },
           {
            "bin_end": 6.6,
            "bin_start": 6.2,
            "count": 0
           },
           {
            "bin_end": 7,
            "bin_start": 6.6,
            "count": 67
           }
          ],
          "max": "7",
          "min": "3",
          "nan_count": 0,
          "unique_count": 5
         }
        },
        {
         "dtype": "int64",
         "name": "Y train",
         "stats": {
          "histogram": [
           {
            "bin_end": 3.5,
            "bin_start": 3,
            "count": 5
           },
           {
            "bin_end": 4,
            "bin_start": 3.5,
            "count": 0
           },
           {
            "bin_end": 4.5,
            "bin_start": 4,
            "count": 33
           },
           {
            "bin_end": 5,
            "bin_start": 4.5,
            "count": 0
           },
           {
            "bin_end": 5.5,
            "bin_start": 5,
            "count": 401
           },
           {
            "bin_end": 6,
            "bin_start": 5.5,
            "count": 0
           },
           {
            "bin_end": 6.5,
            "bin_start": 6,
            "count": 409
           },
           {
            "bin_end": 7,
            "bin_start": 6.5,
            "count": 0
           },
           {
            "bin_end": 7.5,
            "bin_start": 7,
            "count": 117
           },
           {
            "bin_end": 8,
            "bin_start": 7.5,
            "count": 13
           }
          ],
          "max": "8",
          "min": "3",
          "nan_count": 0,
          "unique_count": 6
         }
        },
        {
         "dtype": "int64",
         "name": "_deepnote_index_column"
        }
       ],
       "row_count": 978,
       "rows": [
        {
         "Y train": 6,
         "_deepnote_index_column": 1147,
         "p1": 6,
         "p2": 6
        },
        {
         "Y train": 5,
         "_deepnote_index_column": 119,
         "p1": 4,
         "p2": 6
        },
        {
         "Y train": 5,
         "_deepnote_index_column": 238,
         "p1": 6,
         "p2": 5
        },
        {
         "Y train": 5,
         "_deepnote_index_column": 808,
         "p1": 6,
         "p2": 5
        },
        {
         "Y train": 5,
         "_deepnote_index_column": 446,
         "p1": 5,
         "p2": 5
        },
        {
         "Y train": 5,
         "_deepnote_index_column": 573,
         "p1": 5,
         "p2": 5
        },
        {
         "Y train": 3,
         "_deepnote_index_column": 1173,
         "p1": 3,
         "p2": 6
        },
        {
         "Y train": 5,
         "_deepnote_index_column": 941,
         "p1": 5,
         "p2": 6
        },
        {
         "Y train": 6,
         "_deepnote_index_column": 103,
         "p1": 6,
         "p2": 6
        },
        {
         "Y train": 5,
         "_deepnote_index_column": 492,
         "p1": 5,
         "p2": 5
        }
       ]
      },
      "text/html": [
       "<div>\n",
       "<style scoped>\n",
       "    .dataframe tbody tr th:only-of-type {\n",
       "        vertical-align: middle;\n",
       "    }\n",
       "\n",
       "    .dataframe tbody tr th {\n",
       "        vertical-align: top;\n",
       "    }\n",
       "\n",
       "    .dataframe thead th {\n",
       "        text-align: right;\n",
       "    }\n",
       "</style>\n",
       "<table border=\"1\" class=\"dataframe\">\n",
       "  <thead>\n",
       "    <tr style=\"text-align: right;\">\n",
       "      <th></th>\n",
       "      <th>p1</th>\n",
       "      <th>p2</th>\n",
       "      <th>Y train</th>\n",
       "    </tr>\n",
       "  </thead>\n",
       "  <tbody>\n",
       "    <tr>\n",
       "      <th>1147</th>\n",
       "      <td>6</td>\n",
       "      <td>6</td>\n",
       "      <td>6</td>\n",
       "    </tr>\n",
       "    <tr>\n",
       "      <th>119</th>\n",
       "      <td>4</td>\n",
       "      <td>6</td>\n",
       "      <td>5</td>\n",
       "    </tr>\n",
       "    <tr>\n",
       "      <th>238</th>\n",
       "      <td>6</td>\n",
       "      <td>5</td>\n",
       "      <td>5</td>\n",
       "    </tr>\n",
       "    <tr>\n",
       "      <th>808</th>\n",
       "      <td>6</td>\n",
       "      <td>5</td>\n",
       "      <td>5</td>\n",
       "    </tr>\n",
       "    <tr>\n",
       "      <th>446</th>\n",
       "      <td>5</td>\n",
       "      <td>5</td>\n",
       "      <td>5</td>\n",
       "    </tr>\n",
       "    <tr>\n",
       "      <th>...</th>\n",
       "      <td>...</td>\n",
       "      <td>...</td>\n",
       "      <td>...</td>\n",
       "    </tr>\n",
       "    <tr>\n",
       "      <th>886</th>\n",
       "      <td>7</td>\n",
       "      <td>5</td>\n",
       "      <td>7</td>\n",
       "    </tr>\n",
       "    <tr>\n",
       "      <th>143</th>\n",
       "      <td>5</td>\n",
       "      <td>5</td>\n",
       "      <td>5</td>\n",
       "    </tr>\n",
       "    <tr>\n",
       "      <th>474</th>\n",
       "      <td>7</td>\n",
       "      <td>7</td>\n",
       "      <td>7</td>\n",
       "    </tr>\n",
       "    <tr>\n",
       "      <th>318</th>\n",
       "      <td>6</td>\n",
       "      <td>6</td>\n",
       "      <td>6</td>\n",
       "    </tr>\n",
       "    <tr>\n",
       "      <th>1156</th>\n",
       "      <td>6</td>\n",
       "      <td>6</td>\n",
       "      <td>6</td>\n",
       "    </tr>\n",
       "  </tbody>\n",
       "</table>\n",
       "<p>978 rows × 3 columns</p>\n",
       "</div>"
      ],
      "text/plain": [
       "      p1  p2  Y train\n",
       "1147   6   6        6\n",
       "119    4   6        5\n",
       "238    6   5        5\n",
       "808    6   5        5\n",
       "446    5   5        5\n",
       "...   ..  ..      ...\n",
       "886    7   5        7\n",
       "143    5   5        5\n",
       "474    7   7        7\n",
       "318    6   6        6\n",
       "1156   6   6        6\n",
       "\n",
       "[978 rows x 3 columns]"
      ]
     },
     "execution_count": 27,
     "metadata": {},
     "output_type": "execute_result"
    }
   ],
   "outputs_reference": "s3:deepnote-cell-outputs-production/e8213026-de40-486f-bd61-e98b509fde70",
   "source": [
    "df_meta = pd.DataFrame({'p1': p1, 'p2': p2, 'Y train' : Y_train})\n",
    "df_meta"
   ]
  },
  {
   "block_group": "fc1a2461b46d4fec9cd7b3d515890213",
   "cell_type": "markdown",
   "metadata": {
    "cell_id": "57500093b6db4893b972ca9da9375dbf",
    "deepnote_cell_type": "text-cell-h2",
    "formattedRanges": []
   },
   "source": [
    "## Meta-classifier Menggunakan Gaussian Naive Bayes"
   ]
  },
  {
   "block_group": "433e67cfb9984b059122b48c7a0173ae",
   "cell_type": "code",
   "content_dependencies": null,
   "execution_count": null,
   "metadata": {
    "cell_id": "01b9ebf83d2746cf84cba82f9ccbd135",
    "deepnote_cell_type": "code",
    "deepnote_to_be_reexecuted": false,
    "execution_millis": 284,
    "execution_start": 1718197907523,
    "source_hash": null
   },
   "outputs": [
    {
     "name": "stdout",
     "output_type": "stream",
     "text": [
      "Akurasi : 49.80%\n"
     ]
    }
   ],
   "outputs_reference": "dbtable:cell_outputs/9b02f87e-ba50-4908-a97e-af70e8e1ab9d",
   "source": [
    "# Menggabungkan prediksi dari kedua model KNN sebagai fitur baru\n",
    "f_meta = np.column_stack((p1, p2))\n",
    "X_test = np.column_stack((p1_test, p2_test))\n",
    "\n",
    "# Inisialisasi dan pelatihan meta-classifier Naive Bayes\n",
    "meta_classifier = GaussianNB()\n",
    "meta_classifier.fit(f_meta, Y_train)\n",
    "predict = meta_classifier.predict(X_test)\n",
    "\n",
    "accuracy = accuracy_score(predict, Y_test)\n",
    "print(f'Akurasi : {accuracy * 100:.2f}%')"
   ]
  },
  {
   "block_group": "5fee064c6b57464c8ddf6183c3c5500d",
   "cell_type": "markdown",
   "metadata": {
    "cell_id": "1440262617314af3b16e0ce72337e8c2",
    "deepnote_cell_type": "text-cell-h2",
    "formattedRanges": []
   },
   "source": [
    "## Prediksi dengan data baru"
   ]
  },
  {
   "block_group": "88b1c6e62b5c4684b47a9572c07267c7",
   "cell_type": "code",
   "content_dependencies": null,
   "execution_count": null,
   "metadata": {
    "cell_id": "3841e6b98f87490d8ec9ffda8f571458",
    "deepnote_cell_type": "code",
    "deepnote_to_be_reexecuted": false,
    "execution_millis": 538,
    "execution_start": 1718197907575,
    "source_hash": null
   },
   "outputs": [
    {
     "name": "stdout",
     "output_type": "stream",
     "text": [
      "Akurasi : 49.80%\n",
      "Prediksi untuk data baru memiliki kualialitas wine sebesar [5]\n",
      "/shared-libs/python3.11/py/lib/python3.11/site-packages/sklearn/base.py:465: UserWarning: X does not have valid feature names, but KNeighborsClassifier was fitted with feature names\n",
      "  warnings.warn(\n",
      "/shared-libs/python3.11/py/lib/python3.11/site-packages/sklearn/base.py:465: UserWarning: X does not have valid feature names, but KNeighborsClassifier was fitted with feature names\n",
      "  warnings.warn(\n"
     ]
    }
   ],
   "outputs_reference": "dbtable:cell_outputs/3e10f57a-23d5-4843-9a82-00aff78936e5",
   "source": [
    "from sklearn.naive_bayes import GaussianNB\n",
    "from sklearn.metrics import accuracy_score\n",
    "import numpy as np\n",
    "import pandas as pd\n",
    "\n",
    "# Menggabungkan prediksi dari kedua model KNN sebagai fitur baru\n",
    "f_meta_train = np.column_stack((p1, p2))\n",
    "f_meta_test = np.column_stack((p1_test, p2_test))\n",
    "\n",
    "# Data baru untuk prediksi\n",
    "X_new = [[5.6, 0.5, 0.09, 2.3, 0.049, 17, 99, 0.9937, 3.63, 0.63, 13]]\n",
    "\n",
    "# Inisialisasi dan pelatihan meta-classifier Naive Bayes\n",
    "meta_classifier = GaussianNB()\n",
    "meta_classifier.fit(f_meta_train, Y_train)\n",
    "\n",
    "# Prediksi menggunakan meta-classifier\n",
    "predict = meta_classifier.predict(f_meta_test)\n",
    "\n",
    "# Menghitung akurasi prediksi\n",
    "accuracy = accuracy_score(Y_test, predict)\n",
    "print(f'Akurasi : {accuracy * 100:.2f}%')\n",
    "\n",
    "# Prediksi data baru menggunakan model KNN\n",
    "p1_new = c1.predict(X_new)\n",
    "p2_new = c2.predict(X_new)\n",
    "\n",
    "# Menggabungkan prediksi KNN sebagai fitur baru untuk data baru\n",
    "f_meta_new = np.column_stack((p1_new, p2_new))\n",
    "\n",
    "# Prediksi data baru menggunakan meta-classifier Naive Bayes\n",
    "predict_new = meta_classifier.predict(f_meta_new)\n",
    "print(f'Prediksi untuk data baru memiliki kualialitas wine sebesar {predict_new}')"
   ]
  },
  {
   "block_group": "d6d76319d7ec4aa398d40045f44bc8de",
   "cell_type": "code",
   "content_dependencies": null,
   "execution_count": null,
   "metadata": {
    "cell_id": "ab3b6cc8b2ac45eaa7821f2dcc707f75",
    "deepnote_cell_type": "code",
    "deepnote_to_be_reexecuted": false,
    "execution_millis": 537,
    "execution_start": 1718197907576,
    "source_hash": null
   },
   "outputs": [
    {
     "data": {
      "application/vnd.deepnote.dataframe.v3+json": {
       "column_count": 13,
       "columns": [
        {
         "dtype": "int64",
         "name": "id",
         "stats": {
          "histogram": [
           {
            "bin_end": 136.7,
            "bin_start": 1,
            "count": 125
           },
           {
            "bin_end": 272.4,
            "bin_start": 136.7,
            "count": 128
           },
           {
            "bin_end": 408.09999999999997,
            "bin_start": 272.4,
            "count": 128
           },
           {
            "bin_end": 543.8,
            "bin_start": 408.09999999999997,
            "count": 122
           },
           {
            "bin_end": 679.5,
            "bin_start": 543.8,
            "count": 125
           },
           {
            "bin_end": 815.1999999999999,
            "bin_start": 679.5,
            "count": 121
           },
           {
            "bin_end": 950.8999999999999,
            "bin_start": 815.1999999999999,
            "count": 113
           },
           {
            "bin_end": 1086.6,
            "bin_start": 950.8999999999999,
            "count": 120
           },
           {
            "bin_end": 1222.3,
            "bin_start": 1086.6,
            "count": 127
           },
           {
            "bin_end": 1358,
            "bin_start": 1222.3,
            "count": 114
           }
          ],
          "max": "1358",
          "min": "1",
          "nan_count": 0,
          "unique_count": 1223
         }
        },
        {
         "dtype": "float64",
         "name": "fixed_acidity",
         "stats": {
          "histogram": [
           {
            "bin_end": 5.82,
            "bin_start": 4.7,
            "count": 34
           },
           {
            "bin_end": 6.9399999999999995,
            "bin_start": 5.82,
            "count": 139
           },
           {
            "bin_end": 8.059999999999999,
            "bin_start": 6.9399999999999995,
            "count": 406
           },
           {
            "bin_end": 9.18,
            "bin_start": 8.059999999999999,
            "count": 284
           },
           {
            "bin_end": 10.3,
            "bin_start": 9.18,
            "count": 163
           },
           {
            "bin_end": 11.419999999999998,
            "bin_start": 10.3,
            "count": 106
           },
           {
            "bin_end": 12.54,
            "bin_start": 11.419999999999998,
            "count": 59
           },
           {
            "bin_end": 13.66,
            "bin_start": 12.54,
            "count": 25
           },
           {
            "bin_end": 14.779999999999998,
            "bin_start": 13.66,
            "count": 4
           },
           {
            "bin_end": 15.9,
            "bin_start": 14.779999999999998,
            "count": 3
           }
          ],
          "max": "15.9",
          "min": "4.7",
          "nan_count": 0,
          "unique_count": 91
         }
        },
        {
         "dtype": "float64",
         "name": "volatile_acidity",
         "stats": {
          "histogram": [
           {
            "bin_end": 0.266,
            "bin_start": 0.12,
            "count": 54
           },
           {
            "bin_end": 0.412,
            "bin_start": 0.266,
            "count": 318
           },
           {
            "bin_end": 0.5579999999999999,
            "bin_start": 0.412,
            "count": 341
           },
           {
            "bin_end": 0.704,
            "bin_start": 0.5579999999999999,
            "count": 346
           },
           {
            "bin_end": 0.85,
            "bin_start": 0.704,
            "count": 111
           },
           {
            "bin_end": 0.9959999999999999,
            "bin_start": 0.85,
            "count": 33
           },
           {
            "bin_end": 1.142,
            "bin_start": 0.9959999999999999,
            "count": 14
           },
           {
            "bin_end": 1.2879999999999998,
            "bin_start": 1.142,
            "count": 3
           },
           {
            "bin_end": 1.4339999999999997,
            "bin_start": 1.2879999999999998,
            "count": 2
           },
           {
            "bin_end": 1.58,
            "bin_start": 1.4339999999999997,
            "count": 1
           }
          ],
          "max": "1.58",
          "min": "0.12",
          "nan_count": 0,
          "unique_count": 136
         }
        },
        {
         "dtype": "float64",
         "name": "citric_acid",
         "stats": {
          "histogram": [
           {
            "bin_end": 0.1,
            "bin_start": 0,
            "count": 285
           },
           {
            "bin_end": 0.2,
            "bin_start": 0.1,
            "count": 143
           },
           {
            "bin_end": 0.30000000000000004,
            "bin_start": 0.2,
            "count": 249
           },
           {
            "bin_end": 0.4,
            "bin_start": 0.30000000000000004,
            "count": 154
           },
           {
            "bin_end": 0.5,
            "bin_start": 0.4,
            "count": 222
           },
           {
            "bin_end": 0.6000000000000001,
            "bin_start": 0.5,
            "count": 104
           },
           {
            "bin_end": 0.7000000000000001,
            "bin_start": 0.6000000000000001,
            "count": 53
           },
           {
            "bin_end": 0.8,
            "bin_start": 0.7000000000000001,
            "count": 12
           },
           {
            "bin_end": 0.9,
            "bin_start": 0.8,
            "count": 0
           },
           {
            "bin_end": 1,
            "bin_start": 0.9,
            "count": 1
           }
          ],
          "max": "1.0",
          "min": "0.0",
          "nan_count": 0,
          "unique_count": 79
         }
        },
        {
         "dtype": "float64",
         "name": "residual_sugar",
         "stats": {
          "histogram": [
           {
            "bin_end": 2.18,
            "bin_start": 1.2,
            "count": 558
           },
           {
            "bin_end": 3.16,
            "bin_start": 2.18,
            "count": 516
           },
           {
            "bin_end": 4.140000000000001,
            "bin_start": 3.16,
            "count": 70
           },
           {
            "bin_end": 5.12,
            "bin_start": 4.140000000000001,
            "count": 22
           },
           {
            "bin_end": 6.1000000000000005,
            "bin_start": 5.12,
            "count": 27
           },
           {
            "bin_end": 7.080000000000001,
            "bin_start": 6.1000000000000005,
            "count": 12
           },
           {
            "bin_end": 8.06,
            "bin_start": 7.080000000000001,
            "count": 7
           },
           {
            "bin_end": 9.040000000000001,
            "bin_start": 8.06,
            "count": 8
           },
           {
            "bin_end": 10.02,
            "bin_start": 9.040000000000001,
            "count": 0
           },
           {
            "bin_end": 11,
            "bin_start": 10.02,
            "count": 3
           }
          ],
          "max": "11.0",
          "min": "1.2",
          "nan_count": 0,
          "unique_count": 79
         }
        },
        {
         "dtype": "float64",
         "name": "chlorides",
         "stats": {
          "histogram": [
           {
            "bin_end": 0.0917,
            "bin_start": 0.034,
            "count": 928
           },
           {
            "bin_end": 0.14939999999999998,
            "bin_start": 0.0917,
            "count": 242
           },
           {
            "bin_end": 0.20709999999999998,
            "bin_start": 0.14939999999999998,
            "count": 21
           },
           {
            "bin_end": 0.2648,
            "bin_start": 0.20709999999999998,
            "count": 11
           },
           {
            "bin_end": 0.3225,
            "bin_start": 0.2648,
            "count": 1
           },
           {
            "bin_end": 0.3802,
            "bin_start": 0.3225,
            "count": 8
           },
           {
            "bin_end": 0.43789999999999996,
            "bin_start": 0.3802,
            "count": 8
           },
           {
            "bin_end": 0.49559999999999993,
            "bin_start": 0.43789999999999996,
            "count": 2
           },
           {
            "bin_end": 0.5533,
            "bin_start": 0.49559999999999993,
            "count": 0
           },
           {
            "bin_end": 0.611,
            "bin_start": 0.5533,
            "count": 2
           }
          ],
          "max": "0.611",
          "min": "0.034",
          "nan_count": 0,
          "unique_count": 140
         }
        },
        {
         "dtype": "int64",
         "name": "free_sulfur_dioxide",
         "stats": {
          "histogram": [
           {
            "bin_end": 7.7,
            "bin_start": 1,
            "count": 333
           },
           {
            "bin_end": 14.4,
            "bin_start": 7.7,
            "count": 341
           },
           {
            "bin_end": 21.1,
            "bin_start": 14.4,
            "count": 278
           },
           {
            "bin_end": 27.8,
            "bin_start": 21.1,
            "count": 129
           },
           {
            "bin_end": 34.5,
            "bin_start": 27.8,
            "count": 93
           },
           {
            "bin_end": 41.2,
            "bin_start": 34.5,
            "count": 34
           },
           {
            "bin_end": 47.9,
            "bin_start": 41.2,
            "count": 8
           },
           {
            "bin_end": 54.6,
            "bin_start": 47.9,
            "count": 5
           },
           {
            "bin_end": 61.300000000000004,
            "bin_start": 54.6,
            "count": 0
           },
           {
            "bin_end": 68,
            "bin_start": 61.300000000000004,
            "count": 2
           }
          ],
          "max": "68",
          "min": "1",
          "nan_count": 0,
          "unique_count": 51
         }
        },
        {
         "dtype": "int64",
         "name": "total_sulfur_dioxide",
         "stats": {
          "histogram": [
           {
            "bin_end": 20.9,
            "bin_start": 6,
            "count": 284
           },
           {
            "bin_end": 35.8,
            "bin_start": 20.9,
            "count": 289
           },
           {
            "bin_end": 50.7,
            "bin_start": 35.8,
            "count": 251
           },
           {
            "bin_end": 65.6,
            "bin_start": 50.7,
            "count": 143
           },
           {
            "bin_end": 80.5,
            "bin_start": 65.6,
            "count": 90
           },
           {
            "bin_end": 95.4,
            "bin_start": 80.5,
            "count": 72
           },
           {
            "bin_end": 110.3,
            "bin_start": 95.4,
            "count": 38
           },
           {
            "bin_end": 125.2,
            "bin_start": 110.3,
            "count": 27
           },
           {
            "bin_end": 140.1,
            "bin_start": 125.2,
            "count": 15
           },
           {
            "bin_end": 155,
            "bin_start": 140.1,
            "count": 14
           }
          ],
          "max": "155",
          "min": "6",
          "nan_count": 0,
          "unique_count": 132
         }
        },
        {
         "dtype": "float64",
         "name": "density",
         "stats": {
          "histogram": [
           {
            "bin_end": 10.89368,
            "bin_start": 0.9902,
            "count": 1218
           },
           {
            "bin_end": 20.79716,
            "bin_start": 10.89368,
            "count": 0
           },
           {
            "bin_end": 30.70064,
            "bin_start": 20.79716,
            "count": 0
           },
           {
            "bin_end": 40.60412,
            "bin_start": 30.70064,
            "count": 0
           },
           {
            "bin_end": 50.507600000000004,
            "bin_start": 40.60412,
            "count": 0
           },
           {
            "bin_end": 60.41108,
            "bin_start": 50.507600000000004,
            "count": 0
           },
           {
            "bin_end": 70.31456,
            "bin_start": 60.41108,
            "count": 0
           },
           {
            "bin_end": 80.21804,
            "bin_start": 70.31456,
            "count": 0
           },
           {
            "bin_end": 90.12152,
            "bin_start": 80.21804,
            "count": 0
           },
           {
            "bin_end": 100.025,
            "bin_start": 90.12152,
            "count": 5
           }
          ],
          "max": "100.025",
          "min": "0.9902",
          "nan_count": 0,
          "unique_count": 345
         }
        },
        {
         "dtype": "float64",
         "name": "pH",
         "stats": {
          "histogram": [
           {
            "bin_end": 2.867,
            "bin_start": 2.74,
            "count": 1
           },
           {
            "bin_end": 2.994,
            "bin_start": 2.867,
            "count": 20
           },
           {
            "bin_end": 3.121,
            "bin_start": 2.994,
            "count": 110
           },
           {
            "bin_end": 3.248,
            "bin_start": 3.121,
            "count": 293
           },
           {
            "bin_end": 3.375,
            "bin_start": 3.248,
            "count": 428
           },
           {
            "bin_end": 3.502,
            "bin_start": 3.375,
            "count": 253
           },
           {
            "bin_end": 3.6289999999999996,
            "bin_start": 3.502,
            "count": 89
           },
           {
            "bin_end": 3.756,
            "bin_start": 3.6289999999999996,
            "count": 23
           },
           {
            "bin_end": 3.883,
            "bin_start": 3.756,
            "count": 3
           },
           {
            "bin_end": 4.01,
            "bin_start": 3.883,
            "count": 3
           }
          ],
          "max": "4.01",
          "min": "2.74",
          "nan_count": 0,
          "unique_count": 86
         }
        },
        {
         "dtype": "float64",
         "name": "sulphates",
         "stats": {
          "histogram": [
           {
            "bin_end": 0.497,
            "bin_start": 0.33,
            "count": 110
           },
           {
            "bin_end": 0.6639999999999999,
            "bin_start": 0.497,
            "count": 656
           },
           {
            "bin_end": 0.831,
            "bin_start": 0.6639999999999999,
            "count": 313
           },
           {
            "bin_end": 0.998,
            "bin_start": 0.831,
            "count": 94
           },
           {
            "bin_end": 1.165,
            "bin_start": 0.998,
            "count": 28
           },
           {
            "bin_end": 1.3319999999999999,
            "bin_start": 1.165,
            "count": 10
           },
           {
            "bin_end": 1.4989999999999999,
            "bin_start": 1.3319999999999999,
            "count": 4
           },
           {
            "bin_end": 1.666,
            "bin_start": 1.4989999999999999,
            "count": 4
           },
           {
            "bin_end": 1.833,
            "bin_start": 1.666,
            "count": 0
           },
           {
            "bin_end": 2,
            "bin_start": 1.833,
            "count": 4
           }
          ],
          "max": "2.0",
          "min": "0.33",
          "nan_count": 0,
          "unique_count": 95
         }
        },
        {
         "dtype": "float64",
         "name": "alcohol",
         "stats": {
          "histogram": [
           {
            "bin_end": 9.05,
            "bin_start": 8.4,
            "count": 27
           },
           {
            "bin_end": 9.700000000000001,
            "bin_start": 9.05,
            "count": 423
           },
           {
            "bin_end": 10.350000000000001,
            "bin_start": 9.700000000000001,
            "count": 232
           },
           {
            "bin_end": 11,
            "bin_start": 10.350000000000001,
            "count": 191
           },
           {
            "bin_end": 11.65,
            "bin_start": 11,
            "count": 166
           },
           {
            "bin_end": 12.3,
            "bin_start": 11.65,
            "count": 96
           },
           {
            "bin_end": 12.95,
            "bin_start": 12.3,
            "count": 66
           },
           {
            "bin_end": 13.600000000000001,
            "bin_start": 12.95,
            "count": 15
           },
           {
            "bin_end": 14.25,
            "bin_start": 13.600000000000001,
            "count": 6
           },
           {
            "bin_end": 14.9,
            "bin_start": 14.25,
            "count": 1
           }
          ],
          "max": "14.9",
          "min": "8.4",
          "nan_count": 0,
          "unique_count": 51
         }
        },
        {
         "dtype": "int64",
         "name": "quality",
         "stats": {
          "histogram": [
           {
            "bin_end": 3.5,
            "bin_start": 3,
            "count": 6
           },
           {
            "bin_end": 4,
            "bin_start": 3.5,
            "count": 0
           },
           {
            "bin_end": 4.5,
            "bin_start": 4,
            "count": 38
           },
           {
            "bin_end": 5,
            "bin_start": 4.5,
            "count": 0
           },
           {
            "bin_end": 5.5,
            "bin_start": 5,
            "count": 506
           },
           {
            "bin_end": 6,
            "bin_start": 5.5,
            "count": 0
           },
           {
            "bin_end": 6.5,
            "bin_start": 6,
            "count": 501
           },
           {
            "bin_end": 7,
            "bin_start": 6.5,
            "count": 0
           },
           {
            "bin_end": 7.5,
            "bin_start": 7,
            "count": 159
           },
           {
            "bin_end": 8,
            "bin_start": 7.5,
            "count": 13
           }
          ],
          "max": "8",
          "min": "3",
          "nan_count": 0,
          "unique_count": 6
         }
        },
        {
         "dtype": "int64",
         "name": "_deepnote_index_column"
        }
       ],
       "row_count": 1223,
       "rows": [
        {
         "_deepnote_index_column": 0,
         "alcohol": 9.4,
         "chlorides": 0.076,
         "citric_acid": 0,
         "density": 0.9978,
         "fixed_acidity": 7.4,
         "free_sulfur_dioxide": 11,
         "id": 1,
         "pH": 3.51,
         "quality": 5,
         "residual_sugar": 1.9,
         "sulphates": 0.56,
         "total_sulfur_dioxide": 34,
         "volatile_acidity": 0.7
        },
        {
         "_deepnote_index_column": 1,
         "alcohol": 9.8,
         "chlorides": 0.092,
         "citric_acid": 0.04,
         "density": 0.997,
         "fixed_acidity": 7.8,
         "free_sulfur_dioxide": 15,
         "id": 3,
         "pH": 3.26,
         "quality": 5,
         "residual_sugar": 2.3,
         "sulphates": 0.65,
         "total_sulfur_dioxide": 54,
         "volatile_acidity": 0.76
        },
        {
         "_deepnote_index_column": 2,
         "alcohol": 9.8,
         "chlorides": 0.075,
         "citric_acid": 0.56,
         "density": 0.998,
         "fixed_acidity": 11.2,
         "free_sulfur_dioxide": 17,
         "id": 4,
         "pH": 3.16,
         "quality": 6,
         "residual_sugar": 1.9,
         "sulphates": 0.58,
         "total_sulfur_dioxide": 60,
         "volatile_acidity": 0.28
        },
        {
         "_deepnote_index_column": 3,
         "alcohol": 9.4,
         "chlorides": 0.076,
         "citric_acid": 0,
         "density": 0.9978,
         "fixed_acidity": 7.4,
         "free_sulfur_dioxide": 11,
         "id": 5,
         "pH": 3.51,
         "quality": 5,
         "residual_sugar": 1.9,
         "sulphates": 0.56,
         "total_sulfur_dioxide": 34,
         "volatile_acidity": 0.7
        },
        {
         "_deepnote_index_column": 4,
         "alcohol": 9.4,
         "chlorides": 0.075,
         "citric_acid": 0,
         "density": 0.9978,
         "fixed_acidity": 7.4,
         "free_sulfur_dioxide": 13,
         "id": 6,
         "pH": 3.51,
         "quality": 5,
         "residual_sugar": 1.8,
         "sulphates": 0.56,
         "total_sulfur_dioxide": 40,
         "volatile_acidity": 0.66
        },
        {
         "_deepnote_index_column": 5,
         "alcohol": 9.4,
         "chlorides": 0.069,
         "citric_acid": 0.06,
         "density": 0.9964,
         "fixed_acidity": 7.9,
         "free_sulfur_dioxide": 15,
         "id": 7,
         "pH": 3.3,
         "quality": 5,
         "residual_sugar": 1.6,
         "sulphates": 0.46,
         "total_sulfur_dioxide": 59,
         "volatile_acidity": 0.6
        },
        {
         "_deepnote_index_column": 6,
         "alcohol": 10,
         "chlorides": 0.065,
         "citric_acid": 0,
         "density": 0.9946,
         "fixed_acidity": 7.3,
         "free_sulfur_dioxide": 15,
         "id": 8,
         "pH": 3.39,
         "quality": 7,
         "residual_sugar": 1.2,
         "sulphates": 0.47,
         "total_sulfur_dioxide": 21,
         "volatile_acidity": 0.65
        },
        {
         "_deepnote_index_column": 7,
         "alcohol": 9.5,
         "chlorides": 0.073,
         "citric_acid": 0.02,
         "density": 0.9968,
         "fixed_acidity": 7.8,
         "free_sulfur_dioxide": 9,
         "id": 9,
         "pH": 3.36,
         "quality": 7,
         "residual_sugar": 2,
         "sulphates": 0.57,
         "total_sulfur_dioxide": 18,
         "volatile_acidity": 0.58
        },
        {
         "_deepnote_index_column": 8,
         "alcohol": 10.5,
         "chlorides": 0.071,
         "citric_acid": 0.36,
         "density": 0.9978,
         "fixed_acidity": 7.5,
         "free_sulfur_dioxide": 17,
         "id": 10,
         "pH": 3.35,
         "quality": 5,
         "residual_sugar": 6.1,
         "sulphates": 0.8,
         "total_sulfur_dioxide": 102,
         "volatile_acidity": 0.5
        },
        {
         "_deepnote_index_column": 9,
         "alcohol": 9.2,
         "chlorides": 0.097,
         "citric_acid": 0.08,
         "density": 0.9959,
         "fixed_acidity": 6.7,
         "free_sulfur_dioxide": 15,
         "id": 11,
         "pH": 3.28,
         "quality": 5,
         "residual_sugar": 1.8,
         "sulphates": 0.54,
         "total_sulfur_dioxide": 65,
         "volatile_acidity": 0.58
        }
       ]
      },
      "text/html": [
       "<div>\n",
       "<style scoped>\n",
       "    .dataframe tbody tr th:only-of-type {\n",
       "        vertical-align: middle;\n",
       "    }\n",
       "\n",
       "    .dataframe tbody tr th {\n",
       "        vertical-align: top;\n",
       "    }\n",
       "\n",
       "    .dataframe thead th {\n",
       "        text-align: right;\n",
       "    }\n",
       "</style>\n",
       "<table border=\"1\" class=\"dataframe\">\n",
       "  <thead>\n",
       "    <tr style=\"text-align: right;\">\n",
       "      <th></th>\n",
       "      <th>id</th>\n",
       "      <th>fixed_acidity</th>\n",
       "      <th>volatile_acidity</th>\n",
       "      <th>citric_acid</th>\n",
       "      <th>residual_sugar</th>\n",
       "      <th>chlorides</th>\n",
       "      <th>free_sulfur_dioxide</th>\n",
       "      <th>total_sulfur_dioxide</th>\n",
       "      <th>density</th>\n",
       "      <th>pH</th>\n",
       "      <th>sulphates</th>\n",
       "      <th>alcohol</th>\n",
       "      <th>quality</th>\n",
       "    </tr>\n",
       "  </thead>\n",
       "  <tbody>\n",
       "    <tr>\n",
       "      <th>0</th>\n",
       "      <td>1</td>\n",
       "      <td>7.4</td>\n",
       "      <td>0.700</td>\n",
       "      <td>0.00</td>\n",
       "      <td>1.9</td>\n",
       "      <td>0.076</td>\n",
       "      <td>11</td>\n",
       "      <td>34</td>\n",
       "      <td>0.99780</td>\n",
       "      <td>3.51</td>\n",
       "      <td>0.56</td>\n",
       "      <td>9.4</td>\n",
       "      <td>5</td>\n",
       "    </tr>\n",
       "    <tr>\n",
       "      <th>1</th>\n",
       "      <td>3</td>\n",
       "      <td>7.8</td>\n",
       "      <td>0.760</td>\n",
       "      <td>0.04</td>\n",
       "      <td>2.3</td>\n",
       "      <td>0.092</td>\n",
       "      <td>15</td>\n",
       "      <td>54</td>\n",
       "      <td>0.99700</td>\n",
       "      <td>3.26</td>\n",
       "      <td>0.65</td>\n",
       "      <td>9.8</td>\n",
       "      <td>5</td>\n",
       "    </tr>\n",
       "    <tr>\n",
       "      <th>2</th>\n",
       "      <td>4</td>\n",
       "      <td>11.2</td>\n",
       "      <td>0.280</td>\n",
       "      <td>0.56</td>\n",
       "      <td>1.9</td>\n",
       "      <td>0.075</td>\n",
       "      <td>17</td>\n",
       "      <td>60</td>\n",
       "      <td>0.99800</td>\n",
       "      <td>3.16</td>\n",
       "      <td>0.58</td>\n",
       "      <td>9.8</td>\n",
       "      <td>6</td>\n",
       "    </tr>\n",
       "    <tr>\n",
       "      <th>3</th>\n",
       "      <td>5</td>\n",
       "      <td>7.4</td>\n",
       "      <td>0.700</td>\n",
       "      <td>0.00</td>\n",
       "      <td>1.9</td>\n",
       "      <td>0.076</td>\n",
       "      <td>11</td>\n",
       "      <td>34</td>\n",
       "      <td>0.99780</td>\n",
       "      <td>3.51</td>\n",
       "      <td>0.56</td>\n",
       "      <td>9.4</td>\n",
       "      <td>5</td>\n",
       "    </tr>\n",
       "    <tr>\n",
       "      <th>4</th>\n",
       "      <td>6</td>\n",
       "      <td>7.4</td>\n",
       "      <td>0.660</td>\n",
       "      <td>0.00</td>\n",
       "      <td>1.8</td>\n",
       "      <td>0.075</td>\n",
       "      <td>13</td>\n",
       "      <td>40</td>\n",
       "      <td>0.99780</td>\n",
       "      <td>3.51</td>\n",
       "      <td>0.56</td>\n",
       "      <td>9.4</td>\n",
       "      <td>5</td>\n",
       "    </tr>\n",
       "    <tr>\n",
       "      <th>...</th>\n",
       "      <td>...</td>\n",
       "      <td>...</td>\n",
       "      <td>...</td>\n",
       "      <td>...</td>\n",
       "      <td>...</td>\n",
       "      <td>...</td>\n",
       "      <td>...</td>\n",
       "      <td>...</td>\n",
       "      <td>...</td>\n",
       "      <td>...</td>\n",
       "      <td>...</td>\n",
       "      <td>...</td>\n",
       "      <td>...</td>\n",
       "    </tr>\n",
       "    <tr>\n",
       "      <th>1218</th>\n",
       "      <td>1351</td>\n",
       "      <td>9.0</td>\n",
       "      <td>0.600</td>\n",
       "      <td>0.29</td>\n",
       "      <td>2.0</td>\n",
       "      <td>0.069</td>\n",
       "      <td>32</td>\n",
       "      <td>73</td>\n",
       "      <td>0.99654</td>\n",
       "      <td>3.34</td>\n",
       "      <td>0.57</td>\n",
       "      <td>10.0</td>\n",
       "      <td>5</td>\n",
       "    </tr>\n",
       "    <tr>\n",
       "      <th>1219</th>\n",
       "      <td>1352</td>\n",
       "      <td>7.2</td>\n",
       "      <td>0.620</td>\n",
       "      <td>0.01</td>\n",
       "      <td>2.3</td>\n",
       "      <td>0.065</td>\n",
       "      <td>8</td>\n",
       "      <td>46</td>\n",
       "      <td>0.99332</td>\n",
       "      <td>3.32</td>\n",
       "      <td>0.51</td>\n",
       "      <td>11.8</td>\n",
       "      <td>6</td>\n",
       "    </tr>\n",
       "    <tr>\n",
       "      <th>1220</th>\n",
       "      <td>1353</td>\n",
       "      <td>7.6</td>\n",
       "      <td>0.645</td>\n",
       "      <td>0.03</td>\n",
       "      <td>1.9</td>\n",
       "      <td>0.086</td>\n",
       "      <td>14</td>\n",
       "      <td>57</td>\n",
       "      <td>0.99690</td>\n",
       "      <td>3.37</td>\n",
       "      <td>0.46</td>\n",
       "      <td>10.3</td>\n",
       "      <td>5</td>\n",
       "    </tr>\n",
       "    <tr>\n",
       "      <th>1221</th>\n",
       "      <td>1354</td>\n",
       "      <td>7.6</td>\n",
       "      <td>0.645</td>\n",
       "      <td>0.03</td>\n",
       "      <td>1.9</td>\n",
       "      <td>0.086</td>\n",
       "      <td>14</td>\n",
       "      <td>57</td>\n",
       "      <td>0.99690</td>\n",
       "      <td>3.37</td>\n",
       "      <td>0.46</td>\n",
       "      <td>10.3</td>\n",
       "      <td>5</td>\n",
       "    </tr>\n",
       "    <tr>\n",
       "      <th>1222</th>\n",
       "      <td>1358</td>\n",
       "      <td>7.3</td>\n",
       "      <td>0.430</td>\n",
       "      <td>0.24</td>\n",
       "      <td>2.5</td>\n",
       "      <td>0.078</td>\n",
       "      <td>27</td>\n",
       "      <td>67</td>\n",
       "      <td>0.99648</td>\n",
       "      <td>3.60</td>\n",
       "      <td>0.59</td>\n",
       "      <td>11.1</td>\n",
       "      <td>6</td>\n",
       "    </tr>\n",
       "  </tbody>\n",
       "</table>\n",
       "<p>1223 rows × 13 columns</p>\n",
       "</div>"
      ],
      "text/plain": [
       "        id  fixed_acidity  volatile_acidity  citric_acid  residual_sugar  \\\n",
       "0        1            7.4             0.700         0.00             1.9   \n",
       "1        3            7.8             0.760         0.04             2.3   \n",
       "2        4           11.2             0.280         0.56             1.9   \n",
       "3        5            7.4             0.700         0.00             1.9   \n",
       "4        6            7.4             0.660         0.00             1.8   \n",
       "...    ...            ...               ...          ...             ...   \n",
       "1218  1351            9.0             0.600         0.29             2.0   \n",
       "1219  1352            7.2             0.620         0.01             2.3   \n",
       "1220  1353            7.6             0.645         0.03             1.9   \n",
       "1221  1354            7.6             0.645         0.03             1.9   \n",
       "1222  1358            7.3             0.430         0.24             2.5   \n",
       "\n",
       "      chlorides  free_sulfur_dioxide  total_sulfur_dioxide  density    pH  \\\n",
       "0         0.076                   11                    34  0.99780  3.51   \n",
       "1         0.092                   15                    54  0.99700  3.26   \n",
       "2         0.075                   17                    60  0.99800  3.16   \n",
       "3         0.076                   11                    34  0.99780  3.51   \n",
       "4         0.075                   13                    40  0.99780  3.51   \n",
       "...         ...                  ...                   ...      ...   ...   \n",
       "1218      0.069                   32                    73  0.99654  3.34   \n",
       "1219      0.065                    8                    46  0.99332  3.32   \n",
       "1220      0.086                   14                    57  0.99690  3.37   \n",
       "1221      0.086                   14                    57  0.99690  3.37   \n",
       "1222      0.078                   27                    67  0.99648  3.60   \n",
       "\n",
       "      sulphates  alcohol  quality  \n",
       "0          0.56      9.4        5  \n",
       "1          0.65      9.8        5  \n",
       "2          0.58      9.8        6  \n",
       "3          0.56      9.4        5  \n",
       "4          0.56      9.4        5  \n",
       "...         ...      ...      ...  \n",
       "1218       0.57     10.0        5  \n",
       "1219       0.51     11.8        6  \n",
       "1220       0.46     10.3        5  \n",
       "1221       0.46     10.3        5  \n",
       "1222       0.59     11.1        6  \n",
       "\n",
       "[1223 rows x 13 columns]"
      ]
     },
     "execution_count": 30,
     "metadata": {},
     "output_type": "execute_result"
    }
   ],
   "outputs_reference": "s3:deepnote-cell-outputs-production/9175bb98-a1f7-4b0f-91d9-78faf3903d73",
   "source": [
    "import pandas as pd\n",
    "import numpy as np\n",
    "\n",
    "df = pd.read_csv('winequality-red.csv')\n",
    "df.drop(\"Unnamed: 0\", axis=1, inplace=True)\n",
    "df.drop(\"Outlier\", axis=1, inplace=True)\n",
    "df"
   ]
  },
  {
   "block_group": "b83ba5c9c4b34afaa6832b54e1dd6955",
   "cell_type": "markdown",
   "metadata": {
    "cell_id": "c50b641874e34b668045d26df9c5d98a",
    "deepnote_cell_type": "text-cell-h1",
    "formattedRanges": []
   },
   "source": [
    "# Bagging Classifier"
   ]
  },
  {
   "block_group": "465ac5927cd24f92a2d60777f2a378c2",
   "cell_type": "code",
   "content_dependencies": null,
   "execution_count": null,
   "metadata": {
    "cell_id": "df3968ffb800484386ff2bbdbd358877",
    "deepnote_cell_type": "code",
    "deepnote_to_be_reexecuted": false,
    "execution_millis": 468,
    "execution_start": 1718197907646,
    "source_hash": null
   },
   "outputs": [
    {
     "name": "stdout",
     "output_type": "stream",
     "text": [
      "Prediction for estimator 1: 6\n",
      "Estimator 1 accuracy: 0.4245\n",
      "Prediction for estimator 2: 7\n",
      "Estimator 2 accuracy: 0.5551\n",
      "Prediction for estimator 3: 6\n",
      "Estimator 3 accuracy: 0.3837\n",
      "Prediction for estimator 4: 6\n",
      "Estimator 4 accuracy: 0.4571\n",
      "Prediction for estimator 5: 6\n",
      "Estimator 5 accuracy: 0.4816\n",
      "Prediction for estimator 6: 5\n",
      "Estimator 6 accuracy: 0.4490\n",
      "Prediction for estimator 7: 7\n",
      "Estimator 7 accuracy: 0.2041\n",
      "Prediction for estimator 8: 6\n",
      "Estimator 8 accuracy: 0.5184\n",
      "Prediction for estimator 9: 6\n",
      "Estimator 9 accuracy: 0.3673\n",
      "Prediction for estimator 10: 7\n",
      "Estimator 10 accuracy: 0.2694\n",
      "Prediction for estimator 11: 4\n",
      "Estimator 11 accuracy: 0.1469\n",
      "Prediction for estimator 12: 5\n",
      "Estimator 12 accuracy: 0.5020\n",
      "Prediction for estimator 13: 7\n",
      "Estimator 13 accuracy: 0.3143\n",
      "Prediction for estimator 14: 5\n",
      "/shared-libs/python3.11/py/lib/python3.11/site-packages/sklearn/base.py:465: UserWarning: X does not have valid feature names, but GaussianNB was fitted with feature names\n",
      "  warnings.warn(\n",
      "/shared-libs/python3.11/py/lib/python3.11/site-packages/sklearn/base.py:465: UserWarning: X does not have valid feature names, but GaussianNB was fitted with feature names\n",
      "  warnings.warn(\n",
      "/shared-libs/python3.11/py/lib/python3.11/site-packages/sklearn/base.py:465: UserWarning: X does not have valid feature names, but GaussianNB was fitted with feature names\n",
      "  warnings.warn(\n",
      "/shared-libs/python3.11/py/lib/python3.11/site-packages/sklearn/base.py:465: UserWarning: X does not have valid feature names, but GaussianNB was fitted with feature names\n",
      "  warnings.warn(\n",
      "/shared-libs/python3.11/py/lib/python3.11/site-packages/sklearn/base.py:465: UserWarning: X does not have valid feature names, but GaussianNB was fitted with feature names\n",
      "  warnings.warn(\n",
      "/shared-libs/python3.11/py/lib/python3.11/site-packages/sklearn/base.py:465: UserWarning: X does not have valid feature names, but GaussianNB was fitted with feature names\n",
      "  warnings.warn(\n",
      "/shared-libs/python3.11/py/lib/python3.11/site-packages/sklearn/base.py:465: UserWarning: X does not have valid feature names, but GaussianNB was fitted with feature names\n",
      "  warnings.warn(\n",
      "/shared-libs/python3.11/py/lib/python3.11/site-packages/sklearn/base.py:465: UserWarning: X does not have valid feature names, but GaussianNB was fitted with feature names\n",
      "  warnings.warn(\n",
      "/shared-libs/python3.11/py/lib/python3.11/site-packages/sklearn/base.py:465: UserWarning: X does not have valid feature names, but GaussianNB was fitted with feature names\n",
      "  warnings.warn(\n",
      "/shared-libs/python3.11/py/lib/python3.11/site-packages/sklearn/base.py:465: UserWarning: X does not have valid feature names, but GaussianNB was fitted with feature names\n",
      "  warnings.warn(\n",
      "/shared-libs/python3.11/py/lib/python3.11/site-packages/sklearn/base.py:465: UserWarning: X does not have valid feature names, but GaussianNB was fitted with feature names\n",
      "  warnings.warn(\n",
      "/shared-libs/python3.11/py/lib/python3.11/site-packages/sklearn/base.py:465: UserWarning: X does not have valid feature names, but GaussianNB was fitted with feature names\n",
      "  warnings.warn(\n",
      "/shared-libs/python3.11/py/lib/python3.11/site-packages/sklearn/base.py:465: UserWarning: X does not have valid feature names, but GaussianNB was fitted with feature names\n",
      "  warnings.warn(\n",
      "/shared-libs/python3.11/py/lib/python3.11/site-packages/sklearn/base.py:465: UserWarning: X does not have valid feature names, but GaussianNB was fitted with feature names\n",
      "  warnings.warn(\n",
      "Estimator 14 accuracy: 0.5306\n",
      "Prediction for estimator 15: 6\n",
      "Estimator 15 accuracy: 0.4367\n",
      "Prediction for estimator 16: 6\n",
      "Estimator 16 accuracy: 0.4612\n",
      "Prediction for estimator 17: 6\n",
      "Estimator 17 accuracy: 0.4816\n",
      "Prediction for estimator 18: 6\n",
      "Estimator 18 accuracy: 0.5673\n",
      "Prediction for estimator 19: 6\n",
      "Estimator 19 accuracy: 0.4082\n",
      "Prediction for estimator 20: 6\n",
      "Estimator 20 accuracy: 0.3469\n",
      "Majority vote prediction for new data: 6\n",
      "Jumlah prediksi kelas 0: 0\n",
      "Jumlah prediksi kelas 1: 0\n",
      "Jumlah prediksi kelas 2: 0\n",
      "Jumlah prediksi kelas 3: 0\n",
      "Jumlah prediksi kelas 4: 1\n",
      "Jumlah prediksi kelas 5: 3\n",
      "Jumlah prediksi kelas 6: 12\n",
      "Jumlah prediksi kelas 7: 4\n",
      "Average accuracy of all estimators: 0.4153\n",
      "/shared-libs/python3.11/py/lib/python3.11/site-packages/sklearn/base.py:465: UserWarning: X does not have valid feature names, but GaussianNB was fitted with feature names\n",
      "  warnings.warn(\n",
      "/shared-libs/python3.11/py/lib/python3.11/site-packages/sklearn/base.py:465: UserWarning: X does not have valid feature names, but GaussianNB was fitted with feature names\n",
      "  warnings.warn(\n",
      "/shared-libs/python3.11/py/lib/python3.11/site-packages/sklearn/base.py:465: UserWarning: X does not have valid feature names, but GaussianNB was fitted with feature names\n",
      "  warnings.warn(\n",
      "/shared-libs/python3.11/py/lib/python3.11/site-packages/sklearn/base.py:465: UserWarning: X does not have valid feature names, but GaussianNB was fitted with feature names\n",
      "  warnings.warn(\n",
      "/shared-libs/python3.11/py/lib/python3.11/site-packages/sklearn/base.py:465: UserWarning: X does not have valid feature names, but GaussianNB was fitted with feature names\n",
      "  warnings.warn(\n",
      "/shared-libs/python3.11/py/lib/python3.11/site-packages/sklearn/base.py:465: UserWarning: X does not have valid feature names, but GaussianNB was fitted with feature names\n",
      "  warnings.warn(\n"
     ]
    }
   ],
   "outputs_reference": "s3:deepnote-cell-outputs-production/884b2ac2-1f22-4960-9c42-2d6e64dde7b9",
   "source": [
    "import pandas as pd\n",
    "import numpy as np\n",
    "from sklearn.naive_bayes import GaussianNB\n",
    "from sklearn.model_selection import train_test_split\n",
    "from sklearn.metrics import accuracy_score\n",
    "\n",
    "# Memuat dataset\n",
    "df = pd.read_csv('winequality-red.csv')\n",
    "\n",
    "# Menghapus kolom yang tidak relevan jika ada\n",
    "if 'Unnamed: 0' in df.columns:\n",
    "    df.drop(\"Unnamed: 0\", axis=1, inplace=True)\n",
    "if 'Outlier' in df.columns:\n",
    "    df.drop(\"Outlier\", axis=1, inplace=True)\n",
    "\n",
    "# Memisahkan fitur dan target\n",
    "X = df[['fixed_acidity','volatile_acidity','citric_acid','residual_sugar','chlorides',\n",
    "        'free_sulfur_dioxide','total_sulfur_dioxide','density','pH','sulphates','alcohol']]\n",
    "y = df['quality']\n",
    "\n",
    "# Membagi dataset menjadi data pelatihan dan pengujian\n",
    "X_train, X_test, y_train, y_test = train_test_split(X, y, test_size=0.2, random_state=25)\n",
    "\n",
    "# Parameter bagging\n",
    "n_estimators = 20\n",
    "n_samples = int(len(X_train) / n_estimators)\n",
    "\n",
    "# Inisialisasi list untuk menyimpan model dan akurasi\n",
    "estimators = []\n",
    "accuracies = []\n",
    "pred = []\n",
    "X_new = [[5.6, 0.5, 0.09, 2.3, 0.049, 17, 99, 0.9937, 3.63, 0.63, 13]]\n",
    "\n",
    "np.random.seed(0)\n",
    "\n",
    "# Membuat model Gaussian Naive Bayes untuk setiap subset\n",
    "for i in range(n_estimators):\n",
    "    # Membuat bootstrap sample\n",
    "    bootstrap_indices = np.random.randint(0, len(X_train), n_samples)\n",
    "    X_train_bootstrap = X_train.iloc[bootstrap_indices]\n",
    "    y_train_bootstrap = y_train.iloc[bootstrap_indices]\n",
    "    \n",
    "    # Melatih model\n",
    "    gnb_model = GaussianNB()\n",
    "    gnb_model.fit(X_train_bootstrap, y_train_bootstrap)\n",
    "    estimators.append(gnb_model)\n",
    "    \n",
    "    # Evaluasi model    \n",
    "    bebas = gnb_model.predict(X_new)\n",
    "    pred.append(bebas[0])  # Mengambil nilai prediksi dan menyimpannya di list pred\n",
    "    print(f\"Prediction for estimator {i + 1}: {bebas[0]}\")\n",
    "    \n",
    "    y_pred = gnb_model.predict(X_test)\n",
    "    accuracy = accuracy_score(y_test, y_pred)\n",
    "    accuracies.append(accuracy)\n",
    "    print(f\"Estimator {i + 1} accuracy: {accuracy:.4f}\")\n",
    "\n",
    "# Majority vote untuk prediksi data baru\n",
    "pred_majority_vote = np.bincount(pred).argmax()\n",
    "print(f\"Majority vote prediction for new data: {pred_majority_vote}\")\n",
    "\n",
    "# Menghitung jumlah dari masing-masing kelas dalam pred\n",
    "class_counts = np.bincount(pred)\n",
    "for class_label in range(len(class_counts)):\n",
    "    print(f\"Jumlah prediksi kelas {class_label}: {class_counts[class_label]}\")\n",
    "\n",
    "# Menghitung rata-rata akurasi dari semua estimators\n",
    "average_accuracy = np.mean(accuracies)\n",
    "print(f\"Average accuracy of all estimators: {average_accuracy:.4f}\")\n"
   ]
  },
  {
   "block_group": "12c71a30724c4592916f7ad5fb857245",
   "cell_type": "code",
   "content_dependencies": null,
   "execution_count": null,
   "metadata": {
    "cell_id": "9501ba91e9864cefb071ff03de3ffa30",
    "deepnote_cell_type": "code",
    "deepnote_to_be_reexecuted": false,
    "execution_millis": 668,
    "execution_start": 1718199242549,
    "source_hash": null
   },
   "outputs": [
    {
     "name": "stderr",
     "output_type": "stream",
     "text": [
      "/shared-libs/python3.11/py/lib/python3.11/site-packages/sklearn/ensemble/_base.py:156: FutureWarning: `base_estimator` was renamed to `estimator` in version 1.2 and will be removed in 1.4.\n",
      "  warnings.warn(\n",
      "/shared-libs/python3.11/py/lib/python3.11/site-packages/sklearn/ensemble/_base.py:156: FutureWarning: `base_estimator` was renamed to `estimator` in version 1.2 and will be removed in 1.4.\n",
      "  warnings.warn(\n",
      "/shared-libs/python3.11/py/lib/python3.11/site-packages/sklearn/ensemble/_base.py:156: FutureWarning: `base_estimator` was renamed to `estimator` in version 1.2 and will be removed in 1.4.\n",
      "  warnings.warn(\n",
      "/shared-libs/python3.11/py/lib/python3.11/site-packages/sklearn/ensemble/_base.py:156: FutureWarning: `base_estimator` was renamed to `estimator` in version 1.2 and will be removed in 1.4.\n",
      "  warnings.warn(\n",
      "/shared-libs/python3.11/py/lib/python3.11/site-packages/sklearn/ensemble/_base.py:156: FutureWarning: `base_estimator` was renamed to `estimator` in version 1.2 and will be removed in 1.4.\n",
      "  warnings.warn(\n",
      "/shared-libs/python3.11/py/lib/python3.11/site-packages/sklearn/ensemble/_base.py:156: FutureWarning: `base_estimator` was renamed to `estimator` in version 1.2 and will be removed in 1.4.\n",
      "  warnings.warn(\n",
      "/shared-libs/python3.11/py/lib/python3.11/site-packages/sklearn/ensemble/_base.py:156: FutureWarning: `base_estimator` was renamed to `estimator` in version 1.2 and will be removed in 1.4.\n",
      "  warnings.warn(\n",
      "/shared-libs/python3.11/py/lib/python3.11/site-packages/sklearn/ensemble/_base.py:156: FutureWarning: `base_estimator` was renamed to `estimator` in version 1.2 and will be removed in 1.4.\n",
      "  warnings.warn(\n",
      "/shared-libs/python3.11/py/lib/python3.11/site-packages/sklearn/ensemble/_base.py:156: FutureWarning: `base_estimator` was renamed to `estimator` in version 1.2 and will be removed in 1.4.\n",
      "  warnings.warn(\n",
      "/shared-libs/python3.11/py/lib/python3.11/site-packages/sklearn/ensemble/_base.py:156: FutureWarning: `base_estimator` was renamed to `estimator` in version 1.2 and will be removed in 1.4.\n",
      "  warnings.warn(\n",
      "/shared-libs/python3.11/py/lib/python3.11/site-packages/sklearn/ensemble/_base.py:156: FutureWarning: `base_estimator` was renamed to `estimator` in version 1.2 and will be removed in 1.4.\n",
      "  warnings.warn(\n",
      "n_estimators: 3, Accuracy: 0.13\n",
      "n_estimators: 4, Accuracy: 0.11\n",
      "n_estimators: 5, Accuracy: 0.11\n",
      "n_estimators: 6, Accuracy: 0.12\n",
      "n_estimators: 7, Accuracy: 0.11\n",
      "n_estimators: 8, Accuracy: 0.11\n",
      "n_estimators: 9, Accuracy: 0.11\n",
      "n_estimators: 10, Accuracy: 0.11\n",
      "n_estimators: 11, Accuracy: 0.10\n",
      "n_estimators: 12, Accuracy: 0.10\n",
      "n_estimators: 13, Accuracy: 0.11\n",
      "n_estimators: 14, Accuracy: 0.11\n",
      "n_estimators: 15, Accuracy: 0.09\n",
      "n_estimators: 16, Accuracy: 0.10\n",
      "n_estimators: 17, Accuracy: 0.09\n",
      "n_estimators: 18, Accuracy: 0.09\n",
      "/shared-libs/python3.11/py/lib/python3.11/site-packages/sklearn/ensemble/_base.py:156: FutureWarning: `base_estimator` was renamed to `estimator` in version 1.2 and will be removed in 1.4.\n",
      "  warnings.warn(\n",
      "/shared-libs/python3.11/py/lib/python3.11/site-packages/sklearn/ensemble/_base.py:156: FutureWarning: `base_estimator` was renamed to `estimator` in version 1.2 and will be removed in 1.4.\n",
      "  warnings.warn(\n",
      "/shared-libs/python3.11/py/lib/python3.11/site-packages/sklearn/ensemble/_base.py:156: FutureWarning: `base_estimator` was renamed to `estimator` in version 1.2 and will be removed in 1.4.\n",
      "  warnings.warn(\n",
      "/shared-libs/python3.11/py/lib/python3.11/site-packages/sklearn/ensemble/_base.py:156: FutureWarning: `base_estimator` was renamed to `estimator` in version 1.2 and will be removed in 1.4.\n",
      "  warnings.warn(\n",
      "/shared-libs/python3.11/py/lib/python3.11/site-packages/sklearn/ensemble/_base.py:156: FutureWarning: `base_estimator` was renamed to `estimator` in version 1.2 and will be removed in 1.4.\n",
      "  warnings.warn(\n",
      "/shared-libs/python3.11/py/lib/python3.11/site-packages/sklearn/ensemble/_base.py:156: FutureWarning: `base_estimator` was renamed to `estimator` in version 1.2 and will be removed in 1.4.\n",
      "  warnings.warn(\n",
      "n_estimators: 19, Accuracy: 0.10\n",
      "n_estimators: 20, Accuracy: 0.09\n",
      "/shared-libs/python3.11/py/lib/python3.11/site-packages/sklearn/ensemble/_base.py:156: FutureWarning: `base_estimator` was renamed to `estimator` in version 1.2 and will be removed in 1.4.\n",
      "  warnings.warn(\n"
     ]
    },
    {
     "data": {
      "image/png": "[encoded data removed]",
      "text/plain": [
       "<Figure size 640x480 with 1 Axes>"
      ]
     },
     "metadata": {
      "image/png": {
       "height": 455,
       "width": 584
      }
     },
     "output_type": "display_data"
    }
   ],
   "outputs_reference": "s3:deepnote-cell-outputs-production/3b53d10f-cc86-43bb-9236-244c432662e4",
   "source": [
    "import numpy as np\n",
    "import matplotlib.pyplot as plt  # Added\n",
    "from sklearn.model_selection import train_test_split\n",
    "from sklearn.ensemble import BaggingClassifier\n",
    "from sklearn.naive_bayes import GaussianNB\n",
    "from sklearn.datasets import make_classification\n",
    "from sklearn.metrics import accuracy_score\n",
    "import warnings\n",
    "\n",
    "# Suppress the DataConversionWarning\n",
    "from sklearn.exceptions import DataConversionWarning\n",
    "warnings.filterwarnings(action='ignore', category=DataConversionWarning)\n",
    "\n",
    "# Split the dataset into training (80%) and testing (20%)\n",
    "X_train, X_test, y_train, y_test = train_test_split(X, y, test_size=0.2, random_state=0)\n",
    "\n",
    "akurasi = []\n",
    "n_est = []\n",
    "\n",
    "# Loop over n_estimators from 3 to 20\n",
    "for n_estimator in range(3, 21):\n",
    "    # Initialize and fit the BaggingClassifier with GaussianNB as the base estimator\n",
    "    clf = BaggingClassifier(base_estimator=GaussianNB(), n_estimators=n_estimator, random_state=0)\n",
    "    clf.fit(X_train, y_train)\n",
    "    \n",
    "    # Predict the labels for the test set\n",
    "    y_pred = clf.predict(X_test)\n",
    "    \n",
    "    # Calculate and print the accuracy\n",
    "    accuracy = accuracy_score(y_test, y_pred)\n",
    "    akurasi.append(round(accuracy,2))\n",
    "    n_est.append(n_estimator)\n",
    "    print(f\"n_estimators: {n_estimator}, Accuracy: {accuracy:.2f}\")\n",
    "\n",
    "# Plotting the results\n",
    "plt.plot(n_est, akurasi, marker='o')\n",
    "plt.title('Accuracy vs. Number of Estimators')\n",
    "plt.xlabel('Number of Estimators')\n",
    "plt.ylabel('Accuracy')\n",
    "plt.grid(True)\n",
    "plt.show()\n"
   ]
  },
  {
   "cell_type": "markdown",
   "metadata": {
    "created_in_deepnote_cell": true,
    "deepnote_cell_type": "markdown"
   },
   "source": [
    "<a style='text-decoration:none;line-height:16px;display:flex;color:#5B5B62;padding:10px;justify-content:end;' href='https://deepnote.com?utm_source=created-in-deepnote-cell&projectId=b5b753c0-d20f-47b0-83d8-f944f2a8d374' target=\"_blank\">\n",
    "<img alt='Created in deepnote.com' style='display:inline;max-height:16px;margin:0px;margin-right:7.5px;' src='data:image/svg+xml;base64,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' > </img>\n",
    "Created in <span style='font-weight:600;margin-left:4px;'>Deepnote</span></a>"
   ]
  }
 ],
 "metadata": {
  "deepnote_execution_queue": [],
  "deepnote_notebook_id": "a8eb2cf3b2fe4008a7f0cd2d23be2e63",
  "deepnote_persisted_session": {
   "createdAt": "2024-06-12T14:00:50.558Z"
  },
  "language_info": {
   "codemirror_mode": {
    "name": "ipython",
    "version": 3
   },
   "file_extension": ".py",
   "mimetype": "text/x-python",
   "name": "python",
   "nbconvert_exporter": "python",
   "pygments_lexer": "ipython3",
   "version": "3.12.4"
  }
 },
 "nbformat": 4,
 "nbformat_minor": 0
}